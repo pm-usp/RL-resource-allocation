{
  "nbformat": 4,
  "nbformat_minor": 0,
  "metadata": {
    "colab": {
      "name": "BPI Challenge 2012 - 02RL",
      "provenance": [],
      "collapsed_sections": [
        "4ZnmQCXGIYCx",
        "AQaYePbOIfcP",
        "puTghi3NrJoL",
        "Wb8Grf25rWDM",
        "PBvzFD0QIbo9",
        "xTIir-cwsBbb",
        "xdtCcHWPsMOt",
        "viuKCYaAsaC7",
        "gN2p3hGHsmcS",
        "g7aTVLAkstT5",
        "onPLFimRKNuu",
        "N5bJ1Dn4_zp3",
        "mkWkwVCGoD4x",
        "qumKazGOoJe5"
      ]
    },
    "kernelspec": {
      "display_name": "Python 3",
      "name": "python3"
    },
    "language_info": {
      "name": "python"
    }
  },
  "cells": [
    {
      "cell_type": "markdown",
      "metadata": {
        "id": "4ZnmQCXGIYCx"
      },
      "source": [
        "# Inicialização do ambiente"
      ]
    },
    {
      "cell_type": "markdown",
      "metadata": {
        "id": "AQaYePbOIfcP"
      },
      "source": [
        "## Importando as bibliotecas"
      ]
    },
    {
      "cell_type": "code",
      "metadata": {
        "id": "fIIN7pG88qMx"
      },
      "source": [
        "import sys\n",
        "import csv\n",
        "import math\n",
        "import time\n",
        "import random\n",
        "import numpy as np\n",
        "import pandas as pd\n",
        "import plotly.express as px\n",
        "from google.colab import files\n",
        "from sklearn.neural_network import MLPRegressor\n",
        "from sklearn.ensemble import RandomForestRegressor\n",
        "from sklearn.linear_model import LinearRegression\n",
        "from sklearn.preprocessing import StandardScaler"
      ],
      "execution_count": null,
      "outputs": []
    },
    {
      "cell_type": "code",
      "metadata": {
        "id": "BZOCwde1qzB0",
        "colab": {
          "base_uri": "https://localhost:8080/"
        },
        "outputId": "3229fffc-5448-4bfb-ad6c-87472cbbc9c9"
      },
      "source": [
        "pip install neupy"
      ],
      "execution_count": null,
      "outputs": [
        {
          "output_type": "stream",
          "text": [
            "Collecting neupy\n",
            "  Downloading neupy-0.8.2-py2.py3-none-any.whl (226 kB)\n",
            "\u001b[?25l\r\u001b[K     |█▌                              | 10 kB 20.1 MB/s eta 0:00:01\r\u001b[K     |███                             | 20 kB 16.7 MB/s eta 0:00:01\r\u001b[K     |████▍                           | 30 kB 11.4 MB/s eta 0:00:01\r\u001b[K     |█████▉                          | 40 kB 9.7 MB/s eta 0:00:01\r\u001b[K     |███████▎                        | 51 kB 5.4 MB/s eta 0:00:01\r\u001b[K     |████████▊                       | 61 kB 5.3 MB/s eta 0:00:01\r\u001b[K     |██████████▏                     | 71 kB 5.9 MB/s eta 0:00:01\r\u001b[K     |███████████▋                    | 81 kB 6.2 MB/s eta 0:00:01\r\u001b[K     |█████████████                   | 92 kB 4.8 MB/s eta 0:00:01\r\u001b[K     |██████████████▌                 | 102 kB 5.2 MB/s eta 0:00:01\r\u001b[K     |████████████████                | 112 kB 5.2 MB/s eta 0:00:01\r\u001b[K     |█████████████████▍              | 122 kB 5.2 MB/s eta 0:00:01\r\u001b[K     |██████████████████▉             | 133 kB 5.2 MB/s eta 0:00:01\r\u001b[K     |████████████████████▎           | 143 kB 5.2 MB/s eta 0:00:01\r\u001b[K     |█████████████████████▊          | 153 kB 5.2 MB/s eta 0:00:01\r\u001b[K     |███████████████████████▏        | 163 kB 5.2 MB/s eta 0:00:01\r\u001b[K     |████████████████████████▋       | 174 kB 5.2 MB/s eta 0:00:01\r\u001b[K     |██████████████████████████      | 184 kB 5.2 MB/s eta 0:00:01\r\u001b[K     |███████████████████████████▌    | 194 kB 5.2 MB/s eta 0:00:01\r\u001b[K     |█████████████████████████████   | 204 kB 5.2 MB/s eta 0:00:01\r\u001b[K     |██████████████████████████████▍ | 215 kB 5.2 MB/s eta 0:00:01\r\u001b[K     |███████████████████████████████▉| 225 kB 5.2 MB/s eta 0:00:01\r\u001b[K     |████████████████████████████████| 226 kB 5.2 MB/s \n",
            "\u001b[?25hRequirement already satisfied: matplotlib>=1.5.1 in /usr/local/lib/python3.7/dist-packages (from neupy) (3.2.2)\n",
            "Requirement already satisfied: scipy>=0.19.0 in /usr/local/lib/python3.7/dist-packages (from neupy) (1.4.1)\n",
            "Requirement already satisfied: h5py in /usr/local/lib/python3.7/dist-packages (from neupy) (3.1.0)\n",
            "Collecting graphviz==0.5.1\n",
            "  Downloading graphviz-0.5.1-py2.py3-none-any.whl (14 kB)\n",
            "Collecting tensorflow<1.14.0,>=1.10.1\n",
            "  Downloading tensorflow-1.13.2-cp37-cp37m-manylinux1_x86_64.whl (92.7 MB)\n",
            "\u001b[K     |████████████████████████████████| 92.7 MB 27 kB/s \n",
            "\u001b[?25hRequirement already satisfied: numpy>=1.13.3 in /usr/local/lib/python3.7/dist-packages (from neupy) (1.19.5)\n",
            "Collecting progressbar2==3.34.3\n",
            "  Downloading progressbar2-3.34.3-py2.py3-none-any.whl (25 kB)\n",
            "Requirement already satisfied: python-utils>=2.1.0 in /usr/local/lib/python3.7/dist-packages (from progressbar2==3.34.3->neupy) (2.5.6)\n",
            "Requirement already satisfied: cycler>=0.10 in /usr/local/lib/python3.7/dist-packages (from matplotlib>=1.5.1->neupy) (0.10.0)\n",
            "Requirement already satisfied: pyparsing!=2.0.4,!=2.1.2,!=2.1.6,>=2.0.1 in /usr/local/lib/python3.7/dist-packages (from matplotlib>=1.5.1->neupy) (2.4.7)\n",
            "Requirement already satisfied: kiwisolver>=1.0.1 in /usr/local/lib/python3.7/dist-packages (from matplotlib>=1.5.1->neupy) (1.3.1)\n",
            "Requirement already satisfied: python-dateutil>=2.1 in /usr/local/lib/python3.7/dist-packages (from matplotlib>=1.5.1->neupy) (2.8.2)\n",
            "Requirement already satisfied: six in /usr/local/lib/python3.7/dist-packages (from cycler>=0.10->matplotlib>=1.5.1->neupy) (1.15.0)\n",
            "Collecting keras-applications>=1.0.6\n",
            "  Downloading Keras_Applications-1.0.8-py3-none-any.whl (50 kB)\n",
            "\u001b[K     |████████████████████████████████| 50 kB 6.4 MB/s \n",
            "\u001b[?25hRequirement already satisfied: astor>=0.6.0 in /usr/local/lib/python3.7/dist-packages (from tensorflow<1.14.0,>=1.10.1->neupy) (0.8.1)\n",
            "Collecting tensorboard<1.14.0,>=1.13.0\n",
            "  Downloading tensorboard-1.13.1-py3-none-any.whl (3.2 MB)\n",
            "\u001b[K     |████████████████████████████████| 3.2 MB 59.6 MB/s \n",
            "\u001b[?25hRequirement already satisfied: termcolor>=1.1.0 in /usr/local/lib/python3.7/dist-packages (from tensorflow<1.14.0,>=1.10.1->neupy) (1.1.0)\n",
            "Requirement already satisfied: gast>=0.2.0 in /usr/local/lib/python3.7/dist-packages (from tensorflow<1.14.0,>=1.10.1->neupy) (0.4.0)\n",
            "Requirement already satisfied: absl-py>=0.1.6 in /usr/local/lib/python3.7/dist-packages (from tensorflow<1.14.0,>=1.10.1->neupy) (0.12.0)\n",
            "Requirement already satisfied: wheel>=0.26 in /usr/local/lib/python3.7/dist-packages (from tensorflow<1.14.0,>=1.10.1->neupy) (0.37.0)\n",
            "Requirement already satisfied: protobuf>=3.6.1 in /usr/local/lib/python3.7/dist-packages (from tensorflow<1.14.0,>=1.10.1->neupy) (3.17.3)\n",
            "Collecting tensorflow-estimator<1.14.0rc0,>=1.13.0\n",
            "  Downloading tensorflow_estimator-1.13.0-py2.py3-none-any.whl (367 kB)\n",
            "\u001b[K     |████████████████████████████████| 367 kB 75.7 MB/s \n",
            "\u001b[?25hRequirement already satisfied: grpcio>=1.8.6 in /usr/local/lib/python3.7/dist-packages (from tensorflow<1.14.0,>=1.10.1->neupy) (1.39.0)\n",
            "Requirement already satisfied: keras-preprocessing>=1.0.5 in /usr/local/lib/python3.7/dist-packages (from tensorflow<1.14.0,>=1.10.1->neupy) (1.1.2)\n",
            "Requirement already satisfied: markdown>=2.6.8 in /usr/local/lib/python3.7/dist-packages (from tensorboard<1.14.0,>=1.13.0->tensorflow<1.14.0,>=1.10.1->neupy) (3.3.4)\n",
            "Requirement already satisfied: werkzeug>=0.11.15 in /usr/local/lib/python3.7/dist-packages (from tensorboard<1.14.0,>=1.13.0->tensorflow<1.14.0,>=1.10.1->neupy) (1.0.1)\n",
            "Requirement already satisfied: importlib-metadata in /usr/local/lib/python3.7/dist-packages (from markdown>=2.6.8->tensorboard<1.14.0,>=1.13.0->tensorflow<1.14.0,>=1.10.1->neupy) (4.6.4)\n",
            "Collecting mock>=2.0.0\n",
            "  Downloading mock-4.0.3-py3-none-any.whl (28 kB)\n",
            "Requirement already satisfied: cached-property in /usr/local/lib/python3.7/dist-packages (from h5py->neupy) (1.5.2)\n",
            "Requirement already satisfied: zipp>=0.5 in /usr/local/lib/python3.7/dist-packages (from importlib-metadata->markdown>=2.6.8->tensorboard<1.14.0,>=1.13.0->tensorflow<1.14.0,>=1.10.1->neupy) (3.5.0)\n",
            "Requirement already satisfied: typing-extensions>=3.6.4 in /usr/local/lib/python3.7/dist-packages (from importlib-metadata->markdown>=2.6.8->tensorboard<1.14.0,>=1.13.0->tensorflow<1.14.0,>=1.10.1->neupy) (3.7.4.3)\n",
            "Installing collected packages: mock, tensorflow-estimator, tensorboard, keras-applications, tensorflow, progressbar2, graphviz, neupy\n",
            "  Attempting uninstall: tensorflow-estimator\n",
            "    Found existing installation: tensorflow-estimator 2.6.0\n",
            "    Uninstalling tensorflow-estimator-2.6.0:\n",
            "      Successfully uninstalled tensorflow-estimator-2.6.0\n",
            "  Attempting uninstall: tensorboard\n",
            "    Found existing installation: tensorboard 2.6.0\n",
            "    Uninstalling tensorboard-2.6.0:\n",
            "      Successfully uninstalled tensorboard-2.6.0\n",
            "  Attempting uninstall: tensorflow\n",
            "    Found existing installation: tensorflow 2.6.0\n",
            "    Uninstalling tensorflow-2.6.0:\n",
            "      Successfully uninstalled tensorflow-2.6.0\n",
            "  Attempting uninstall: progressbar2\n",
            "    Found existing installation: progressbar2 3.38.0\n",
            "    Uninstalling progressbar2-3.38.0:\n",
            "      Successfully uninstalled progressbar2-3.38.0\n",
            "  Attempting uninstall: graphviz\n",
            "    Found existing installation: graphviz 0.10.1\n",
            "    Uninstalling graphviz-0.10.1:\n",
            "      Successfully uninstalled graphviz-0.10.1\n",
            "\u001b[31mERROR: pip's dependency resolver does not currently take into account all the packages that are installed. This behaviour is the source of the following dependency conflicts.\n",
            "kapre 0.3.5 requires tensorflow>=2.0.0, but you have tensorflow 1.13.2 which is incompatible.\u001b[0m\n",
            "Successfully installed graphviz-0.5.1 keras-applications-1.0.8 mock-4.0.3 neupy-0.8.2 progressbar2-3.34.3 tensorboard-1.13.1 tensorflow-1.13.2 tensorflow-estimator-1.13.0\n"
          ],
          "name": "stdout"
        }
      ]
    },
    {
      "cell_type": "code",
      "metadata": {
        "id": "yXeO2-sgq5NQ",
        "colab": {
          "base_uri": "https://localhost:8080/"
        },
        "outputId": "a5892e5b-181d-412d-9557-5d0b74fb2db4"
      },
      "source": [
        "import numpy as np\n",
        "from neupy import algorithms\n",
        "from neupy.layers import *"
      ],
      "execution_count": null,
      "outputs": [
        {
          "output_type": "stream",
          "text": [
            "/usr/local/lib/python3.7/dist-packages/tensorflow/python/framework/dtypes.py:526: FutureWarning:\n",
            "\n",
            "Passing (type, 1) or '1type' as a synonym of type is deprecated; in a future version of numpy, it will be understood as (type, (1,)) / '(1,)type'.\n",
            "\n",
            "/usr/local/lib/python3.7/dist-packages/tensorflow/python/framework/dtypes.py:527: FutureWarning:\n",
            "\n",
            "Passing (type, 1) or '1type' as a synonym of type is deprecated; in a future version of numpy, it will be understood as (type, (1,)) / '(1,)type'.\n",
            "\n",
            "/usr/local/lib/python3.7/dist-packages/tensorflow/python/framework/dtypes.py:528: FutureWarning:\n",
            "\n",
            "Passing (type, 1) or '1type' as a synonym of type is deprecated; in a future version of numpy, it will be understood as (type, (1,)) / '(1,)type'.\n",
            "\n",
            "/usr/local/lib/python3.7/dist-packages/tensorflow/python/framework/dtypes.py:529: FutureWarning:\n",
            "\n",
            "Passing (type, 1) or '1type' as a synonym of type is deprecated; in a future version of numpy, it will be understood as (type, (1,)) / '(1,)type'.\n",
            "\n",
            "/usr/local/lib/python3.7/dist-packages/tensorflow/python/framework/dtypes.py:530: FutureWarning:\n",
            "\n",
            "Passing (type, 1) or '1type' as a synonym of type is deprecated; in a future version of numpy, it will be understood as (type, (1,)) / '(1,)type'.\n",
            "\n",
            "/usr/local/lib/python3.7/dist-packages/tensorflow/python/framework/dtypes.py:535: FutureWarning:\n",
            "\n",
            "Passing (type, 1) or '1type' as a synonym of type is deprecated; in a future version of numpy, it will be understood as (type, (1,)) / '(1,)type'.\n",
            "\n"
          ],
          "name": "stderr"
        }
      ]
    },
    {
      "cell_type": "markdown",
      "metadata": {
        "id": "puTghi3NrJoL"
      },
      "source": [
        "## Conectando com o Drive "
      ]
    },
    {
      "cell_type": "code",
      "metadata": {
        "colab": {
          "base_uri": "https://localhost:8080/"
        },
        "id": "xCV2SG3arO5f",
        "outputId": "40322a0b-6c2d-491c-9a6c-b04d9cd218bc"
      },
      "source": [
        "#para salvar os resultados no Drive\n",
        "from google.colab import drive\n",
        "drive.mount('/gdrive')"
      ],
      "execution_count": null,
      "outputs": [
        {
          "output_type": "stream",
          "text": [
            "Mounted at /gdrive\n"
          ],
          "name": "stdout"
        }
      ]
    },
    {
      "cell_type": "markdown",
      "metadata": {
        "id": "Wb8Grf25rWDM"
      },
      "source": [
        "## Instalando biblioteca para tempo de execução"
      ]
    },
    {
      "cell_type": "code",
      "metadata": {
        "colab": {
          "base_uri": "https://localhost:8080/"
        },
        "id": "QcqoPCZNrcI8",
        "outputId": "85b93a74-3de9-47fc-9cda-715a43986362"
      },
      "source": [
        "!pip install ipython-autotime\n",
        "\n",
        "%load_ext autotime"
      ],
      "execution_count": null,
      "outputs": [
        {
          "output_type": "stream",
          "text": [
            "Collecting ipython-autotime\n",
            "  Downloading ipython_autotime-0.3.1-py2.py3-none-any.whl (6.8 kB)\n",
            "Requirement already satisfied: ipython in /usr/local/lib/python3.7/dist-packages (from ipython-autotime) (5.5.0)\n",
            "Requirement already satisfied: traitlets>=4.2 in /usr/local/lib/python3.7/dist-packages (from ipython->ipython-autotime) (5.0.5)\n",
            "Requirement already satisfied: setuptools>=18.5 in /usr/local/lib/python3.7/dist-packages (from ipython->ipython-autotime) (57.4.0)\n",
            "Requirement already satisfied: simplegeneric>0.8 in /usr/local/lib/python3.7/dist-packages (from ipython->ipython-autotime) (0.8.1)\n",
            "Requirement already satisfied: pygments in /usr/local/lib/python3.7/dist-packages (from ipython->ipython-autotime) (2.6.1)\n",
            "Requirement already satisfied: pickleshare in /usr/local/lib/python3.7/dist-packages (from ipython->ipython-autotime) (0.7.5)\n",
            "Requirement already satisfied: decorator in /usr/local/lib/python3.7/dist-packages (from ipython->ipython-autotime) (4.4.2)\n",
            "Requirement already satisfied: prompt-toolkit<2.0.0,>=1.0.4 in /usr/local/lib/python3.7/dist-packages (from ipython->ipython-autotime) (1.0.18)\n",
            "Requirement already satisfied: pexpect in /usr/local/lib/python3.7/dist-packages (from ipython->ipython-autotime) (4.8.0)\n",
            "Requirement already satisfied: wcwidth in /usr/local/lib/python3.7/dist-packages (from prompt-toolkit<2.0.0,>=1.0.4->ipython->ipython-autotime) (0.2.5)\n",
            "Requirement already satisfied: six>=1.9.0 in /usr/local/lib/python3.7/dist-packages (from prompt-toolkit<2.0.0,>=1.0.4->ipython->ipython-autotime) (1.15.0)\n",
            "Requirement already satisfied: ipython-genutils in /usr/local/lib/python3.7/dist-packages (from traitlets>=4.2->ipython->ipython-autotime) (0.2.0)\n",
            "Requirement already satisfied: ptyprocess>=0.5 in /usr/local/lib/python3.7/dist-packages (from pexpect->ipython->ipython-autotime) (0.7.0)\n",
            "Installing collected packages: ipython-autotime\n",
            "Successfully installed ipython-autotime-0.3.1\n",
            "time: 221 µs (started: 2021-08-24 01:42:55 +00:00)\n"
          ],
          "name": "stdout"
        }
      ]
    },
    {
      "cell_type": "markdown",
      "metadata": {
        "id": "PBvzFD0QIbo9"
      },
      "source": [
        "# Carregar os dados"
      ]
    },
    {
      "cell_type": "code",
      "metadata": {
        "colab": {
          "base_uri": "https://localhost:8080/"
        },
        "id": "h8Bqw-rd8cOb",
        "outputId": "b98f1865-9afb-4425-c2bb-b57269b0642f"
      },
      "source": [
        "from google_drive_downloader import GoogleDriveDownloader as gdd\n",
        "\n",
        "# google_id = '1DgYTvfbzTe8CPMOwXMupmTOiMTP56PwD' #conj completo\n",
        "google_id = '1Jsg6ggQF98LT4D2QnEPTjj_XfTdeTWHh' #conj de treinamento\n",
        "gdd.download_file_from_google_drive(file_id=google_id, \n",
        "                                    dest_path = './data.csv', \n",
        "                                    showsize = True)\n",
        "data = pd.read_csv(\"data.csv\")"
      ],
      "execution_count": null,
      "outputs": [
        {
          "output_type": "stream",
          "text": [
            "Downloading 1Jsg6ggQF98LT4D2QnEPTjj_XfTdeTWHh into ./data.csv... \n",
            "4.4 MiB Done.\n",
            "time: 2.31 s (started: 2021-08-24 01:42:55 +00:00)\n"
          ],
          "name": "stdout"
        }
      ]
    },
    {
      "cell_type": "code",
      "metadata": {
        "colab": {
          "base_uri": "https://localhost:8080/"
        },
        "id": "TXqhCtPg8rgg",
        "outputId": "b472e0a4-4593-47a6-bbcb-39ec0353f719"
      },
      "source": [
        "data.head()"
      ],
      "execution_count": null,
      "outputs": [
        {
          "output_type": "execute_result",
          "data": {
            "text/html": [
              "<div>\n",
              "<style scoped>\n",
              "    .dataframe tbody tr th:only-of-type {\n",
              "        vertical-align: middle;\n",
              "    }\n",
              "\n",
              "    .dataframe tbody tr th {\n",
              "        vertical-align: top;\n",
              "    }\n",
              "\n",
              "    .dataframe thead th {\n",
              "        text-align: right;\n",
              "    }\n",
              "</style>\n",
              "<table border=\"1\" class=\"dataframe\">\n",
              "  <thead>\n",
              "    <tr style=\"text-align: right;\">\n",
              "      <th></th>\n",
              "      <th>Case ID</th>\n",
              "      <th>Activity</th>\n",
              "      <th>Resource</th>\n",
              "      <th>Workload</th>\n",
              "      <th>Duration(s)</th>\n",
              "    </tr>\n",
              "  </thead>\n",
              "  <tbody>\n",
              "    <tr>\n",
              "      <th>0</th>\n",
              "      <td>173961</td>\n",
              "      <td>W_Fixing incoming lead</td>\n",
              "      <td>10889</td>\n",
              "      <td>{11180: 'HIGH', 10982: 'FREE', 11121: 'FREE', ...</td>\n",
              "      <td>286.0</td>\n",
              "    </tr>\n",
              "    <tr>\n",
              "      <th>1</th>\n",
              "      <td>173781</td>\n",
              "      <td>W_Filling in information for the application</td>\n",
              "      <td>11180</td>\n",
              "      <td>{11180: 'FREE', 10982: 'FREE', 11121: 'FREE', ...</td>\n",
              "      <td>622.0</td>\n",
              "    </tr>\n",
              "    <tr>\n",
              "      <th>2</th>\n",
              "      <td>173934</td>\n",
              "      <td>W_Fixing incoming lead</td>\n",
              "      <td>10889</td>\n",
              "      <td>{11180: 'FREE', 10982: 'FREE', 11121: 'FREE', ...</td>\n",
              "      <td>305.0</td>\n",
              "    </tr>\n",
              "    <tr>\n",
              "      <th>3</th>\n",
              "      <td>173901</td>\n",
              "      <td>W_Fixing incoming lead</td>\n",
              "      <td>10889</td>\n",
              "      <td>{11180: 'HIGH', 10982: 'FREE', 11121: 'FREE', ...</td>\n",
              "      <td>174.0</td>\n",
              "    </tr>\n",
              "    <tr>\n",
              "      <th>4</th>\n",
              "      <td>173904</td>\n",
              "      <td>W_Fixing incoming lead</td>\n",
              "      <td>10889</td>\n",
              "      <td>{11180: 'HIGH', 10982: 'FREE', 11121: 'FREE', ...</td>\n",
              "      <td>351.0</td>\n",
              "    </tr>\n",
              "  </tbody>\n",
              "</table>\n",
              "</div>"
            ],
            "text/plain": [
              "   Case ID  ... Duration(s)\n",
              "0   173961  ...       286.0\n",
              "1   173781  ...       622.0\n",
              "2   173934  ...       305.0\n",
              "3   173901  ...       174.0\n",
              "4   173904  ...       351.0\n",
              "\n",
              "[5 rows x 5 columns]"
            ]
          },
          "metadata": {
            "tags": []
          },
          "execution_count": 7
        },
        {
          "output_type": "stream",
          "text": [
            "time: 41.9 ms (started: 2021-08-24 01:42:57 +00:00)\n"
          ],
          "name": "stdout"
        }
      ]
    },
    {
      "cell_type": "code",
      "metadata": {
        "colab": {
          "base_uri": "https://localhost:8080/"
        },
        "id": "99vNdnIyT9uZ",
        "outputId": "48a0b3ab-15c3-4415-bf62-9a850372d200"
      },
      "source": [
        "len(data['Case ID'].unique())"
      ],
      "execution_count": null,
      "outputs": [
        {
          "output_type": "execute_result",
          "data": {
            "text/plain": [
              "2826"
            ]
          },
          "metadata": {
            "tags": []
          },
          "execution_count": 8
        },
        {
          "output_type": "stream",
          "text": [
            "time: 10.3 ms (started: 2021-08-24 01:42:57 +00:00)\n"
          ],
          "name": "stdout"
        }
      ]
    },
    {
      "cell_type": "code",
      "metadata": {
        "colab": {
          "base_uri": "https://localhost:8080/"
        },
        "id": "f_mdmNfqUJ9s",
        "outputId": "988f9d4c-3fba-4453-ff1b-713ee84b0e71"
      },
      "source": [
        "len(data['Activity'].unique())"
      ],
      "execution_count": null,
      "outputs": [
        {
          "output_type": "execute_result",
          "data": {
            "text/plain": [
              "6"
            ]
          },
          "metadata": {
            "tags": []
          },
          "execution_count": 9
        },
        {
          "output_type": "stream",
          "text": [
            "time: 11.7 ms (started: 2021-08-24 01:42:57 +00:00)\n"
          ],
          "name": "stdout"
        }
      ]
    },
    {
      "cell_type": "markdown",
      "metadata": {
        "id": "gXxIoTvbIomS"
      },
      "source": [
        "# Modelagem"
      ]
    },
    {
      "cell_type": "markdown",
      "metadata": {
        "id": "xTIir-cwsBbb"
      },
      "source": [
        "## Definição dos elementos e análise de quantidades"
      ]
    },
    {
      "cell_type": "markdown",
      "metadata": {
        "id": "yJD791oW9ALx"
      },
      "source": [
        "- Estado: Activity + Resources Workload\n",
        "\n",
        "- Ação: Resource\n",
        "\n",
        "- Custo: Duration"
      ]
    },
    {
      "cell_type": "markdown",
      "metadata": {
        "id": "PW5Ev1I1HogM"
      },
      "source": [
        "Quantos estados diferentes podemos ter?\n",
        "\n",
        "\\#resources (do notebook de geração do dataset)\n",
        "\n",
        "x \n",
        "\n",
        "\\#níveis de worload que as resources podem apresentar (FREE, LOW, HIGH)\n",
        "\n",
        "x \n",
        "\n",
        "\\#atividades\n"
      ]
    },
    {
      "cell_type": "code",
      "metadata": {
        "colab": {
          "base_uri": "https://localhost:8080/"
        },
        "id": "wrMtCBo345Oi",
        "outputId": "0112eaa7-a689-4678-b49d-84e95b63de4e"
      },
      "source": [
        "57*3*len(data['Activity'].unique())"
      ],
      "execution_count": null,
      "outputs": [
        {
          "output_type": "execute_result",
          "data": {
            "text/plain": [
              "1026"
            ]
          },
          "metadata": {
            "tags": []
          },
          "execution_count": 10
        },
        {
          "output_type": "stream",
          "text": [
            "time: 8.61 ms (started: 2021-08-24 01:42:57 +00:00)\n"
          ],
          "name": "stdout"
        }
      ]
    },
    {
      "cell_type": "markdown",
      "metadata": {
        "id": "3LRBlAc6KsFb"
      },
      "source": [
        "Portanto, são 1026 estados possíveis no contexto do problema se considerarmos todas as atividades, com todos os níveis de workload para todos os recursos."
      ]
    },
    {
      "cell_type": "code",
      "metadata": {
        "colab": {
          "base_uri": "https://localhost:8080/"
        },
        "id": "xnYgE8CVK3A3",
        "outputId": "237be180-e65c-4fa6-9b0d-4343b254e934"
      },
      "source": [
        "1026 * 57"
      ],
      "execution_count": null,
      "outputs": [
        {
          "output_type": "execute_result",
          "data": {
            "text/plain": [
              "58482"
            ]
          },
          "metadata": {
            "tags": []
          },
          "execution_count": 11
        },
        {
          "output_type": "stream",
          "text": [
            "time: 5.2 ms (started: 2021-08-24 01:42:57 +00:00)\n"
          ],
          "name": "stdout"
        }
      ]
    },
    {
      "cell_type": "markdown",
      "metadata": {
        "id": "gMKhsSDnK6jE"
      },
      "source": [
        "E 58 mil combinações possíveis de todos os estados com todas as ações disponíveis."
      ]
    },
    {
      "cell_type": "code",
      "metadata": {
        "colab": {
          "base_uri": "https://localhost:8080/"
        },
        "id": "IcwIFth_91cP",
        "outputId": "d57a5fd6-8b7a-4639-cec7-468aef9c3de4"
      },
      "source": [
        "print('#workloads possíveis:',(57-28)*3)\n",
        "print('#estados posssíveis (workloads x atividades):',(57-27)*3*len(data['Activity'].unique()))\n",
        "print('#combinações possíveis de estado-ações:',(57-27)*3*len(data['Activity'].unique())*(57-27))"
      ],
      "execution_count": null,
      "outputs": [
        {
          "output_type": "stream",
          "text": [
            "#workloads possíveis: 87\n",
            "#estados posssíveis (workloads x atividades): 540\n",
            "#combinações possíveis de estado-ações: 16200\n",
            "time: 16.7 ms (started: 2021-08-24 01:42:57 +00:00)\n"
          ],
          "name": "stdout"
        }
      ]
    },
    {
      "cell_type": "markdown",
      "metadata": {
        "id": "2OrjVD5HINFL"
      },
      "source": [
        "## Geração do histórico H "
      ]
    },
    {
      "cell_type": "markdown",
      "metadata": {
        "id": "ttdy-kZdr0nq"
      },
      "source": [
        "Formato *State*, *Action*, *Cost*"
      ]
    },
    {
      "cell_type": "code",
      "metadata": {
        "colab": {
          "base_uri": "https://localhost:8080/"
        },
        "id": "UHDwAVAG885z",
        "outputId": "04fe1ea0-730c-4d7e-c404-8a41c0cef5f3"
      },
      "source": [
        "H = pd.DataFrame()\n",
        "H['case'] = data['Case ID']\n",
        "H['state'] = data['Activity'] + \"-\" + data['Workload']\n",
        "H['action'] = data['Resource']\n",
        "H['cost'] = data['Duration(s)']\n",
        "H.head()"
      ],
      "execution_count": null,
      "outputs": [
        {
          "output_type": "execute_result",
          "data": {
            "text/html": [
              "<div>\n",
              "<style scoped>\n",
              "    .dataframe tbody tr th:only-of-type {\n",
              "        vertical-align: middle;\n",
              "    }\n",
              "\n",
              "    .dataframe tbody tr th {\n",
              "        vertical-align: top;\n",
              "    }\n",
              "\n",
              "    .dataframe thead th {\n",
              "        text-align: right;\n",
              "    }\n",
              "</style>\n",
              "<table border=\"1\" class=\"dataframe\">\n",
              "  <thead>\n",
              "    <tr style=\"text-align: right;\">\n",
              "      <th></th>\n",
              "      <th>case</th>\n",
              "      <th>state</th>\n",
              "      <th>action</th>\n",
              "      <th>cost</th>\n",
              "    </tr>\n",
              "  </thead>\n",
              "  <tbody>\n",
              "    <tr>\n",
              "      <th>0</th>\n",
              "      <td>173961</td>\n",
              "      <td>W_Fixing incoming lead-{11180: 'HIGH', 10982: ...</td>\n",
              "      <td>10889</td>\n",
              "      <td>286.0</td>\n",
              "    </tr>\n",
              "    <tr>\n",
              "      <th>1</th>\n",
              "      <td>173781</td>\n",
              "      <td>W_Filling in information for the application-{...</td>\n",
              "      <td>11180</td>\n",
              "      <td>622.0</td>\n",
              "    </tr>\n",
              "    <tr>\n",
              "      <th>2</th>\n",
              "      <td>173934</td>\n",
              "      <td>W_Fixing incoming lead-{11180: 'FREE', 10982: ...</td>\n",
              "      <td>10889</td>\n",
              "      <td>305.0</td>\n",
              "    </tr>\n",
              "    <tr>\n",
              "      <th>3</th>\n",
              "      <td>173901</td>\n",
              "      <td>W_Fixing incoming lead-{11180: 'HIGH', 10982: ...</td>\n",
              "      <td>10889</td>\n",
              "      <td>174.0</td>\n",
              "    </tr>\n",
              "    <tr>\n",
              "      <th>4</th>\n",
              "      <td>173904</td>\n",
              "      <td>W_Fixing incoming lead-{11180: 'HIGH', 10982: ...</td>\n",
              "      <td>10889</td>\n",
              "      <td>351.0</td>\n",
              "    </tr>\n",
              "  </tbody>\n",
              "</table>\n",
              "</div>"
            ],
            "text/plain": [
              "     case                                              state  action   cost\n",
              "0  173961  W_Fixing incoming lead-{11180: 'HIGH', 10982: ...   10889  286.0\n",
              "1  173781  W_Filling in information for the application-{...   11180  622.0\n",
              "2  173934  W_Fixing incoming lead-{11180: 'FREE', 10982: ...   10889  305.0\n",
              "3  173901  W_Fixing incoming lead-{11180: 'HIGH', 10982: ...   10889  174.0\n",
              "4  173904  W_Fixing incoming lead-{11180: 'HIGH', 10982: ...   10889  351.0"
            ]
          },
          "metadata": {
            "tags": []
          },
          "execution_count": 13
        },
        {
          "output_type": "stream",
          "text": [
            "time: 50 ms (started: 2021-08-24 01:42:57 +00:00)\n"
          ],
          "name": "stdout"
        }
      ]
    },
    {
      "cell_type": "code",
      "metadata": {
        "id": "-I3vKF0PIAb5",
        "colab": {
          "base_uri": "https://localhost:8080/"
        },
        "outputId": "16a67bd0-1d63-4871-b1a7-0e24afeb2c09"
      },
      "source": [
        "H_original = H.copy()"
      ],
      "execution_count": null,
      "outputs": [
        {
          "output_type": "stream",
          "text": [
            "time: 2.48 ms (started: 2021-08-24 01:42:57 +00:00)\n"
          ],
          "name": "stdout"
        }
      ]
    },
    {
      "cell_type": "markdown",
      "metadata": {
        "id": "DylRGuBVJrl8"
      },
      "source": [
        "## Analisando H"
      ]
    },
    {
      "cell_type": "markdown",
      "metadata": {
        "id": "ruEhsxKdI3Fv"
      },
      "source": [
        "Quantos estados diferentes temos?"
      ]
    },
    {
      "cell_type": "code",
      "metadata": {
        "colab": {
          "base_uri": "https://localhost:8080/"
        },
        "id": "XmfvqzPG4sXs",
        "outputId": "515bb145-f73d-402f-de92-cd2ca546c7b4"
      },
      "source": [
        "len(H['state'].unique())"
      ],
      "execution_count": null,
      "outputs": [
        {
          "output_type": "execute_result",
          "data": {
            "text/plain": [
              "1755"
            ]
          },
          "metadata": {
            "tags": []
          },
          "execution_count": 15
        },
        {
          "output_type": "stream",
          "text": [
            "time: 17.7 ms (started: 2021-08-24 01:42:57 +00:00)\n"
          ],
          "name": "stdout"
        }
      ]
    },
    {
      "cell_type": "markdown",
      "metadata": {
        "id": "ZKNP_KCnI66P"
      },
      "source": [
        "Quantos recursos diferentes?"
      ]
    },
    {
      "cell_type": "code",
      "metadata": {
        "colab": {
          "base_uri": "https://localhost:8080/"
        },
        "id": "ky9QerUmHIZe",
        "outputId": "9de5eb97-4ddd-490a-c4e1-70808d7bf7e3"
      },
      "source": [
        "len(H['action'].unique())"
      ],
      "execution_count": null,
      "outputs": [
        {
          "output_type": "execute_result",
          "data": {
            "text/plain": [
              "30"
            ]
          },
          "metadata": {
            "tags": []
          },
          "execution_count": 16
        },
        {
          "output_type": "stream",
          "text": [
            "time: 7.56 ms (started: 2021-08-24 01:42:57 +00:00)\n"
          ],
          "name": "stdout"
        }
      ]
    },
    {
      "cell_type": "markdown",
      "metadata": {
        "id": "PKOwJ6gOI_Jo"
      },
      "source": [
        "Qual o máximo de combinações state-action podemos ter, então?"
      ]
    },
    {
      "cell_type": "code",
      "metadata": {
        "colab": {
          "base_uri": "https://localhost:8080/"
        },
        "id": "qonTLvprHNXG",
        "outputId": "9b6aeb65-df6c-4171-dd00-521e0dab17d0"
      },
      "source": [
        "len(H['state'].unique())*len(H['action'].unique())"
      ],
      "execution_count": null,
      "outputs": [
        {
          "output_type": "execute_result",
          "data": {
            "text/plain": [
              "52650"
            ]
          },
          "metadata": {
            "tags": []
          },
          "execution_count": 17
        },
        {
          "output_type": "stream",
          "text": [
            "time: 16.1 ms (started: 2021-08-24 01:42:57 +00:00)\n"
          ],
          "name": "stdout"
        }
      ]
    },
    {
      "cell_type": "markdown",
      "metadata": {
        "id": "L5CUZhQGnfPU"
      },
      "source": [
        "# RL"
      ]
    },
    {
      "cell_type": "markdown",
      "metadata": {
        "id": "onPLFimRKNuu"
      },
      "source": [
        "## Pré-definições e análises"
      ]
    },
    {
      "cell_type": "markdown",
      "metadata": {
        "id": "IFanEhzpRi8h"
      },
      "source": [
        "Definição do parâmetro MAX_DIFF - um dos critérios de parada:"
      ]
    },
    {
      "cell_type": "code",
      "metadata": {
        "colab": {
          "base_uri": "https://localhost:8080/"
        },
        "id": "VnIvqrAmQW2m",
        "outputId": "8d8211e3-84b9-4cbb-a277-0840f3e7b301"
      },
      "source": [
        "px.box(H, y='cost') # para escolher o MAXDIFF - Q3"
      ],
      "execution_count": null,
      "outputs": [
        {
          "output_type": "display_data",
          "data": {
            "text/html": [
              "<html>\n",
              "<head><meta charset=\"utf-8\" /></head>\n",
              "<body>\n",
              "    <div>\n",
              "            <script src=\"https://cdnjs.cloudflare.com/ajax/libs/mathjax/2.7.5/MathJax.js?config=TeX-AMS-MML_SVG\"></script><script type=\"text/javascript\">if (window.MathJax) {MathJax.Hub.Config({SVG: {font: \"STIX-Web\"}});}</script>\n",
              "                <script type=\"text/javascript\">window.PlotlyConfig = {MathJaxConfig: 'local'};</script>\n",
              "        <script src=\"https://cdn.plot.ly/plotly-latest.min.js\"></script>    \n",
              "            <div id=\"9e2595eb-bad5-4659-ada4-83e622e80887\" class=\"plotly-graph-div\" style=\"height:525px; width:100%;\"></div>\n",
              "            <script type=\"text/javascript\">\n",
              "                \n",
              "                    window.PLOTLYENV=window.PLOTLYENV || {};\n",
              "                    \n",
              "                if (document.getElementById(\"9e2595eb-bad5-4659-ada4-83e622e80887\")) {\n",
              "                    Plotly.newPlot(\n",
              "                        '9e2595eb-bad5-4659-ada4-83e622e80887',\n",
              "                        [{\"alignmentgroup\": \"True\", \"hoverlabel\": {\"namelength\": 0}, \"hovertemplate\": \"cost=%{y}\", \"legendgroup\": \"\", \"marker\": {\"color\": \"#636efa\"}, \"name\": \"\", \"notched\": false, \"offsetgroup\": \"\", \"orientation\": \"v\", \"showlegend\": false, \"type\": \"box\", \"x0\": \" \", \"xaxis\": \"x\", \"y\": [286.0, 622.0, 305.0, 174.0, 351.0, 190.0, 874.0, 35.0, 51.0, 102.0, 234.0, 241.0, 492.0, 243.0, 684.0, 17.0, 425.0, 273.0, 341.0, 144.0, 97.0, 73.0, 90.0, 237.0, 327.0, 488.0, 260.0, 114.0, 527.0, 62.0, 204.0, 121.0, 122.0, 476.0, 83.0, 91.0, 91.0, 737.0, 1633.0, 580.0, 182.0, 74.0, 10.0, 123.0, 868.0, 35.0, 490.0, 156.0, 434.0, 7.0, 35.0, 145.0, 104.0, 79.0, 15.0, 314.0, 144.0, 486.0, 1462.0, 28.0, 3860.0, 214.0, 6458.0, 402.0, 32.0, 88.0, 44.0, 248.0, 53.0, 514.0, 603.0, 452.0, 7903.0, 385.0, 123.0, 89.0, 13.0, 9.0, 105.0, 560.0, 170.0, 65.0, 230.0, 289.0, 36.0, 80.0, 79.0, 169.0, 4705.0, 413.0, 66.0, 222.0, 619.0, 197.0, 375.0, 796.0, 130.0, 54.0, 532.0, 1020.0, 694.0, 213.0, 160.0, 523.0, 149.0, 2775.0, 162.0, 80.0, 56.0, 46.0, 19.0, 543.0, 838.0, 213.0, 74.0, 28.0, 33.0, 126.0, 64.0, 902.0, 25.0, 72.0, 35636.0, 225.0, 56.0, 120.0, 61.0, 303.0, 788.0, 478.0, 331.0, 124.0, 511.0, 123.0, 35.0, 487.0, 191.0, 408.0, 14.0, 104.0, 149.0, 27.0, 924.0, 11.0, 162.0, 11.0, 1462.0, 148.0, 25.0, 19.0, 78.0, 131.0, 314.0, 35.0, 112.0, 86.0, 177.0, 277.0, 125.0, 117.0, 256.0, 629.0, 302.0, 92.0, 183.0, 319.0, 341.0, 168.0, 57.0, 384.0, 76.0, 130.0, 488.0, 36.0, 19.0, 36.0, 144.0, 95.0, 68.0, 660.0, 140.0, 191.0, 21.0, 23.0, 50.0, 225.0, 20.0, 106.0, 172.0, 327.0, 479.0, 109.0, 51.0, 550.0, 25.0, 21.0, 98.0, 30.0, 545.0, 1692.0, 85.0, 113.0, 119.0, 811.0, 38.0, 388.0, 577.0, 36.0, 399.0, 24.0, 10.0, 32.0, 1346.0, 375.0, 341.0, 82.0, 569.0, 345.0, 942.0, 44.0, 477.0, 362.0, 223.0, 296.0, 149.0, 67.0, 862.0, 54.0, 299.0, 490.0, 680.0, 140.0, 108.0, 9.0, 766.0, 824.0, 306.0, 1015.0, 83.0, 92.0, 69.0, 52.0, 377.0, 60.0, 54.0, 891.0, 33.0, 28.0, 64.0, 22.0, 19.0, 72.0, 229.0, 138.0, 1729.0, 625.0, 191.0, 76.0, 260.0, 27.0, 326.0, 942.0, 81.0, 16.0, 106.0, 78.0, 717.0, 9.0, 1132.0, 84.0, 212.0, 337.0, 225.0, 94.0, 276.0, 554.0, 468.0, 616.0, 1134.0, 104.0, 174.0, 115.0, 14.0, 7.0, 777.0, 1030.0, 10.0, 1118.0, 191.0, 137.0, 17.0, 447.0, 264.0, 616.0, 147.0, 516.0, 1253.0, 230.0, 288.0, 1032.0, 48.0, 356.0, 425.0, 561.0, 273.0, 217.0, 215.0, 1470.0, 157.0, 230.0, 158.0, 226.0, 1434.0, 44.0, 141.0, 2005.0, 618.0, 99.0, 127.0, 289.0, 5.0, 327.0, 5.0, 161.0, 29.0, 66.0, 924.0, 147.0, 252.0, 302.0, 319.0, 173.0, 129.0, 783.0, 672.0, 826.0, 73.0, 34.0, 146.0, 82.0, 629.0, 89.0, 365.0, 80.0, 17.0, 70.0, 187.0, 700.0, 33.0, 385.0, 411.0, 8.0, 281.0, 119.0, 375.0, 16.0, 15.0, 27.0, 253.0, 134.0, 66.0, 99.0, 121.0, 26.0, 56.0, 92.0, 53.0, 137.0, 6.0, 58.0, 1379.0, 135.0, 706.0, 155.0, 59.0, 30.0, 69.0, 327.0, 28.0, 35.0, 83.0, 54.0, 67.0, 92.0, 75.0, 777.0, 51.0, 86.0, 14.0, 210.0, 1008.0, 54.0, 12.0, 56.0, 54.0, 65.0, 2291.0, 217.0, 75.0, 714.0, 718.0, 810.0, 136.0, 982.0, 729.0, 140.0, 198.0, 614.0, 182.0, 480.0, 73.0, 2029.0, 53.0, 124.0, 417.0, 2586.0, 140.0, 441.0, 83.0, 56.0, 151.0, 3585.0, 104.0, 378.0, 38.0, 402.0, 158.0, 13.0, 874.0, 97.0, 147.0, 605.0, 218.0, 903.0, 186.0, 1209.0, 108.0, 116.0, 10.0, 154.0, 481.0, 137.0, 585.0, 141.0, 593.0, 220.0, 6.0, 123.0, 111.0, 88.0, 376.0, 21.0, 349.0, 465.0, 44193.0, 140.0, 90.0, 293.0, 100.0, 186.0, 173.0, 400.0, 129.0, 38.0, 160.0, 1254.0, 307.0, 34.0, 127.0, 190.0, 26.0, 267.0, 125.0, 371.0, 569.0, 136.0, 43.0, 38.0, 46.0, 46.0, 24.0, 167.0, 760.0, 67.0, 110.0, 174.0, 75.0, 177.0, 71.0, 1.0, 169.0, 89.0, 36.0, 218.0, 230.0, 579.0, 486.0, 478.0, 40.0, 318.0, 41.0, 400.0, 1641.0, 159.0, 301.0, 603.0, 275.0, 195.0, 90.0, 89.0, 129.0, 105.0, 398.0, 265.0, 969.0, 95.0, 551.0, 418.0, 10.0, 103.0, 576.0, 73.0, 404.0, 693.0, 139.0, 907.0, 497.0, 51.0, 140.0, 1003.0, 34.0, 88.0, 25.0, 196.0, 858.0, 102.0, 7.0, 259.0, 993.0, 78.0, 277.0, 254.0, 262.0, 259.0, 772.0, 465.0, 71.0, 902.0, 92.0, 84.0, 130.0, 33.0, 63.0, 114.0, 218.0, 163.0, 910.0, 690.0, 401.0, 125.0, 322.0, 542.0, 118.0, 173.0, 721.0, 147.0, 66.0, 466.0, 171.0, 116.0, 132.0, 888.0, 1121.0, 147.0, 62.0, 440.0, 81.0, 647.0, 327.0, 151.0, 51.0, 492.0, 173.0, 1174.0, 221.0, 309.0, 105.0, 347.0, 23.0, 488.0, 101.0, 314.0, 651.0, 104.0, 177.0, 146.0, 207.0, 16.0, 7.0, 197.0, 12.0, 8.0, 9.0, 14.0, 197.0, 312.0, 69.0, 131.0, 155.0, 11.0, 7.0, 133.0, 182.0, 578.0, 87.0, 10.0, 173.0, 505.0, 111.0, 186.0, 815.0, 81.0, 268.0, 148.0, 291.0, 946.0, 22.0, 1072.0, 120.0, 74.0, 12.0, 46.0, 28.0, 90.0, 15.0, 75.0, 19.0, 273.0, 886.0, 4188.0, 80.0, 32.0, 718.0, 28.0, 3852.0, 1547.0, 130.0, 44.0, 98.0, 166.0, 282.0, 257.0, 1029.0, 46.0, 83.0, 105.0, 58.0, 83.0, 401.0, 21.0, 1046.0, 138.0, 13.0, 67.0, 77.0, 139.0, 576.0, 112.0, 268.0, 197.0, 540.0, 234.0, 254.0, 189.0, 546.0, 165.0, 225.0, 250.0, 504.0, 75.0, 210.0, 128.0, 554.0, 42.0, 352.0, 27.0, 33.0, 21.0, 137.0, 937.0, 21.0, 25.0, 264.0, 52.0, 26.0, 213.0, 21.0, 21.0, 78.0, 22.0, 31.0, 12.0, 187.0, 807.0, 606.0, 706.0, 138.0, 164.0, 385.0, 635.0, 11.0, 203.0, 20.0, 86.0, 88.0, 765.0, 30.0, 309.0, 67.0, 170.0, 546.0, 29.0, 231.0, 340.0, 41.0, 83.0, 157.0, 396.0, 36.0, 200.0, 71.0, 43.0, 42.0, 235.0, 184.0, 122.0, 104.0, 151.0, 791.0, 67.0, 92.0, 92.0, 290.0, 310.0, 1352.0, 543.0, 409.0, 519.0, 167.0, 122.0, 112.0, 155.0, 483.0, 160.0, 689.0, 15.0, 429.0, 957.0, 83.0, 629.0, 33.0, 50.0, 1399.0, 164.0, 123.0, 346.0, 117.0, 287.0, 102.0, 207.0, 14.0, 919.0, 124.0, 141.0, 421.0, 665.0, 53.0, 143.0, 4038.0, 16.0, 41.0, 196.0, 161.0, 478.0, 17.0, 604.0, 344.0, 52.0, 438.0, 290.0, 99.0, 181.0, 162.0, 288.0, 195.0, 132.0, 189.0, 183.0, 282.0, 515.0, 91.0, 84.0, 217.0, 59.0, 59505.0, 56307.0, 163.0, 191.0, 28.0, 179.0, 38.0, 86.0, 288.0, 113.0, 555.0, 145.0, 57.0, 114.0, 291.0, 31.0, 1019.0, 315.0, 378.0, 57.0, 251.0, 136.0, 605.0, 753.0, 469.0, 341.0, 210.0, 979.0, 16.0, 467.0, 1207.0, 169.0, 1677.0, 1724.0, 227.0, 155.0, 1613.0, 1055.0, 67.0, 574.0, 92.0, 52.0, 50.0, 67.0, 33.0, 122.0, 294.0, 195.0, 43.0, 57.0, 68.0, 164.0, 101.0, 100.0, 67.0, 337.0, 36.0, 137.0, 62.0, 166.0, 51.0, 26.0, 102.0, 65.0, 147.0, 860.0, 43.0, 33.0, 443.0, 57.0, 782.0, 549.0, 116.0, 175.0, 1628.0, 361.0, 145.0, 68.0, 1540.0, 33.0, 82.0, 441.0, 9.0, 3060.0, 87.0, 703.0, 65.0, 62.0, 137.0, 59.0, 2402.0, 538.0, 89.0, 272.0, 70.0, 109.0, 53.0, 146.0, 208.0, 1794.0, 826.0, 156.0, 560.0, 1247.0, 229.0, 180.0, 50.0, 16.0, 318.0, 400.0, 179.0, 616.0, 495.0, 1509.0, 96.0, 212.0, 2465.0, 38.0, 15.0, 7.0, 46.0, 76.0, 80.0, 451.0, 1248.0, 179.0, 156.0, 78.0, 266.0, 296.0, 122.0, 149.0, 79.0, 407.0, 230.0, 1090.0, 724.0, 456.0, 119.0, 1233.0, 107.0, 150.0, 267.0, 109.0, 44.0, 163.0, 124.0, 581.0, 124.0, 62.0, 58.0, 18.0, 221.0, 215.0, 1174.0, 85.0, 636.0, 264.0, 44.0, 221725.0, 213324.0, 1044.0, 1021.0, 177.0, 407.0, 1720.0, 99.0, 594.0, 545.0, 178.0, 241.0, 580.0, 593.0, 79.0, 341.0, 700.0, 9.0, 1226.0, 149.0, 88.0, 765.0, 718.0, 39.0, 169.0, 598.0, 40.0, 218.0, 256.0, 852.0, 171.0, 7.0, 100.0, 98.0, 14.0, 9217.0, 365.0, 46.0, 520.0, 605.0, 1398.0, 81.0, 382.0, 201.0, 614.0, 30.0, 206.0, 85.0, 186.0, 767.0, 81.0, 827.0, 48.0, 5.0, 1138.0, 500.0, 658.0, 28.0, 82.0, 484.0, 511.0, 208.0, 99.0, 61.0, 23.0, 24.0, 21.0, 121.0, 43.0, 22.0, 147.0, 112.0, 819.0, 590.0, 333.0, 25.0, 617.0, 299.0, 380.0, 8.0, 344.0, 638.0, 37.0, 32.0, 33.0, 63.0, 169.0, 241.0, 1212.0, 536.0, 59.0, 19.0, 117.0, 851.0, 1212.0, 37.0, 175.0, 691.0, 201.0, 41.0, 535.0, 44.0, 535.0, 13.0, 66.0, 29.0, 166.0, 1223.0, 39.0, 131.0, 40.0, 352.0, 258.0, 108.0, 73.0, 14.0, 73.0, 141.0, 45.0, 160.0, 453.0, 43.0, 52.0, 134.0, 192.0, 9.0, 70.0, 119.0, 92.0, 131.0, 179.0, 102.0, 10.0, 709.0, 11.0, 92.0, 2631.0, 62.0, 328.0, 2989.0, 428.0, 360.0, 12.0, 104.0, 110.0, 129.0, 135.0, 154.0, 176.0, 33.0, 58.0, 487.0, 202.0, 558.0, 214.0, 206.0, 472.0, 367.0, 54.0, 12.0, 19.0, 671.0, 705.0, 43.0, 214.0, 640.0, 603.0, 191.0, 163.0, 130.0, 125.0, 1492.0, 27.0, 23.0, 31.0, 643.0, 106.0, 4.0, 100.0, 102.0, 319.0, 139.0, 16.0, 14.0, 135.0, 532.0, 52.0, 187.0, 7.0, 419.0, 59.0, 51.0, 413.0, 15.0, 90.0, 335.0, 513.0, 113.0, 29.0, 795.0, 38.0, 108.0, 407.0, 213.0, 22.0, 6.0, 11.0, 7.0, 27.0, 53.0, 298.0, 12.0, 32.0, 9.0, 226.0, 8.0, 35638.0, 55585.0, 49.0, 92.0, 16.0, 133.0, 160.0, 32.0, 81.0, 197.0, 156.0, 29.0, 41.0, 68.0, 30.0, 583.0, 24.0, 43.0, 132.0, 759.0, 35.0, 155.0, 283.0, 857.0, 1236.0, 118.0, 142.0, 9.0, 1025.0, 72.0, 366.0, 19.0, 877.0, 430.0, 243.0, 1039.0, 32.0, 22.0, 218.0, 167.0, 108.0, 172.0, 1979.0, 725.0, 306.0, 243.0, 109.0, 387.0, 638.0, 1231.0, 129.0, 168.0, 46.0, 36.0, 31.0, 107.0, 509.0, 189.0, 211.0, 100.0, 96.0, 62.0, 196.0, 235.0, 291.0, 13.0, 81.0, 16.0, 56.0, 53.0, 8.0, 92.0, 29.0, 6.0, 639.0, 67.0, 88.0, 711.0, 188.0, 676.0, 158.0, 72.0, 787.0, 21.0, 216.0, 192.0, 87.0, 347.0, 99.0, 131.0, 51.0, 210.0, 294.0, 971.0, 46.0, 582.0, 56.0, 3.0, 148.0, 23.0, 133.0, 677.0, 41.0, 227.0, 124.0, 101.0, 266.0, 874.0, 69.0, 23.0, 3632.0, 78.0, 1702.0, 386.0, 132.0, 152.0, 116.0, 6.0, 107.0, 120.0, 12.0, 82.0, 1826.0, 518.0, 91.0, 331.0, 18.0, 39.0, 197.0, 1363.0, 137.0, 91.0, 49.0, 145.0, 421.0, 530.0, 1074.0, 315.0, 534.0, 134.0, 1160.0, 114.0, 62.0, 140.0, 158.0, 1141.0, 30.0, 1935.0, 1135.0, 1087.0, 135.0, 46.0, 269.0, 1184.0, 632.0, 20.0, 747.0, 141.0, 644.0, 2593.0, 20.0, 6.0, 257.0, 28.0, 374.0, 756.0, 1329.0, 330.0, 964.0, 446.0, 44.0, 25.0, 706.0, 483.0, 408.0, 375.0, 28.0, 525.0, 268.0, 20.0, 901.0, 179.0, 272.0, 196.0, 35.0, 252.0, 38.0, 56.0, 14.0, 143.0, 636.0, 200.0, 171.0, 1913.0, 55.0, 721.0, 2397.0, 6.0, 22.0, 19.0, 23.0, 14.0, 32.0, 187.0, 15.0, 1057.0, 114.0, 680.0, 147.0, 680.0, 47.0, 25.0, 1273.0, 1083.0, 178.0, 45.0, 174.0, 765.0, 51.0, 159.0, 65.0, 2073.0, 855.0, 137.0, 292.0, 2555.0, 447.0, 1037.0, 221.0, 223.0, 411.0, 640.0, 349.0, 237.0, 10.0, 5085.0, 108.0, 495.0, 90.0, 405.0, 512.0, 125.0, 309.0, 421.0, 66.0, 1351.0, 4.0, 316.0, 9.0, 5.0, 370.0, 215.0, 200.0, 166.0, 353.0, 411.0, 122.0, 97.0, 26.0, 25.0, 116.0, 119.0, 5.0, 6.0, 683.0, 7.0, 489.0, 817.0, 85.0, 1882.0, 2502.0, 137.0, 89.0, 4.0, 56.0, 638.0, 182.0, 108.0, 55.0, 1061.0, 36.0, 252.0, 425.0, 9.0, 95.0, 617.0, 497.0, 140.0, 668.0, 202.0, 272.0, 139.0, 225.0, 89.0, 226056.0, 181.0, 13.0, 4798.0, 157.0, 568.0, 586.0, 155.0, 1091.0, 38.0, 739.0, 33.0, 27.0, 538.0, 92.0, 394.0, 10.0, 518.0, 41.0, 2023.0, 230.0, 85.0, 1080.0, 690.0, 208.0, 845.0, 19.0, 82.0, 252.0, 94.0, 399.0, 40.0, 577.0, 224.0, 164.0, 6.0, 21.0, 62.0, 18.0, 132.0, 63.0, 638.0, 19.0, 9.0, 1152.0, 2244.0, 771.0, 108.0, 67.0, 159.0, 38.0, 1351.0, 334.0, 175.0, 157.0, 120.0, 81.0, 20.0, 103.0, 38.0, 112.0, 127.0, 57.0, 112.0, 486.0, 8.0, 196.0, 691.0, 742.0, 226.0, 926.0, 2.0, 112.0, 48.0, 119.0, 292.0, 139.0, 175.0, 327.0, 163.0, 2056.0, 677.0, 27.0, 31.0, 513.0, 216.0, 301.0, 310.0, 32.0, 149.0, 1414.0, 10.0, 97.0, 71.0, 95.0, 101.0, 900.0, 92.0, 1001.0, 500.0, 112.0, 2035.0, 1304.0, 94.0, 30.0, 678.0, 805.0, 1470.0, 420.0, 104.0, 71.0, 161.0, 144.0, 289.0, 18.0, 367.0, 75.0, 133.0, 96.0, 867.0, 111.0, 134.0, 70.0, 418.0, 136.0, 633.0, 691.0, 113.0, 8.0, 200.0, 499.0, 298.0, 43.0, 36.0, 587.0, 45.0, 26.0, 494.0, 7.0, 129.0, 215.0, 816.0, 98.0, 163.0, 9.0, 129.0, 26.0, 112.0, 9.0, 32.0, 196.0, 90.0, 163.0, 566.0, 222.0, 7.0, 228.0, 186.0, 98.0, 100.0, 90.0, 351.0, 671.0, 756.0, 55.0, 107.0, 1294.0, 124.0, 135.0, 60.0, 941.0, 78.0, 404.0, 44.0, 294.0, 105.0, 235.0, 55.0, 399.0, 126.0, 239.0, 78.0, 511.0, 19.0, 95.0, 21.0, 981.0, 11.0, 232.0, 50.0, 831.0, 20.0, 117.0, 2206.0, 221.0, 1248.0, 19.0, 31.0, 157.0, 107.0, 172.0, 24.0, 145.0, 219.0, 732.0, 820.0, 276.0, 467.0, 776.0, 21.0, 120.0, 2386.0, 37.0, 13.0, 20.0, 1844.0, 199.0, 905.0, 29.0, 8.0, 130.0, 478.0, 470.0, 529.0, 600.0, 80.0, 8.0, 50.0, 40.0, 76.0, 111.0, 9.0, 105.0, 46.0, 1006.0, 65.0, 813.0, 102.0, 818.0, 1015.0, 128.0, 100.0, 2235.0, 71.0, 11.0, 685.0, 11.0, 236.0, 12.0, 902.0, 16.0, 8.0, 25.0, 496.0, 45.0, 31.0, 400.0, 2.0, 62.0, 152.0, 292.0, 256.0, 31.0, 120.0, 102.0, 60.0, 100.0, 27.0, 136.0, 102.0, 498.0, 13.0, 34.0, 31.0, 56.0, 463.0, 123.0, 22.0, 101.0, 1104.0, 62.0, 125.0, 10.0, 185.0, 26.0, 18.0, 56.0, 120.0, 383.0, 39.0, 6.0, 176.0, 222.0, 124.0, 109.0, 80.0, 79.0, 741.0, 78.0, 66.0, 29.0, 55.0, 61.0, 60.0, 168.0, 1425.0, 228.0, 676.0, 616.0, 49.0, 101.0, 72.0, 6.0, 137.0, 144.0, 570.0, 173.0, 551.0, 54.0, 56.0, 514.0, 1174.0, 29.0, 185.0, 6.0, 77.0, 33.0, 446.0, 49.0, 1059.0, 2257.0, 55.0, 7.0, 14.0, 97.0, 13.0, 136.0, 23.0, 20.0, 13.0, 275.0, 5.0, 466.0, 533.0, 126.0, 15.0, 127.0, 768.0, 424.0, 18.0, 59.0, 435.0, 354.0, 123.0, 125.0, 81.0, 131.0, 1652.0, 621.0, 236.0, 426.0, 787.0, 109.0, 74.0, 6.0, 98.0, 139.0, 123.0, 92.0, 159.0, 56.0, 245.0, 282.0, 244.0, 79.0, 42.0, 38.0, 622.0, 191.0, 325.0, 9854.0, 191.0, 89.0, 174.0, 173.0, 110.0, 15.0, 43.0, 192.0, 58.0, 11.0, 131.0, 17.0, 380.0, 42.0, 74.0, 839.0, 274.0, 46.0, 6.0, 43.0, 81.0, 27.0, 93.0, 630.0, 145.0, 783.0, 5.0, 40.0, 92.0, 120.0, 155.0, 303.0, 97.0, 106.0, 565.0, 114.0, 1928.0, 571.0, 160.0, 24.0, 849.0, 1533.0, 65.0, 9.0, 144.0, 234.0, 300.0, 288.0, 164.0, 391.0, 108.0, 18.0, 49.0, 15.0, 341.0, 16.0, 12.0, 354.0, 280.0, 119.0, 168.0, 15.0, 319.0, 678.0, 154.0, 731.0, 298.0, 2016.0, 92.0, 7.0, 32.0, 24.0, 785.0, 105.0, 410.0, 743.0, 36.0, 217.0, 211.0, 904.0, 57.0, 431.0, 76.0, 173.0, 779.0, 194.0, 8812.0, 47.0, 107.0, 7.0, 127.0, 151.0, 7.0, 61.0, 92.0, 134.0, 419.0, 201.0, 727.0, 96.0, 136.0, 2.0, 1.0, 9.0, 85.0, 66.0, 1169.0, 168.0, 4036.0, 40.0, 87.0, 440.0, 218.0, 656.0, 596.0, 37.0, 172.0, 150.0, 33.0, 176.0, 25.0, 37.0, 91.0, 84.0, 397.0, 47.0, 242.0, 16.0, 53.0, 18.0, 286.0, 1631.0, 35.0, 153.0, 1290.0, 167.0, 1309.0, 81.0, 55.0, 83.0, 128.0, 260.0, 801.0, 122.0, 1614.0, 95.0, 126.0, 34.0, 178.0, 576.0, 518.0, 674.0, 38.0, 76.0, 116.0, 84.0, 89.0, 318.0, 3525.0, 722.0, 220.0, 530.0, 378.0, 49.0, 185.0, 9.0, 8.0, 383.0, 32.0, 93.0, 6.0, 516.0, 178.0, 7.0, 906.0, 168.0, 7947.0, 31.0, 590.0, 211.0, 82.0, 591.0, 88.0, 590.0, 546.0, 8.0, 207.0, 3429.0, 436.0, 244.0, 604.0, 194.0, 25.0, 13.0, 18.0, 424.0, 142.0, 1296.0, 171.0, 66.0, 376.0, 2702.0, 20.0, 410.0, 227.0, 708.0, 580.0, 114.0, 4769.0, 526.0, 118.0, 85.0, 76.0, 200.0, 60.0, 573.0, 43.0, 843.0, 118.0, 112.0, 82.0, 292.0, 2058.0, 69.0, 1111.0, 584.0, 39.0, 29.0, 87.0, 35.0, 264.0, 178.0, 166.0, 78.0, 5.0, 79.0, 150.0, 108.0, 297.0, 218.0, 143.0, 107.0, 469.0, 64.0, 93.0, 4213.0, 217.0, 975.0, 913.0, 858.0, 579.0, 242.0, 688.0, 13.0, 169.0, 1111.0, 62.0, 665.0, 621.0, 28.0, 31.0, 811.0, 473.0, 422.0, 32.0, 185.0, 77.0, 823.0, 111.0, 142.0, 111.0, 144.0, 319.0, 180.0, 74.0, 43.0, 602.0, 178.0, 159.0, 4098.0, 64.0, 808.0, 28.0, 93.0, 88.0, 26.0, 298.0, 176.0, 142.0, 180.0, 49.0, 191.0, 38.0, 138.0, 97.0, 31.0, 166.0, 1232.0, 37.0, 8.0, 97.0, 116.0, 198.0, 374.0, 274.0, 217.0, 17.0, 568.0, 222.0, 172.0, 171.0, 284.0, 181.0, 21.0, 2060.0, 40.0, 89.0, 17.0, 47.0, 101.0, 814.0, 983.0, 234.0, 7389.0, 6943.0, 36.0, 561.0, 127.0, 139.0, 108.0, 42.0, 167.0, 582.0, 327.0, 28.0, 1779.0, 13.0, 79.0, 17.0, 1195.0, 232.0, 947.0, 72.0, 90.0, 1599.0, 668.0, 20.0, 6.0, 13.0, 147.0, 12.0, 1103.0, 103.0, 211.0, 217.0, 235.0, 137.0, 421.0, 49.0, 99.0, 518.0, 208.0, 91.0, 111.0, 112.0, 246.0, 38.0, 51.0, 230.0, 70.0, 84.0, 98.0, 364.0, 118.0, 58.0, 522.0, 13.0, 47.0, 81.0, 45.0, 239.0, 73.0, 36.0, 90.0, 124.0, 172.0, 68.0, 65.0, 82.0, 52.0, 114.0, 72.0, 64.0, 197.0, 180.0, 97.0, 111.0, 87.0, 1298.0, 927.0, 53.0, 142.0, 196.0, 73.0, 99.0, 48.0, 50.0, 761.0, 353.0, 126.0, 191.0, 268.0, 116.0, 131.0, 412.0, 257.0, 165.0, 257.0, 63.0, 171.0, 40.0, 352.0, 877.0, 96.0, 74.0, 38.0, 52.0, 185.0, 864.0, 69.0, 71.0, 80.0, 154.0, 213.0, 128.0, 158.0, 82.0, 6.0, 8.0, 111.0, 108.0, 93.0, 69.0, 101.0, 1131.0, 152.0, 128.0, 295.0, 392.0, 967.0, 48.0, 58437.0, 271.0, 72.0, 130.0, 620.0, 366.0, 1406.0, 578.0, 13.0, 116.0, 101.0, 577.0, 461.0, 78.0, 59.0, 96.0, 81.0, 685.0, 25.0, 7.0, 90.0, 346.0, 73.0, 143.0, 71.0, 4797.0, 4536.0, 2959.0, 49.0, 56.0, 52.0, 258.0, 632.0, 546.0, 402.0, 67.0, 70.0, 817.0, 276.0, 385.0, 253.0, 69.0, 101.0, 72.0, 70.0, 580.0, 64.0, 56.0, 26.0, 171.0, 36.0, 120.0, 65.0, 84.0, 27.0, 82.0, 138.0, 1712.0, 211.0, 171.0, 32.0, 100.0, 49.0, 178.0, 171.0, 309.0, 368.0, 10.0, 9.0, 10.0, 69.0, 504.0, 161.0, 8.0, 489.0, 55.0, 1023.0, 118.0, 54.0, 107.0, 147.0, 520.0, 39.0, 283.0, 74.0, 404.0, 7.0, 360.0, 18.0, 127.0, 458.0, 81.0, 28.0, 39.0, 138.0, 37.0, 206.0, 196.0, 210.0, 171.0, 191.0, 70.0, 517.0, 518.0, 29.0, 61.0, 81.0, 709.0, 63.0, 22.0, 84.0, 230.0, 194.0, 72.0, 78.0, 64.0, 395.0, 133.0, 324.0, 308.0, 47.0, 76.0, 75.0, 69.0, 1133.0, 76.0, 176.0, 155.0, 185.0, 1340.0, 268.0, 449.0, 44.0, 55.0, 90.0, 305.0, 14.0, 236.0, 280.0, 40.0, 678.0, 799.0, 104.0, 18.0, 103.0, 116.0, 67.0, 820.0, 299.0, 112.0, 64.0, 101.0, 2.0, 1.0, 2.0, 665.0, 99.0, 50.0, 687.0, 66.0, 100.0, 30.0, 28.0, 21.0, 160.0, 152.0, 330.0, 364.0, 134.0, 46.0, 25.0, 97.0, 208.0, 159.0, 2.0, 83.0, 95.0, 370.0, 133.0, 423.0, 10.0, 31.0, 123.0, 12720.0, 1094.0, 189.0, 73.0, 161.0, 19.0, 298.0, 33.0, 94.0, 30.0, 318.0, 16.0, 235.0, 87.0, 40.0, 670.0, 221.0, 65.0, 428.0, 572.0, 20.0, 92.0, 908.0, 221.0, 675.0, 217.0, 106.0, 50.0, 189.0, 65.0, 159.0, 237.0, 231.0, 414.0, 37.0, 742.0, 158.0, 106.0, 80.0, 285.0, 350.0, 127.0, 274.0, 135.0, 552.0, 176.0, 199.0, 150.0, 733.0, 42.0, 80.0, 119.0, 1135.0, 537.0, 7.0, 6.0, 6.0, 303.0, 105.0, 816.0, 93.0, 115.0, 478.0, 118.0, 636.0, 58.0, 135.0, 414.0, 87.0, 114.0, 31.0, 710.0, 272.0, 666.0, 70.0, 4848.0, 312.0, 16.0, 744.0, 29.0, 199.0, 36.0, 39.0, 1197.0, 78.0, 366.0, 330.0, 450.0, 18.0, 33.0, 390.0, 41.0, 37.0, 12.0, 11.0, 12.0, 91.0, 800.0, 31.0, 14.0, 344.0, 327.0, 811.0, 81.0, 13.0, 826.0, 385.0, 108.0, 52.0, 337.0, 810.0, 79.0, 84.0, 410.0, 52.0, 369.0, 152.0, 599.0, 91.0, 46.0, 191.0, 185.0, 29.0, 31.0, 6.0, 58519.0, 44.0, 237.0, 82.0, 67.0, 66.0, 82.0, 165.0, 94.0, 158.0, 188.0, 78.0, 795.0, 74.0, 147.0, 140.0, 257.0, 17.0, 18.0, 731.0, 19.0, 12.0, 236.0, 130.0, 82.0, 13.0, 430.0, 137.0, 98.0, 9.0, 61.0, 440.0, 31.0, 14.0, 510.0, 58.0, 106.0, 107.0, 180.0, 17.0, 1127.0, 13.0, 33.0, 153.0, 14.0, 334.0, 15.0, 45.0, 94.0, 81.0, 241.0, 12.0, 273.0, 75.0, 167.0, 219.0, 103.0, 83.0, 400.0, 176.0, 324.0, 63.0, 103.0, 80.0, 1351.0, 17.0, 622.0, 434.0, 40.0, 429.0, 463.0, 786.0, 91.0, 295.0, 209.0, 302.0, 121.0, 55.0, 343.0, 1569.0, 15815.0, 572.0, 101.0, 150.0, 9.0, 536.0, 786.0, 771.0, 15.0, 487.0, 323.0, 52.0, 75.0, 144.0, 233.0, 51.0, 161.0, 92.0, 23.0, 253.0, 119.0, 622.0, 1023.0, 13.0, 19.0, 681.0, 49455.0, 117.0, 1612.0, 368.0, 130.0, 1074.0, 458.0, 89.0, 67.0, 93.0, 617.0, 46.0, 74.0, 1153.0, 157.0, 53.0, 105.0, 37.0, 792.0, 150.0, 603.0, 5086.0, 656.0, 11.0, 246.0, 65.0, 403.0, 59.0, 419.0, 11.0, 17.0, 404.0, 677.0, 94.0, 760.0, 700.0, 2176.0, 22.0, 294.0, 180.0, 734.0, 1382.0, 118.0, 639.0, 298.0, 627.0, 394.0, 196.0, 16.0, 341.0, 223.0, 116.0, 49.0, 154.0, 126.0, 79.0, 261.0, 950.0, 136.0, 713.0, 1541.0, 369.0, 639.0, 1385.0, 506.0, 1877.0, 980.0, 166.0, 82.0, 205.0, 69.0, 854.0, 10.0, 837.0, 924.0, 443.0, 611.0, 61.0, 8.0, 94.0, 33.0, 76.0, 817.0, 162.0, 126.0, 36.0, 33.0, 1228.0, 530.0, 165.0, 509.0, 548.0, 12.0, 512.0, 51.0, 121.0, 196.0, 965.0, 83.0, 492.0, 32.0, 147.0, 469.0, 41.0, 431.0, 7.0, 6.0, 303.0, 1941.0, 18.0, 32.0, 74.0, 83.0, 59.0, 9.0, 812.0, 193.0, 42.0, 65.0, 434.0, 136.0, 240.0, 69.0, 63.0, 118.0, 150.0, 109.0, 240.0, 3410.0, 116.0, 186.0, 559.0, 239.0, 117.0, 458.0, 250.0, 1173.0, 80.0, 83.0, 58.0, 24.0, 692.0, 269.0, 686.0, 692.0, 1125.0, 753.0, 1067.0, 68.0, 191.0, 245.0, 1320.0, 1580.0, 287.0, 93.0, 246.0, 302.0, 4147.0, 328.0, 911.0, 87.0, 57.0, 90.0, 205.0, 155.0, 686.0, 1503.0, 1428.0, 131.0, 49.0, 195.0, 64.0, 1798.0, 248.0, 23.0, 130.0, 21.0, 1064.0, 966.0, 234.0, 294.0, 64.0, 332.0, 697.0, 146.0, 158.0, 153.0, 111.0, 202.0, 8.0, 10.0, 628.0, 75.0, 268.0, 128.0, 725.0, 173.0, 111.0, 5.0, 10.0, 234.0, 108.0, 53.0, 62.0, 145.0, 1239.0, 102.0, 28.0, 1350.0, 50.0, 109.0, 73.0, 105.0, 26.0, 44.0, 166.0, 311.0, 1011.0, 53.0, 76.0, 347.0, 288.0, 11.0, 26.0, 398.0, 21.0, 882.0, 23.0, 115.0, 45.0, 74.0, 293.0, 87.0, 543.0, 47.0, 512.0, 245.0, 651.0, 133.0, 19.0, 191.0, 1075.0, 659.0, 25.0, 330.0, 88.0, 104.0, 618.0, 8.0, 189.0, 184.0, 12.0, 1146.0, 21.0, 106.0, 30.0, 50.0, 17.0, 168.0, 68.0, 2047.0, 7303.0, 102.0, 708.0, 24.0, 110.0, 1619.0, 11.0, 150.0, 179.0, 338.0, 354.0, 47.0, 105.0, 845.0, 35.0, 71.0, 1994.0, 68.0, 138.0, 634.0, 184.0, 270.0, 165.0, 654.0, 499.0, 34.0, 270.0, 879.0, 292.0, 103.0, 473.0, 85.0, 629.0, 342.0, 112.0, 264.0, 122.0, 24.0, 804.0, 167.0, 30.0, 48327.0, 915.0, 416.0, 84.0, 72.0, 86.0, 58.0, 330.0, 477.0, 295.0, 26.0, 147.0, 12.0, 13.0, 75.0, 1087.0, 93.0, 11.0, 503.0, 1237.0, 186.0, 14.0, 44.0, 499.0, 14.0, 16.0, 153.0, 1044.0, 214.0, 112.0, 42.0, 690.0, 27.0, 190.0, 94.0, 346.0, 135.0, 235.0, 395.0, 68.0, 221.0, 132.0, 765.0, 293.0, 215.0, 558.0, 256.0, 322.0, 1408.0, 169.0, 485.0, 204.0, 50.0, 2.0, 221.0, 139.0, 199.0, 224.0, 241.0, 626.0, 100.0, 233.0, 118.0, 3386.0, 29.0, 343.0, 198.0, 7.0, 322.0, 614.0, 687.0, 140.0, 175.0, 34.0, 84.0, 166.0, 19.0, 711.0, 217.0, 147.0, 45.0, 175.0, 888.0, 765.0, 25.0, 87.0, 143.0, 1300.0, 310.0, 92.0, 226.0, 358.0, 20.0, 192.0, 12.0, 16.0, 13.0, 13.0, 16.0, 12.0, 44.0, 13.0, 79.0, 13.0, 638.0, 13.0, 12.0, 10.0, 660.0, 13.0, 774.0, 143.0, 327.0, 26.0, 156.0, 364.0, 397.0, 504.0, 15.0, 92.0, 10.0, 205.0, 572.0, 12.0, 72.0, 365.0, 316.0, 52.0, 13.0, 435.0, 101.0, 522.0, 25.0, 161.0, 88.0, 146.0, 23.0, 543.0, 473.0, 6.0, 169.0, 200.0, 206.0, 22.0, 291.0, 89.0, 508.0, 424.0, 99.0, 120.0, 380.0, 251.0, 498.0, 77.0, 108.0, 126.0, 53.0, 51.0, 24.0, 66.0, 445.0, 1377.0, 503.0, 251.0, 922.0, 691.0, 1437.0, 1145.0, 49.0, 175.0, 250.0, 15.0, 311.0, 377.0, 33.0, 503.0, 1751.0, 29.0, 469.0, 1442.0, 31.0, 65.0, 455.0, 82.0, 48.0, 47.0, 694.0, 102.0, 702.0, 974.0, 72.0, 246.0, 70.0, 719.0, 104.0, 1528.0, 49.0, 177.0, 1409.0, 110.0, 37.0, 1273.0, 745.0, 103.0, 861.0, 174.0, 17.0, 400.0, 693.0, 2386.0, 86.0, 611.0, 1608.0, 97.0, 147.0, 82.0, 84.0, 148.0, 726.0, 1309.0, 366.0, 413.0, 10.0, 7.0, 9.0, 11.0, 69.0, 571.0, 208.0, 648.0, 135.0, 73.0, 195.0, 747.0, 190.0, 180.0, 8.0, 9.0, 25.0, 7.0, 73.0, 71.0, 81.0, 655.0, 104.0, 13.0, 470.0, 375.0, 95.0, 133.0, 116.0, 127.0, 389.0, 20.0, 128.0, 154.0, 86.0, 410.0, 128.0, 8.0, 141.0, 9.0, 21.0, 51892.0, 7.0, 2070.0, 27.0, 152.0, 38.0, 76.0, 51.0, 98.0, 154.0, 72.0, 80.0, 94.0, 14.0, 169.0, 20.0, 174.0, 13.0, 25.0, 14.0, 608.0, 29.0, 54.0, 625.0, 156.0, 134.0, 41.0, 127.0, 134.0, 462.0, 71.0, 100.0, 5252.0, 615.0, 99.0, 552.0, 112.0, 208.0, 2583.0, 1010.0, 1390.0, 25.0, 701.0, 1229.0, 70.0, 1418.0, 860.0, 1492.0, 202.0, 380.0, 62.0, 650.0, 20.0, 572.0, 551.0, 898.0, 84.0, 160.0, 877.0, 159.0, 364.0, 138.0, 68.0, 847.0, 212.0, 334.0, 202.0, 139863.0, 256.0, 276.0, 225.0, 272.0, 266.0, 100.0, 318.0, 109.0, 421.0, 1117.0, 199.0, 413.0, 276.0, 497.0, 17.0, 342.0, 11.0, 506.0, 546.0, 118.0, 12.0, 109.0, 11.0, 944.0, 163.0, 148.0, 1026.0, 675.0, 64.0, 413.0, 306.0, 79.0, 580.0, 153.0, 219.0, 13.0, 626.0, 8.0, 862.0, 126.0, 643.0, 176.0, 2449.0, 21.0, 380.0, 920.0, 233.0, 275.0, 98.0, 514.0, 481.0, 901.0, 107.0, 405.0, 354.0, 384.0, 1094.0, 403.0, 508.0, 66.0, 819.0, 151.0, 76.0, 131.0, 356.0, 76.0, 116.0, 72.0, 134.0, 325.0, 212.0, 244.0, 2035.0, 60.0, 815.0, 218.0, 72.0, 224.0, 53.0, 958.0, 795.0, 139.0, 65.0, 98.0, 965.0, 1061.0, 824.0, 51.0, 1191.0, 670.0, 112.0, 168.0, 220.0, 332.0, 63.0, 54.0, 625.0, 7.0, 48.0, 20.0, 35.0, 165.0, 16.0, 7.0, 960.0, 93.0, 251.0, 158.0, 67.0, 493.0, 30.0, 1082.0, 589.0, 23.0, 109.0, 629.0, 7.0, 3873.0, 70.0, 80.0, 564.0, 82.0, 338.0, 293.0, 659.0, 82.0, 89.0, 165.0, 34.0, 447.0, 77.0, 40.0, 453.0, 465.0, 61.0, 13.0, 30.0, 20.0, 1240.0, 384.0, 118.0, 228.0, 89.0, 182.0, 78.0, 85.0, 49.0, 30.0, 543.0, 154.0, 134.0, 590.0, 503.0, 1000.0, 26.0, 198.0, 720.0, 74.0, 36.0, 155.0, 28.0, 377.0, 169.0, 27.0, 20.0, 1734.0, 739.0, 14.0, 193.0, 13.0, 596.0, 395.0, 29.0, 283.0, 14.0, 755.0, 34.0, 339.0, 160.0, 8.0, 1672.0, 3468.0, 13.0, 144.0, 1042.0, 10.0, 87.0, 206.0, 22.0, 267.0, 1283.0, 1236.0, 488.0, 414.0, 70.0, 255.0, 721.0, 154.0, 1.0, 26.0, 1.0, 2.0, 483.0, 35.0, 187.0, 15.0, 1215.0, 54.0, 481.0, 258.0, 302.0, 134.0, 204.0, 473.0, 216.0, 576.0, 41.0, 300.0, 562.0, 839.0, 116.0, 71.0, 154.0, 23.0, 14.0, 12.0, 13.0, 118.0, 131.0, 96.0, 12.0, 6.0, 552.0, 154.0, 149.0, 172.0, 142.0, 148.0, 200.0, 157.0, 147.0, 79.0, 110.0, 31.0, 532.0, 141.0, 40.0, 100.0, 181.0, 201.0, 8.0, 179.0, 594.0, 364.0, 10.0, 79.0, 843.0, 35.0, 69.0, 320.0, 25.0, 47.0, 26.0, 2174.0, 108.0, 82.0, 230.0, 867.0, 15.0, 70.0, 354.0, 11.0, 12.0, 221.0, 139.0, 1202.0, 435.0, 12.0, 204.0, 630.0, 1454.0, 15.0, 17.0, 1963.0, 15.0, 84.0, 676.0, 15.0, 47.0, 337.0, 75.0, 228.0, 6.0, 74.0, 107.0, 21.0, 722.0, 497.0, 74.0, 439.0, 273.0, 2670.0, 90.0, 374.0, 246.0, 554.0, 2009.0, 781.0, 74.0, 14.0, 106.0, 312.0, 39.0, 172.0, 1062.0, 247.0, 640.0, 66.0, 184.0, 168.0, 201.0, 616.0, 2727.0, 85.0, 441.0, 841.0, 237.0, 91.0, 780.0, 374.0, 163.0, 422.0, 184.0, 765.0, 82.0, 294.0, 325.0, 145.0, 30.0, 47.0, 120.0, 42.0, 33938.0, 49450.0, 1885.0, 47.0, 1618.0, 77.0, 20.0, 787.0, 23.0, 54.0, 279.0, 258.0, 82.0, 45.0, 40.0, 233.0, 118.0, 317.0, 2706.0, 164.0, 324.0, 10.0, 848.0, 224.0, 110.0, 11.0, 51.0, 91.0, 782.0, 335.0, 502.0, 29.0, 75.0, 524.0, 932.0, 210.0, 4743.0, 888.0, 163.0, 88.0, 6531.0, 187.0, 94.0, 1137.0, 988.0, 6033.0, 128.0, 388.0, 264.0, 78.0, 60.0, 113.0, 50.0, 130.0, 35.0, 94.0, 133.0, 197.0, 459.0, 277.0, 349.0, 756.0, 648.0, 525.0, 70.0, 73.0, 240.0, 11.0, 1151.0, 853.0, 371.0, 15.0, 348.0, 581.0, 24.0, 3842.0, 458.0, 391.0, 274.0, 434.0, 1625.0, 897.0, 880.0, 907.0, 161.0, 26.0, 682.0, 403.0, 217.0, 31.0, 171.0, 2038.0, 286.0, 536.0, 1078.0, 661.0, 33.0, 27.0, 625.0, 201.0, 74.0, 9.0, 224.0, 232.0, 724.0, 612.0, 10.0, 12.0, 11.0, 1096.0, 60.0, 18.0, 35.0, 299.0, 272.0, 441.0, 39.0, 161.0, 1598.0, 163.0, 169.0, 130.0, 618.0, 505.0, 272.0, 35.0, 67.0, 76.0, 332.0, 565.0, 269.0, 298.0, 83.0, 79.0, 442.0, 178.0, 97.0, 49.0, 650.0, 48.0, 619.0, 233.0, 134.0, 43.0, 236.0, 45.0, 104.0, 9.0, 210.0, 243.0, 23.0, 44.0, 78.0, 224.0, 75.0, 72.0, 36.0, 5.0, 28.0, 32.0, 110.0, 23.0, 13.0, 74.0, 86.0, 10.0, 99.0, 27.0, 73.0, 530.0, 83.0, 35.0, 141.0, 61.0, 694.0, 132.0, 203.0, 55.0, 38.0, 82.0, 378.0, 91.0, 78.0, 80.0, 123.0, 868.0, 95.0, 181.0, 197.0, 146.0, 60.0, 220.0, 67.0, 26.0, 750.0, 98.0, 386.0, 107.0, 686.0, 120.0, 66.0, 108.0, 727.0, 52.0, 55.0, 1008.0, 11.0, 44.0, 575.0, 72.0, 120.0, 111.0, 47.0, 136.0, 20.0, 91.0, 34.0, 132.0, 190.0, 76.0, 83.0, 322.0, 193.0, 59.0, 28.0, 11.0, 751.0, 705.0, 100.0, 74.0, 137.0, 565.0, 212.0, 160.0, 10.0, 191.0, 754.0, 78.0, 68.0, 505.0, 502.0, 45.0, 638.0, 736.0, 322.0, 143.0, 129.0, 36.0, 108.0, 359.0, 24.0, 22.0, 17.0, 40779.0, 1629.0, 125.0, 70.0, 123.0, 184.0, 493.0, 76.0, 83.0, 9.0, 113.0, 12.0, 13.0, 28.0, 269.0, 798.0, 415.0, 753.0, 1244.0, 553.0, 215.0, 101.0, 26.0, 289.0, 164.0, 697.0, 43.0, 27.0, 1843.0, 502.0, 130.0, 112.0, 624.0, 370.0, 78.0, 85.0, 90.0, 105.0, 1157.0, 200.0, 1121.0, 865.0, 44.0, 207.0, 998.0, 799.0, 291.0, 885.0, 1450.0, 452.0, 395.0, 680.0, 1077.0, 156.0, 77.0, 637.0, 33.0, 269.0, 365.0, 67.0, 648.0, 382.0, 151.0, 149.0, 522.0, 845.0, 56.0, 89.0, 2620.0, 3.0, 221.0, 11.0, 1747.0, 19.0, 1294.0, 276.0, 657.0, 329.0, 347.0, 191.0, 602.0, 45.0, 163.0, 128.0, 201.0, 165.0, 55.0, 135.0, 127.0, 141.0, 159.0, 293.0, 203.0, 21.0, 665.0, 722.0, 2240.0, 249.0, 917.0, 767.0, 111.0, 133.0, 114.0, 155.0, 85.0, 195.0, 12.0, 38.0, 480.0, 21.0, 14.0, 184.0, 109.0, 13.0, 251.0, 10.0, 15.0, 17.0, 16.0, 206.0, 81.0, 948.0, 34.0, 282.0, 21.0, 29.0, 63.0, 12.0, 20.0, 2124.0, 449.0, 335.0, 2036.0, 231.0, 154.0, 184.0, 173.0, 1718.0, 40.0, 1635.0, 919.0, 217.0, 1111.0, 47.0, 44.0, 1155.0, 742.0, 255.0, 503.0, 141.0, 277.0, 175.0, 1118.0, 120.0, 431.0, 895.0, 36.0, 393.0, 42.0, 289.0, 211.0, 35.0, 761.0, 201.0, 265.0, 23.0, 228.0, 47.0, 488.0, 215.0, 240.0, 193.0, 381.0, 459.0, 475.0, 12.0, 355.0, 576.0, 60.0, 129.0, 41.0, 428.0, 10.0, 105.0, 38.0, 107.0, 936.0, 222.0, 2300.0, 27.0, 23.0, 235.0, 141.0, 179.0, 166.0, 353.0, 651.0, 345.0, 212.0, 189.0, 35.0, 450.0, 304.0, 192.0, 39.0, 192.0, 52.0, 131.0, 103.0, 136.0, 381.0, 724.0, 531.0, 52.0, 71.0, 1.0, 145.0, 690.0, 254.0, 753.0, 120.0, 23.0, 317.0, 190.0, 657.0, 223.0, 727.0, 85.0, 35.0, 3811.0, 17.0, 122.0, 57.0, 18.0, 229.0, 1832.0, 1089.0, 270.0, 88.0, 11.0, 1021.0, 192.0, 337.0, 88.0, 2.0, 125.0, 7.0, 39.0, 11.0, 591.0, 149.0, 53.0, 486.0, 126.0, 3193.0, 13.0, 102.0, 435.0, 41.0, 25.0, 23.0, 358.0, 9.0, 37.0, 76.0, 27.0, 8.0, 2688.0, 130.0, 142.0, 452.0, 99.0, 259.0, 411.0, 11.0, 47.0, 214.0, 473.0, 328.0, 16.0, 24.0, 634.0, 11.0, 1613.0, 173.0, 49.0, 81.0, 1.0, 467.0, 67.0, 405.0, 257.0, 1403.0, 215.0, 142.0, 304.0, 238.0, 46.0, 292.0, 860.0, 777.0, 439.0, 552.0, 462.0, 981.0, 164.0, 24.0, 216.0, 333.0, 1.0, 916.0, 205.0, 1034.0, 43.0, 186.0, 97.0, 308.0, 10.0, 201.0, 11.0, 92.0, 218.0, 11.0, 11.0, 141.0, 14.0, 84.0, 641.0, 394.0, 153.0, 505.0, 556.0, 170.0, 154.0, 107.0, 251.0, 105.0, 112.0, 269.0, 445.0, 201.0, 118.0, 160.0, 152.0, 171.0, 10.0, 483.0, 636.0, 2.0, 32.0, 248.0, 520.0, 65.0, 294.0, 144.0, 498.0, 19.0, 378.0, 190.0, 156.0, 1295.0, 121.0, 95.0, 490.0, 111.0, 12.0, 18.0, 96.0, 41.0, 33.0, 144.0, 254.0, 436.0, 163.0, 96.0, 241.0, 568.0, 189.0, 94.0, 22.0, 105.0, 287.0, 31.0, 18.0, 144.0, 8.0, 13.0, 420.0, 61.0, 1605.0, 1303.0, 726.0, 166.0, 153.0, 58.0, 1778.0, 403.0, 166.0, 1342.0, 1530.0, 1754.0, 58.0, 710.0, 93.0, 37.0, 627.0, 1889.0, 206.0, 66.0, 34.0, 117.0, 207.0, 205.0, 162.0, 19.0, 154.0, 16.0, 930.0, 22.0, 828.0, 10.0, 17.0, 1159.0, 11.0, 402.0, 32.0, 3.0, 37.0, 41.0, 159.0, 99.0, 300.0, 10.0, 10.0, 127.0, 11.0, 302.0, 1317.0, 35.0, 492.0, 377.0, 364.0, 756.0, 74.0, 250.0, 109.0, 78.0, 860.0, 412.0, 94.0, 7.0, 831.0, 9.0, 69.0, 182.0, 718.0, 20.0, 8.0, 143.0, 155.0, 774.0, 241.0, 486.0, 24.0, 474.0, 75.0, 63.0, 535.0, 809.0, 116.0, 99.0, 152.0, 146.0, 452.0, 378.0, 26.0, 36.0, 154.0, 93.0, 134.0, 243.0, 530.0, 8.0, 109.0, 484.0, 6.0, 9.0, 3088.0, 91.0, 15.0, 824.0, 304.0, 6.0, 100.0, 751.0, 51.0, 60.0, 507.0, 802.0, 181.0, 39.0, 208.0, 136.0, 211.0, 454.0, 81.0, 587.0, 194.0, 66.0, 507.0, 440.0, 388.0, 48.0, 1203.0, 1056.0, 357.0, 272.0, 86.0, 81.0, 192.0, 658.0, 52.0, 3011.0, 1170.0, 760.0, 435.0, 163.0, 320.0, 1315.0, 20.0, 210.0, 133.0, 180.0, 176.0, 263.0, 25.0, 145.0, 2942.0, 41.0, 395.0, 113.0, 334.0, 122.0, 277.0, 52.0, 493.0, 22.0, 377.0, 122.0, 1859.0, 571.0, 461.0, 202.0, 32.0, 434.0, 28.0, 89.0, 368.0, 31.0, 724.0, 76.0, 306.0, 5.0, 681.0, 1680.0, 426.0, 535.0, 1449.0, 232.0, 38.0, 244.0, 433.0, 319.0, 302.0, 84.0, 93.0, 24.0, 731.0, 170.0, 12.0, 42.0, 10.0, 1359.0, 22.0, 27.0, 60.0, 1218.0, 35.0, 1178.0, 92.0, 3277.0, 11.0, 205.0, 32.0, 541.0, 39.0, 2.0, 135.0, 1468.0, 36.0, 534.0, 422.0, 104.0, 223.0, 19.0, 680.0, 11.0, 537.0, 200.0, 1248.0, 494.0, 948.0, 116.0, 1663.0, 226.0, 1653.0, 1000.0, 2423.0, 1615.0, 376.0, 26.0, 769.0, 68.0, 169.0, 1899.0, 155.0, 100.0, 32.0, 3269.0, 51.0, 554.0, 290.0, 713.0, 296.0, 76.0, 1078.0, 362.0, 4.0, 123.0, 624.0, 226.0, 70.0, 133.0, 580.0, 802.0, 257.0, 400.0, 905.0, 150.0, 142.0, 82.0, 123.0, 130.0, 295.0, 38.0, 241.0, 210.0, 137.0, 255.0, 12.0, 476.0, 12.0, 33.0, 11.0, 199.0, 38.0, 3548.0, 113.0, 873.0, 112.0, 890.0, 2640.0, 80.0, 376.0, 1035.0, 828.0, 1656.0, 25.0, 506.0, 657.0, 792.0, 60.0, 60.0, 807.0, 853.0, 101.0, 815.0, 25.0, 541.0, 101.0, 75.0, 251.0, 1285.0, 36.0, 1725.0, 109.0, 560.0, 1486.0, 360.0, 95.0, 43.0, 119.0, 803.0, 150.0, 2496.0, 493.0, 26.0, 1561.0, 903.0, 693.0, 52.0, 93.0, 1605.0, 211.0, 106.0, 74.0, 115.0, 483.0, 101.0, 455.0, 48.0, 585.0, 49817.0, 392.0, 131.0, 663.0, 195.0, 135.0, 215.0, 304.0, 186.0, 11.0, 445.0, 119.0, 80.0, 124.0, 126.0, 17.0, 172.0, 373.0, 1207.0, 19.0, 21.0, 238.0, 2066.0, 177.0, 411.0, 92.0, 467.0, 1753.0, 196.0, 1248.0, 40.0, 66.0, 6.0, 162.0, 449.0, 57.0, 47.0, 769.0, 239.0, 8.0, 327.0, 6.0, 406.0, 417.0, 158.0, 49.0, 1109.0, 523.0, 484.0, 616.0, 2.0, 593.0, 50.0, 778.0, 130.0, 14.0, 925.0, 43.0, 13.0, 200.0, 1594.0, 196.0, 187.0, 267.0, 1093.0, 1462.0, 16.0, 20.0, 259.0, 1237.0, 27.0, 168.0, 454.0, 910.0, 56.0, 100.0, 6.0, 1813.0, 853.0, 179.0, 17.0, 518.0, 16.0, 358.0, 115.0, 19.0, 209.0, 151.0, 43.0, 571.0, 498.0, 55.0, 43.0, 118.0, 9.0, 317.0, 12.0, 62.0, 157.0, 126.0, 403.0, 477.0, 189.0, 309.0, 487.0, 184.0, 172.0, 229.0, 99.0, 159.0, 13.0, 1285.0, 1126.0, 34.0, 33.0, 1501.0, 23.0, 14.0, 1201.0, 873.0, 132.0, 32.0, 397.0, 1016.0, 415.0, 127.0, 243.0, 336.0, 95.0, 1797.0, 110.0, 2045.0, 547.0, 2077.0, 303.0, 10.0, 235.0, 245.0, 117.0, 2012.0, 1809.0, 1366.0, 12.0, 97.0, 50.0, 14.0, 36.0, 68.0, 959.0, 144.0, 543.0, 247.0, 19.0, 775.0, 59.0, 303.0, 21.0, 163.0, 555.0, 71.0, 71.0, 114.0, 256.0, 299.0, 180.0, 1553.0, 103.0, 73.0, 65.0, 573.0, 138.0, 109.0, 200.0, 124.0, 11.0, 78.0, 92.0, 559.0, 442.0, 14.0, 11.0, 99.0, 10.0, 37.0, 91.0, 28.0, 157.0, 222.0, 155.0, 208.0, 181.0, 197.0, 179.0, 204.0, 417.0, 856.0, 261.0, 6.0, 173.0, 95.0, 589.0, 447.0, 149.0, 265.0, 1140.0, 239037.0, 239335.0, 40.0, 71.0, 122.0, 101.0, 674.0, 692.0, 115.0, 669.0, 759.0, 9.0, 5644.0, 908.0, 136.0, 34.0, 164.0, 739.0, 98.0, 632.0, 39.0, 75.0, 72.0, 59.0, 12.0, 47.0, 319.0, 122.0, 36.0, 124.0, 408.0, 16.0, 11.0, 11.0, 12.0, 11.0, 1101.0, 13.0, 41.0, 16.0, 834.0, 950.0, 495.0, 94.0, 49.0, 583.0, 16.0, 59.0, 58.0, 1248.0, 78.0, 687.0, 549.0, 62.0, 644.0, 246.0, 83.0, 91.0, 529.0, 520.0, 1002.0, 1257.0, 109.0, 112.0, 1414.0, 109.0, 288.0, 34.0, 2025.0, 499.0, 482.0, 453.0, 1369.0, 1640.0, 950.0, 926.0, 56.0, 551.0, 25.0, 1150.0, 26.0, 267.0, 130.0, 22.0, 637.0, 559.0, 178.0, 1046.0, 310.0, 62.0, 23.0, 718.0, 157.0, 135.0, 122.0, 79.0, 31.0, 9.0, 58.0, 23.0, 313.0, 74.0, 51.0, 32.0, 316.0, 17.0, 20.0, 122.0, 116.0, 8.0, 85.0, 118.0, 312.0, 55.0, 614.0, 41.0, 180.0, 460.0, 108.0, 13.0, 116.0, 56.0, 15.0, 90.0, 579.0, 580.0, 477.0, 219.0, 322.0, 332.0, 185.0, 1063.0, 143.0, 890.0, 482.0, 123.0, 581.0, 84.0, 2442.0, 43.0, 69.0, 157.0, 90.0, 55.0, 163.0, 1152.0, 89.0, 170.0, 785.0, 62.0, 1761.0, 217.0, 9373.0, 53.0, 2106.0, 248.0, 262.0, 18.0, 231.0, 62.0, 197.0, 15.0, 8.0, 351.0, 125.0, 518.0, 75.0, 248.0, 117.0, 171.0, 58.0, 7.0, 152.0, 11.0, 8.0, 239.0, 325.0, 23.0, 489.0, 619.0, 1533.0, 5637.0, 17.0, 308.0, 1378.0, 193.0, 130.0, 19.0, 32.0, 29.0, 2.0, 111.0, 50.0, 53.0, 49.0, 66.0, 144.0, 799.0, 774.0, 66.0, 159.0, 153.0, 237.0, 88.0, 8.0, 90.0, 155.0, 150.0, 60.0, 123.0, 38.0, 83.0, 212.0, 27.0, 10.0, 714.0, 1514.0, 11.0, 69.0, 94.0, 422.0, 10.0, 6.0, 29.0, 841.0, 790.0, 343.0, 125.0, 74.0, 917.0, 76.0, 252.0, 3.0, 24.0, 744.0, 138.0, 535.0, 961.0, 35.0, 663.0, 146.0, 189.0, 145.0, 10.0, 295.0, 41.0, 9.0, 215.0, 8.0, 354.0, 1057.0, 443.0, 1160.0, 165.0, 1605.0, 453.0, 158.0, 54.0, 101.0, 202.0, 479.0, 165.0, 14.0, 625.0, 85.0, 394.0, 497.0, 97.0, 1353.0, 95.0, 60.0, 154.0, 15.0, 8.0, 45.0, 587.0, 1525.0, 338.0, 397.0, 132.0, 14.0, 1061.0, 824.0, 104.0, 461.0, 43.0, 24.0, 483.0, 41.0, 54.0, 505.0, 2456.0, 95.0, 7.0, 690.0, 900.0, 11.0, 1035.0, 53.0, 17.0, 105.0, 108.0, 12.0, 14.0, 842.0, 76.0, 11.0, 483.0, 15.0, 4.0, 58.0, 414.0, 23.0, 211.0, 153.0, 111.0, 449.0, 370.0, 11.0, 652.0, 549.0, 85.0, 508.0, 6.0, 303.0, 141.0, 485.0, 256.0, 479.0, 42.0, 2115.0, 624.0, 796.0, 1006.0, 2132.0, 237.0, 9.0, 1549.0, 142.0, 486.0, 868.0, 203.0, 21.0, 196.0, 357.0, 161.0, 705.0, 16.0, 30.0, 45.0, 9.0, 193.0, 60.0, 914.0, 89.0, 255.0, 1228.0, 701.0, 92.0, 30.0, 13.0, 26.0, 270.0, 60.0, 1172.0, 806.0, 442.0, 2284.0, 2340.0, 2382.0, 195.0, 527.0, 198.0, 155.0, 71.0, 766.0, 36.0, 174.0, 100.0, 765.0, 93.0, 57.0, 882.0, 92.0, 7.0, 49.0, 42.0, 795.0, 81.0, 593.0, 500.0, 122.0, 73.0, 232.0, 153.0, 54.0, 707.0, 153.0, 108.0, 177.0, 260.0, 48778.0, 353.0, 113.0, 23.0, 576.0, 43.0, 214.0, 34.0, 167.0, 124.0, 769.0, 354.0, 449.0, 21.0, 105.0, 16.0, 248.0, 406.0, 108.0, 448.0, 55.0, 117.0, 195.0, 9187.0, 67.0, 141.0, 58.0, 447.0, 465.0, 286.0, 21.0, 14.0, 38.0, 22.0, 203.0, 427.0, 55.0, 8.0, 17.0, 348.0, 121.0, 146.0, 664.0, 145.0, 214.0, 59.0, 64.0, 183.0, 58.0, 18.0, 263.0, 270.0, 58.0, 92.0, 51.0, 90.0, 56.0, 52.0, 99.0, 132.0, 265.0, 274.0, 39.0, 79.0, 1033.0, 62.0, 159.0, 780.0, 95.0, 61.0, 186.0, 11.0, 74.0, 9.0, 188.0, 9.0, 36.0, 13.0, 411.0, 85.0, 1748.0, 3441.0, 150.0, 111.0, 3617.0, 866.0, 69.0, 313.0, 353.0, 886.0, 14.0, 13.0, 1586.0, 78.0, 874.0, 10928.0, 13087.0, 120.0, 202.0, 648.0, 219.0, 934.0, 222.0, 70.0, 98.0, 33.0, 361.0, 162.0, 5.0, 1055.0, 81.0, 447.0, 461.0, 173.0, 478.0, 2107.0, 603.0, 340.0, 44.0, 582.0, 14.0, 27.0, 18.0, 119.0, 353.0, 13.0, 685.0, 167.0, 55.0, 201.0, 83.0, 199.0, 24.0, 104.0, 56.0, 1171.0, 98.0, 1168.0, 106.0, 44.0, 86.0, 9.0, 117.0, 286.0, 45.0, 1041.0, 246.0, 709.0, 108.0, 734.0, 140.0, 583.0, 100.0, 27.0, 64.0, 13.0, 698.0, 106.0, 30.0, 133.0, 78.0, 13.0, 1131.0, 7.0, 26.0, 95.0, 177.0, 44.0, 151.0, 91.0, 65.0, 50.0, 61.0, 1386.0, 89.0, 111.0, 64.0, 158.0, 1021.0, 285.0, 137.0, 49.0, 1073.0, 99.0, 1056.0, 139.0, 264.0, 183.0, 142.0, 10.0, 40.0, 76.0, 740.0, 260.0, 250.0, 10.0, 34.0, 165.0, 639.0, 155.0, 129.0, 226.0, 359.0, 1283.0, 708.0, 75.0, 250.0, 5888.0, 631.0, 552.0, 221.0, 175.0, 790.0, 69.0, 156.0, 17.0, 410.0, 34.0, 26.0, 277.0, 1992.0, 9.0, 121.0, 523.0, 128.0, 6.0, 4.0, 165.0, 138.0, 83.0, 390.0, 221.0, 697.0, 116.0, 107.0, 368.0, 103.0, 248.0, 610.0, 125.0, 122.0, 56.0, 110.0, 367.0, 390.0, 10.0, 76.0, 84.0, 92.0, 53.0, 498.0, 276.0, 597.0, 84.0, 197.0, 125.0, 678.0, 355.0, 104.0, 1054.0, 28.0, 2.0, 29.0, 74.0, 102.0, 46.0, 322.0, 502.0, 141.0, 50583.0, 40.0, 86.0, 130.0, 106.0, 136.0, 116.0, 69.0, 110.0, 160.0, 134.0, 38.0, 89.0, 95.0, 43.0, 175.0, 596.0, 68.0, 50.0, 11.0, 370.0, 603.0, 21.0, 65.0, 13.0, 11.0, 14.0, 450.0, 48.0, 13.0, 33.0, 2098.0, 7836.0, 37.0, 673.0, 11.0, 162.0, 651.0, 42.0, 385.0, 164.0, 831.0, 12.0, 75.0, 44.0, 67.0, 104.0, 54.0, 47.0, 83.0, 133.0, 67.0, 713.0, 41.0, 100.0, 7.0, 76.0, 4.0, 44.0, 85.0, 165.0, 719.0, 1096.0, 87.0, 150.0, 223.0, 588.0, 300.0, 790.0, 620.0, 442.0, 122.0, 26.0, 159.0, 591.0, 803.0, 786.0, 540.0, 584.0, 576.0, 95.0, 311.0, 9.0, 3135.0, 171.0, 59.0, 373.0, 409.0, 69.0, 83.0, 18.0, 614.0, 460.0, 135.0, 56.0, 196.0, 993.0, 83.0, 480.0, 29.0, 280.0, 15.0, 233.0, 91.0, 115.0, 52.0, 140.0, 141.0, 31.0, 548.0, 34.0, 149.0, 120.0, 138.0, 156.0, 94.0, 182.0, 4946.0, 8122.0, 145.0, 120.0, 175.0, 40.0, 177.0, 97.0, 113.0, 27.0, 75.0, 59.0, 41.0, 142.0, 87.0, 122.0, 741.0, 427.0, 135.0, 23.0, 417.0, 139.0, 155.0, 580.0, 55.0, 112.0, 9.0, 605.0, 107.0, 357.0, 645.0, 611.0, 763.0, 138.0, 480.0, 87.0, 163.0, 5.0, 78.0, 460.0, 49.0, 63.0, 177.0, 37.0, 56.0, 416.0, 187.0, 23.0, 177.0, 78.0, 376.0, 137.0, 88.0, 303.0, 7.0, 84.0, 249.0, 84.0, 306.0, 43.0, 104.0, 344.0, 23.0, 11.0, 898.0, 19.0, 190.0, 388.0, 1045.0, 17.0, 90.0, 36.0, 11.0, 9.0, 520.0, 363.0, 139.0, 15.0, 239.0, 791.0, 57.0, 9.0, 590.0, 90.0, 10.0, 1136.0, 96.0, 462.0, 48.0, 158.0, 272.0, 145.0, 86.0, 88.0, 8.0, 37.0, 440.0, 931.0, 2.0, 183.0, 20.0, 1937.0, 9.0, 122.0, 134.0, 32.0, 41.0, 269.0, 112.0, 1328.0, 38.0, 107.0, 787.0, 81.0, 186.0, 88.0, 2.0, 94.0, 115.0, 910.0, 133.0, 432.0, 43.0, 614.0, 170.0, 133.0, 545.0, 10.0, 469.0, 3216.0, 79.0, 57.0, 65.0, 77.0, 65.0, 202.0, 157.0, 404.0, 7.0, 124.0, 292.0, 49.0, 73.0, 235.0, 547.0, 1156.0, 689.0, 64.0, 50.0, 883.0, 5.0, 275.0, 167.0, 130.0, 297.0, 133.0, 110.0, 33.0, 150.0, 182.0, 149.0, 14.0, 519.0, 77.0, 328.0, 908.0, 238.0, 622.0, 334.0, 454.0, 115.0, 82.0, 204.0, 655.0, 34.0, 17.0, 180.0, 74.0, 316.0, 14.0, 320.0, 753.0, 194.0, 103.0, 244.0, 692.0, 68.0, 1951.0, 106.0, 950.0, 46.0, 222.0, 200.0, 24.0, 488.0, 427.0, 83.0, 131.0, 173.0, 237.0, 464.0, 26.0, 107.0, 51.0, 57.0, 319.0, 733.0, 513.0, 11.0, 82.0, 628.0, 248.0, 149.0, 156.0, 120.0, 74.0, 70.0, 78.0, 44.0, 373.0, 73.0, 814.0, 63.0, 51.0, 774.0, 49.0, 45.0, 119.0, 57.0, 41.0, 864.0, 364.0, 632.0, 219.0, 102.0, 117.0, 92.0, 183.0, 97.0, 135.0, 61.0, 165.0, 598.0, 258.0, 112.0, 630.0, 102.0, 76.0, 218.0, 420.0, 12.0, 489.0, 8.0, 728.0, 550.0, 639.0, 109.0, 601.0, 52.0, 1454.0, 740.0, 95.0, 34.0, 520.0, 176.0, 1313.0, 574.0, 721.0, 868.0, 471.0, 451.0, 7.0, 61.0, 52.0, 51.0, 115.0, 125.0, 51.0, 705.0, 790.0, 872.0, 19.0, 32.0, 58.0, 262.0, 357.0, 111.0, 124.0, 1945.0, 434.0, 93.0, 65.0, 160.0, 8.0, 399.0, 16.0, 15.0, 56.0, 20.0, 2067.0, 118.0, 71.0, 106.0, 269.0, 383.0, 1002.0, 8.0, 47.0, 998.0, 72.0, 316.0, 666.0, 711.0, 34.0, 233.0, 17.0, 78.0, 140.0, 155.0, 43.0, 129.0, 64.0, 599.0, 223.0, 103.0, 37.0, 21.0, 49.0, 98.0, 35.0, 179.0, 31.0, 75.0, 225.0, 327.0, 129.0, 49.0, 26.0, 54.0, 89.0, 229.0, 32.0, 87.0, 30.0, 158.0, 124.0, 432.0, 154.0, 39.0, 353.0, 21.0, 43.0, 953.0, 499.0, 82.0, 243.0, 40.0, 70.0, 701.0, 124.0, 748.0, 821.0, 175.0, 584.0, 2.0, 979.0, 278.0, 2062.0, 36.0, 28.0, 64.0, 1034.0, 121.0, 326.0, 380.0, 7.0, 354.0, 37.0, 140.0, 257.0, 484.0, 728.0, 67.0, 111.0, 33.0, 572.0, 313.0, 19.0, 162.0, 95.0, 20.0, 32.0, 19.0, 51.0, 136.0, 732.0, 2602.0, 425.0, 1975.0, 16.0, 13.0, 17.0, 152.0, 692.0, 14.0, 16.0, 44.0, 1339.0, 9.0, 302.0, 385.0, 1591.0, 142.0, 271.0, 479.0, 1260.0, 694.0, 12.0, 18.0, 2847.0, 605.0, 81.0, 160.0, 2874.0, 1507.0, 1271.0, 1483.0, 41.0, 13.0, 187.0, 960.0, 22.0, 1405.0, 56.0, 40.0, 697.0, 163.0, 34.0, 85.0, 29.0, 569.0, 407.0, 17.0, 588.0, 645.0, 206.0, 54.0, 72.0, 319.0, 710.0, 26.0, 88.0, 49917.0, 68880.0, 48.0, 1446.0, 145.0, 205.0, 298.0, 11.0, 589.0, 259.0, 48.0, 6.0, 9.0, 372.0, 46.0, 9.0, 1042.0, 314.0, 74.0, 1760.0, 169.0, 83.0, 450.0, 1718.0, 5.0, 251.0, 1542.0, 253.0, 39.0, 22.0, 3256.0, 318.0, 2190.0, 271.0, 294.0, 113.0, 594.0, 27.0, 32.0, 46.0, 260.0, 644.0, 2.0, 137.0, 665.0, 26.0, 27.0, 115.0, 37.0, 100.0, 59.0, 126.0, 134.0, 121.0, 477.0, 171.0, 5.0, 395.0, 113.0, 749.0, 40.0, 1837.0, 46.0, 84.0, 53.0, 283.0, 897.0, 689.0, 405.0, 769.0, 31.0, 105.0, 94.0, 125.0, 2867.0, 255.0, 471.0, 89.0, 4602.0, 223.0, 47.0, 12.0, 11.0, 827.0, 495.0, 10.0, 110.0, 707.0, 102.0, 729.0, 1473.0, 80.0, 85.0, 114.0, 53.0, 158.0, 113.0, 184.0, 12.0, 12.0, 12.0, 967.0, 30.0, 282.0, 1120.0, 632.0, 1208.0, 7.0, 52.0, 1470.0, 547.0, 58.0, 110.0, 275.0, 654.0, 112.0, 245.0, 333.0, 261.0, 317.0, 56.0, 153.0, 777.0, 610.0, 438.0, 5.0, 27.0, 127.0, 97.0, 82.0, 19.0, 12.0, 193.0, 19.0, 21.0, 125.0, 19.0, 146.0, 92.0, 410.0, 411.0, 143.0, 285.0, 1030.0, 221.0, 921.0, 869.0, 71.0, 123.0, 249.0, 1180.0, 575.0, 264.0, 32.0, 904.0, 210.0, 689.0, 1467.0, 302.0, 250.0, 49.0, 278.0, 60.0, 80.0, 11.0, 1257.0, 160.0, 268.0, 42.0, 156.0, 10.0, 561.0, 200.0, 199.0, 927.0, 221.0, 305.0, 386.0, 687.0, 165.0, 145.0, 98.0, 15.0, 39.0, 371.0, 25.0, 1580.0, 768.0, 906.0, 245.0, 64.0, 302.0, 75.0, 33.0, 1091.0, 46.0, 552.0, 17.0, 3119.0, 50.0, 1826.0, 347.0, 56.0, 217.0, 28.0, 2054.0, 395.0, 213.0, 115.0, 279.0, 662.0, 267.0, 70.0, 478.0, 182.0, 202.0, 84.0, 120.0, 13.0, 31.0, 212.0, 26.0, 4667.0, 237.0, 60.0, 136.0, 1129.0, 218.0, 83.0, 118.0, 160.0, 227.0, 360.0, 2802.0, 52.0, 69.0, 474.0, 56.0, 628.0, 197.0, 188.0, 72.0, 2093.0, 15.0, 261.0, 1538.0, 181.0, 361.0, 7.0, 3.0, 9.0, 60.0, 81.0, 447.0, 2.0, 18.0, 12.0, 26.0, 71.0, 1036.0, 61.0, 1229.0, 46.0, 99.0, 831.0, 10.0, 178.0, 85.0, 1084.0, 1023.0, 94.0, 99.0, 165.0, 104.0, 570.0, 87.0, 406.0, 66.0, 644.0, 310.0, 145.0, 444.0, 151.0, 2.0, 1491.0, 500.0, 20.0, 172.0, 305.0, 234.0, 192.0, 25.0, 992.0, 44.0, 226.0, 48.0, 78.0, 125.0, 159.0, 45.0, 131.0, 510.0, 36.0, 91.0, 163.0, 84.0, 411.0, 288.0, 9.0, 543.0, 95.0, 110.0, 72.0, 383.0, 92.0, 62.0, 340.0, 58.0, 242.0, 192.0, 372.0, 7771.0, 623.0, 170.0, 136.0, 314.0, 164.0, 22.0, 687.0, 507.0, 35.0, 566.0, 94.0, 344.0, 158.0, 135.0, 51.0, 245.0, 56.0, 58.0, 111.0, 99.0, 205.0, 856.0, 250.0, 196.0, 95.0, 91.0, 164.0, 486.0, 280.0, 108.0, 424.0, 13.0, 91.0, 135.0, 317.0, 475.0, 150.0, 388.0, 135955.0, 148818.0, 463.0, 110.0, 93.0, 102.0, 105.0, 67.0, 115.0, 83.0, 78.0, 179.0, 235.0, 110.0, 241.0, 59.0, 164.0, 87.0, 82.0, 74.0, 198.0, 24.0, 97.0, 111.0, 21.0, 91.0, 59.0, 62.0, 101.0, 68.0, 144.0, 69.0, 89.0, 94.0, 99.0, 150.0, 98.0, 103.0, 90.0, 52.0, 56.0, 43.0, 1480.0, 1397.0, 11.0, 614.0, 43.0, 335.0, 113.0, 341.0, 62.0, 135.0, 89.0, 38.0, 374.0, 379.0, 142.0, 11.0, 25.0, 18.0, 20.0, 1224.0, 112.0, 217.0, 113.0, 64.0, 1203.0, 788.0, 312.0, 62.0, 19.0, 95.0, 13.0, 164.0, 170.0, 918.0, 590.0, 233.0, 61.0, 95.0, 460.0, 425.0, 29.0, 43.0, 81.0, 21.0, 2361.0, 1325.0, 76.0, 29.0, 177.0, 915.0, 113.0, 10.0, 481.0, 77.0, 12.0, 71.0, 15.0, 125.0, 9.0, 91.0, 119.0, 71.0, 154.0, 107.0, 138.0, 68.0, 705.0, 112.0, 51.0, 115.0, 70.0, 62.0, 95.0, 0.0, 1.0, 11.0, 133.0, 75.0, 359.0, 222.0, 1071.0, 73.0, 8.0, 1100.0, 576.0, 135.0, 68.0, 34.0, 421.0, 18.0, 90.0, 58.0, 5.0, 190.0, 574.0, 510.0, 522.0, 9.0, 1304.0, 110.0, 26.0, 8.0, 151.0, 434.0, 74.0, 47.0, 129.0, 146.0, 128.0, 189.0, 3431.0, 52.0, 587.0, 63.0, 48.0, 16.0, 1309.0, 87.0, 34.0, 165.0, 64.0, 183.0, 423.0, 136.0, 458.0, 616.0, 2363.0, 8.0, 324.0, 163.0, 535.0, 88.0, 794.0, 171.0, 28.0, 171.0, 113.0, 307.0, 634.0, 1242.0, 103.0, 91.0, 114.0, 165.0, 89.0, 85.0, 220.0, 1000.0, 458.0, 384.0, 704.0, 255.0, 86.0, 22.0, 644.0, 71.0, 145.0, 204.0, 39.0, 104.0, 1357.0, 5.0, 35.0, 161.0, 31.0, 11.0, 43.0, 753.0, 174.0, 208.0, 679.0, 554.0, 154.0, 712.0, 68.0, 1485.0, 55.0, 674.0, 252.0, 614.0, 406.0, 686.0, 292.0, 28.0, 174.0, 437.0, 636.0, 48.0, 65.0, 343.0, 2313.0, 122.0, 413.0, 68.0, 79.0, 127.0, 125.0, 1709.0, 139.0, 7.0, 101.0, 1012.0, 22.0, 20.0, 418.0, 385.0, 894.0, 91.0, 559.0, 49.0, 715.0, 87.0, 71.0, 1055.0, 168.0, 99.0, 202.0, 144.0, 101.0, 336.0, 55.0, 101.0, 2139.0, 657.0, 130.0, 101.0, 131.0, 134.0, 92.0, 52.0, 477.0, 519.0, 17.0, 66.0, 47.0, 79.0, 46.0, 21.0, 138.0, 649.0, 94.0, 1578.0, 794.0, 25.0, 9.0, 15.0, 9.0, 696.0, 75.0, 510.0, 154.0, 542.0, 95.0, 874.0, 84.0, 51.0, 97.0, 1743.0, 454.0, 47682.0, 34546.0, 34554.0, 76.0, 448.0, 835.0, 198.0, 83.0, 131.0, 49.0, 79.0, 77.0, 725.0, 857.0, 118.0, 110.0, 270.0, 2316.0, 1557.0, 147.0, 836.0, 77.0, 103.0, 62.0, 61.0, 67.0, 91.0, 60.0, 699.0, 50.0, 34.0, 561.0, 99.0, 213.0, 56.0, 92.0, 661.0, 282.0, 587.0, 159.0, 7.0, 101.0, 7.0, 650.0, 127.0, 251.0, 1078.0, 480.0, 500.0, 86.0, 1351.0, 1845.0, 56.0, 110.0, 840.0, 58.0, 175.0, 175.0, 213.0, 337.0, 7.0, 9.0, 29.0, 17.0, 1062.0, 433.0, 542.0, 150.0, 69.0, 174.0, 88.0, 126.0, 13.0, 12.0, 34.0, 12.0, 16.0, 52.0, 704.0, 64.0, 16.0, 92.0, 177.0, 203.0, 111.0, 602.0, 138.0, 52.0, 501.0, 93.0, 164.0, 1.0, 20.0, 53.0, 67.0, 9.0, 45.0, 12.0, 55.0, 122.0, 148.0, 1347.0, 1695.0, 476.0, 118.0, 190.0, 121.0, 92.0, 131.0, 181.0, 174.0, 610.0, 70.0, 905.0, 55.0, 115.0, 128.0, 356.0, 167.0, 592.0, 144.0, 120.0, 377.0, 6.0, 1987.0, 8.0, 204.0, 246.0, 103.0, 10.0, 44.0, 413.0, 127.0, 148.0, 1241.0, 107.0, 398.0, 628.0, 674.0, 196.0, 1658.0, 192.0, 289.0, 34.0, 198.0, 94.0, 453.0, 398.0, 12124.0, 621.0, 19686.0, 236.0, 70.0, 22.0, 112.0, 191.0, 1289.0, 169.0, 518.0, 138.0, 471.0, 246.0, 563.0, 69.0, 262.0, 156.0, 91.0, 569.0, 7.0, 1005.0, 12180.0, 73.0, 65.0, 241.0, 753.0, 290.0, 81.0, 81.0, 297.0, 427.0, 1128.0, 686.0, 92.0, 46.0, 9.0, 29.0, 50711.0, 1005.0, 136.0, 123.0, 108.0, 88.0, 54.0, 141.0, 1491.0, 18.0, 1468.0, 60.0, 272.0, 725.0, 92.0, 921.0, 53.0, 48.0, 44.0, 1869.0, 2223.0, 238.0, 1362.0, 34.0, 15.0, 199.0, 112.0, 5861.0, 85.0, 91.0, 56.0, 88.0, 1143.0, 128.0, 1077.0, 691.0, 31.0, 12.0, 1113.0, 390.0, 806.0, 2223.0, 27.0, 7.0, 481.0, 114.0, 289.0, 14.0, 96.0, 1605.0, 17.0, 1612.0, 222.0, 237.0, 42.0, 282.0, 146.0, 135.0, 320.0, 93.0, 289.0, 170.0, 229.0, 2634.0, 531.0, 1983.0, 195.0, 1002.0, 718.0, 61.0, 110.0, 53.0, 264.0, 19.0, 13.0, 12.0, 175.0, 27.0, 273.0, 73.0, 151.0, 482.0, 21.0, 21.0, 22.0, 19.0, 59.0, 62.0, 82.0, 43.0, 57.0, 59.0, 94.0, 129.0, 120.0, 94.0, 447.0, 453.0, 1971.0, 92.0, 20.0, 129.0, 109.0, 76.0, 145.0, 28.0, 402.0, 195.0, 18.0, 2190.0, 116.0, 898.0, 34.0, 241.0, 99.0, 41.0, 201.0, 88.0, 299.0, 2065.0, 210.0, 19.0, 604.0, 44.0, 193.0, 117.0, 299.0, 1323.0, 84.0, 122.0, 519.0, 269.0, 20.0, 168.0, 409.0, 291.0, 285.0, 97.0, 243.0, 542.0, 2137.0, 92.0, 209.0, 72.0, 93.0, 596.0, 93.0, 124.0, 53.0, 703.0, 140.0, 59.0, 1004.0, 319.0, 50.0, 186.0, 351.0, 83.0, 1647.0, 29.0, 54.0, 60.0, 920.0, 359.0, 596.0, 161.0, 702.0, 70.0, 168.0, 155.0, 157.0, 73.0, 60.0, 338.0, 136.0, 118.0, 577.0, 179.0, 9.0, 179.0, 1.0, 25.0, 24.0, 1035.0, 191.0, 143.0, 268.0, 488.0, 639.0, 68.0, 83.0, 391.0, 118.0, 175.0, 141.0, 74.0, 55.0, 130.0, 69.0, 49.0, 73.0, 53.0, 37.0, 100.0, 73.0, 100.0, 67.0, 76.0, 386.0, 49.0, 85.0, 512.0, 74.0, 78.0, 543.0, 56.0, 58.0, 75.0, 684.0, 85.0, 563.0, 1.0, 39.0, 78.0, 38.0, 61.0, 117.0, 249.0, 77.0, 498.0, 221.0, 173.0, 1225.0, 63.0, 334.0, 8.0, 136.0, 1852.0, 207.0, 34.0, 49.0, 313.0, 172.0, 1231.0, 245.0, 35.0, 75.0, 118.0, 99.0, 69.0, 79.0, 56.0, 92.0, 83.0, 95.0, 87.0, 25.0, 68.0, 183.0, 172.0, 210.0, 18.0, 129.0, 156.0, 63.0, 135.0, 98.0, 46.0, 65.0, 836.0, 80.0, 84.0, 120.0, 38.0, 52.0, 79.0, 70.0, 372.0, 703.0, 124.0, 430.0, 267.0, 98.0, 466.0, 78.0, 206.0, 14.0, 1735.0, 134.0, 20.0, 281.0, 102.0, 20.0, 516.0, 637.0, 554.0, 103.0, 311.0, 58.0, 210.0, 500.0, 24.0, 372.0, 142.0, 1910.0, 83.0, 1130.0, 113.0, 108.0, 399.0, 664.0, 152.0, 731.0, 67.0, 538.0, 194.0, 669.0, 377.0, 3268.0, 603.0, 1650.0, 58.0, 837.0, 1280.0, 280.0, 82.0, 93.0, 148.0, 132.0, 73.0, 242.0, 582.0, 132.0, 183.0, 142.0, 336.0, 58.0, 425.0, 229.0, 172.0, 637.0, 115.0, 127.0, 45.0, 212.0, 16.0, 8.0, 61.0, 549.0, 84.0, 59.0, 958.0, 2.0, 59.0, 548.0, 856.0, 124.0, 384.0, 44.0, 74.0, 9.0, 111.0, 82.0, 35.0, 482.0, 568.0, 658.0, 19.0, 690.0, 76.0, 877.0, 269.0, 63.0, 30.0, 1002.0, 1693.0, 120.0, 7.0, 94.0, 158.0, 104.0, 313.0, 2571.0, 574.0, 601.0, 19.0, 3378.0, 162.0, 199.0, 10.0, 316.0, 197.0, 129.0, 395.0, 678.0, 14.0, 102.0, 283.0, 188.0, 24.0, 485.0, 195.0, 3434.0, 288.0, 223.0, 1838.0, 358.0, 520.0, 697.0, 1356.0, 261.0, 2265.0, 593.0, 2.0, 41.0, 3651.0, 169.0, 8.0, 109.0, 55.0, 38.0, 693.0, 415.0, 2293.0, 8534.0, 255.0, 715.0, 49.0, 15.0, 49.0, 276.0, 168.0, 752.0, 11.0, 200.0, 246.0, 93.0, 316.0, 120.0, 570.0, 105.0, 91.0, 233.0, 790.0, 129.0, 135.0, 340.0, 26.0, 148.0, 98.0, 376.0, 131.0, 62.0, 141.0, 115.0, 149.0, 7.0, 96.0, 98.0, 58.0, 286.0, 16.0, 136.0, 206.0, 662.0, 500.0, 70.0, 58.0, 174.0, 36.0, 57.0, 618.0, 9.0, 178.0, 53.0, 317.0, 701.0, 95.0, 215.0, 680.0, 552.0, 197.0, 333.0, 50.0, 657.0, 98.0, 138.0, 419.0, 402.0, 225483.0, 363.0, 87.0, 74.0, 17.0, 28.0, 114.0, 106.0, 8.0, 149.0, 503.0, 463.0, 86.0, 139.0, 28.0, 220.0, 102.0, 1.0, 120.0, 114.0, 210.0, 27.0, 279.0, 200.0, 103.0, 223.0, 335.0, 532.0, 936.0, 296.0, 279.0, 310.0, 210.0, 129.0, 231.0, 234.0, 529.0, 11.0, 135.0, 168.0, 142.0, 296.0, 175.0, 15.0, 75.0, 113.0, 226.0, 254.0, 600.0, 33.0, 1205.0, 13.0, 81.0, 1133.0, 372.0, 369.0, 319.0, 322.0, 108.0, 22.0, 61.0, 22.0, 136.0, 91.0, 92.0, 17.0, 2.0, 720.0, 79.0, 74.0, 33.0, 40.0, 15.0, 75.0, 706.0, 94.0, 12.0, 96.0, 65.0, 89.0, 63.0, 107.0, 103.0, 28.0, 18.0, 124.0, 120.0, 25.0, 264.0, 549.0, 127.0, 64.0, 96.0, 2727.0, 132.0, 245.0, 22.0, 75.0, 220.0, 129.0, 848.0, 67.0, 291.0, 3.0, 126.0, 743.0, 37.0, 156.0, 132.0, 1062.0, 135.0, 26.0, 282.0, 428.0, 226.0, 210.0, 547.0, 995.0, 1465.0, 211.0, 487.0, 443.0, 123.0, 547.0, 188.0, 145.0, 53.0, 21.0, 123.0, 118.0, 591.0, 80.0, 2888.0, 350.0, 37.0, 305.0, 111.0, 176.0, 972.0, 2099.0, 112.0, 86.0, 91.0, 466.0, 923.0, 120.0, 346.0, 40.0, 24.0, 299.0, 8.0, 5.0, 240.0, 17.0, 259.0, 25.0, 7.0, 24.0, 81.0, 87.0, 176.0, 339.0, 33.0, 161.0, 91.0, 1471.0, 247.0, 628.0, 178.0, 243.0, 93.0, 408.0, 129.0, 520.0, 19.0, 1063.0, 354.0, 652.0, 765.0, 307.0, 120.0, 11.0, 369.0, 532.0, 50.0, 386.0, 133.0, 162.0, 58.0, 194.0, 128.0, 155.0, 292.0, 137.0, 709.0, 1375.0, 250.0, 446.0, 26.0, 100.0, 270.0, 115.0, 373.0, 167.0, 516.0, 59.0, 147.0, 2650.0, 450.0, 138.0, 19.0, 61.0, 224.0, 544.0, 53873.0, 64328.0, 38198.0, 53555.0, 53727.0, 53430.0, 30.0, 185.0, 77.0, 597.0, 121.0, 72.0, 107.0, 12.0, 73.0, 300.0, 232.0, 303.0, 166.0, 28.0, 34.0, 102.0, 192.0, 22.0, 14.0, 46.0, 18.0, 2908.0, 147.0, 324.0, 484.0, 36.0, 30.0, 19.0, 57.0, 80.0, 163.0, 11.0, 206.0, 75.0, 1004.0, 928.0, 102.0, 61.0, 251.0, 141.0, 1213.0, 78.0, 125.0, 6606.0, 445.0, 121.0, 164.0, 213.0, 731.0, 537.0, 89.0, 426.0, 629.0, 320.0, 83.0, 170.0, 40.0, 55.0, 127.0, 71.0, 9.0, 30.0, 545.0, 17.0, 7.0, 406.0, 584.0, 440.0, 155.0, 99.0, 209.0, 163.0, 7636.0, 118.0, 131.0, 263.0, 5633.0, 744.0, 322.0, 657.0, 152.0, 29.0, 118.0, 85.0, 67.0, 107.0, 235.0, 440.0, 279.0, 284.0, 114.0, 219.0, 132.0, 335.0, 18.0, 126.0, 523.0, 95.0, 102.0, 888.0, 217.0, 284.0, 76.0, 138.0, 192.0, 10.0, 86.0, 178.0, 116.0, 17.0, 51.0, 35.0, 90.0, 1067.0, 39.0, 105.0, 113.0, 173.0, 390.0, 30.0, 253.0, 708.0, 93.0, 56.0, 254.0, 154.0, 1039.0, 97.0, 123.0, 242.0, 128.0, 861.0, 614.0, 10.0, 295.0, 566.0, 11.0, 747.0, 32.0, 31.0, 102.0, 33.0, 37.0, 47.0, 99.0, 506.0, 601.0, 140.0, 13.0, 40.0, 334.0, 12.0, 299.0, 29.0, 167.0, 76.0, 686.0, 177.0, 24.0, 42.0, 43.0, 82.0, 19.0, 36.0, 350.0, 18.0, 21.0, 13.0, 271.0, 65.0, 69.0, 35.0, 115.0, 20.0, 14.0, 13.0, 252.0, 85.0, 78.0, 126.0, 14.0, 62.0, 104.0, 95.0, 628.0, 12.0, 605.0, 21.0, 180.0, 241.0, 437.0, 618.0, 94.0, 571.0, 92.0, 149.0, 839.0, 560.0, 54.0, 50.0, 3476.0, 469.0, 29.0, 48.0, 546.0, 82.0, 125.0, 546.0, 491.0, 457.0, 826.0, 91.0, 128.0, 1447.0, 310.0, 60.0, 58.0, 630.0, 726.0, 72.0, 137.0, 788.0, 150.0, 187.0, 41.0, 516.0, 91.0, 215.0, 177.0, 279.0, 213.0, 263.0, 20.0, 171.0, 1812.0, 60.0, 204.0, 53.0, 245.0, 644.0, 655.0, 445.0, 25510.0, 14.0, 62.0, 29.0, 54.0, 66.0, 619.0, 60.0, 2.0, 80.0, 544.0, 151.0, 58.0, 92.0, 391.0, 292.0, 103.0, 441.0, 64.0, 75.0, 110.0, 341.0, 136.0, 52262.0, 59149.0, 1125.0, 402.0, 324.0, 155.0, 444.0, 355.0, 90.0, 329.0, 258.0, 299.0, 272.0, 13.0, 15.0, 33.0, 40.0, 76.0, 41.0, 46.0, 11.0, 20.0, 29.0, 194.0, 108.0, 142.0, 116.0, 156.0, 33.0, 28.0, 204.0, 1375.0, 37.0, 659.0, 481.0, 67.0, 198.0, 143.0, 177.0, 1172.0, 152.0, 419.0, 250.0, 751.0, 142.0, 181.0, 2113.0, 346.0, 840.0, 325.0, 891.0, 937.0, 2943.0, 40.0, 120.0, 433.0, 164.0, 16.0, 1077.0, 154.0, 550.0, 16.0, 158.0, 96.0, 13.0, 2861.0, 172.0, 190.0, 83.0, 72.0, 1231.0, 96.0, 134.0, 10.0, 2428.0, 24.0, 120.0, 140.0, 579.0, 18.0, 13.0, 39.0, 163.0, 122.0, 43.0, 298.0, 107.0, 429.0, 841.0, 78.0, 44.0, 511.0, 27.0, 116.0, 202.0, 332.0, 178.0, 107.0, 425.0, 98.0, 414.0, 104.0, 225.0, 26.0, 26.0, 70.0, 31.0, 164.0, 64.0, 9.0, 413.0, 103.0, 388.0, 19.0, 576.0, 51.0, 5.0, 83.0, 33.0, 480.0, 359.0, 53.0, 50.0, 160.0, 466.0, 575.0, 265.0, 74.0, 74.0, 71.0, 176.0, 273.0, 89.0, 55.0, 98.0, 167.0, 842.0, 198.0, 36.0, 25.0, 114.0, 2010.0, 34.0, 1546.0, 74.0, 406.0, 336.0, 418.0, 41.0, 104.0, 524.0, 31.0, 533.0, 3036.0, 36.0, 769.0, 71.0, 12.0, 519.0, 19.0, 515.0, 1171.0, 1287.0, 1205.0, 637.0, 169.0, 18.0, 761.0, 570.0, 1429.0, 647.0, 823.0, 58.0, 108.0, 317.0, 1011.0, 272.0, 39.0, 29.0, 9.0, 370.0, 561.0, 270.0, 10.0, 85.0, 24.0, 134.0, 756.0, 169.0, 199.0, 36.0, 44.0, 146.0, 113.0, 15.0, 45.0, 163.0, 46.0, 120.0, 206.0, 1698.0, 413.0, 12.0, 2811.0, 61.0, 476.0, 1353.0, 13.0, 17.0, 13.0, 137.0, 303.0, 534.0, 118.0, 431.0, 31.0, 420.0, 323.0, 32.0, 240.0, 11.0, 21226.0, 732.0, 169.0, 549.0, 200.0, 640.0, 67.0, 83.0, 2510.0, 69.0, 54.0, 90.0, 57.0, 217.0, 44.0, 24.0, 139.0, 646.0, 786.0, 57.0, 446.0, 1268.0, 71.0, 13.0, 76.0, 563.0, 353.0, 12.0, 53.0, 293.0, 55.0, 231.0, 17.0, 93.0, 10.0, 116.0, 94.0, 53.0, 29.0, 471.0, 48.0, 68.0, 24.0, 51.0, 100.0, 153.0, 5.0, 61.0, 132.0, 73.0, 42.0, 95.0, 21.0, 343.0, 8.0, 64.0, 23.0, 510.0, 88.0, 28.0, 31.0, 550.0, 59.0, 73.0, 133.0, 826.0, 34.0, 626.0, 134.0, 15.0, 9.0, 34.0, 190.0, 308.0, 20.0, 63.0, 134.0, 214.0, 934.0, 227.0, 105.0, 85.0, 25.0, 246.0, 107.0, 86.0, 81.0, 8.0, 47.0, 370.0, 145.0, 69.0, 121.0, 20.0, 142.0, 811.0, 85.0, 7.0, 114.0, 249.0, 324.0, 82.0, 128.0, 102.0, 207.0, 112.0, 130.0, 37.0, 9.0, 73.0, 111.0, 94.0, 186.0, 138.0, 85.0, 194.0, 322.0, 339.0, 555.0, 96.0, 623.0, 202.0, 247.0, 109.0, 58.0, 49.0, 61.0, 505.0, 262.0, 105.0, 77.0, 66.0, 126.0, 1714.0, 230.0, 86.0, 110.0, 1437.0, 67.0, 432.0, 168.0, 298.0, 137.0, 69.0, 97.0, 91.0, 30.0, 548.0, 81.0, 20.0, 5743.0, 21.0, 166.0, 41.0, 518.0, 92.0, 156.0, 18.0, 49.0, 57.0, 343.0, 826.0, 3.0, 6.0, 70.0, 22.0, 25.0, 11.0, 37.0, 814.0, 143.0, 2909.0, 342.0, 78.0, 119.0, 966.0, 260.0, 3849.0, 225.0, 22.0, 13.0, 14.0, 10.0, 81.0, 36.0, 103.0, 79.0, 9.0, 307.0, 59.0, 477.0, 390.0, 323.0, 51.0, 666.0, 105.0, 104.0, 154.0, 993.0, 114.0, 516.0, 1055.0, 89.0, 113.0, 455.0, 52.0, 113.0, 510.0, 183.0, 139.0, 79.0, 133.0, 527.0, 137.0, 31.0, 1138.0, 37.0, 59.0, 37.0, 45.0, 73.0, 369.0, 67.0, 10.0, 374.0, 6.0, 734.0, 131.0, 134.0, 654.0, 305.0, 20.0, 84.0, 35.0, 159.0, 87.0, 72.0, 418.0, 61.0, 2.0, 70.0, 759.0, 101.0, 99.0, 94.0, 42.0, 65.0, 227.0, 77.0, 720.0, 27.0, 58.0, 593.0, 272.0, 108.0, 43.0, 54.0, 83.0, 118.0, 78.0, 101.0, 367.0, 155.0, 5.0, 14.0, 6.0, 1015.0, 38.0, 17.0, 1018.0, 61.0, 134.0, 475.0, 30.0, 84.0, 48.0, 25.0, 253.0, 43.0, 122.0, 23.0, 839.0, 140.0, 9.0, 391.0, 17.0, 13.0, 10.0, 409.0, 63.0, 171.0, 437.0, 214.0, 157.0, 569.0, 600.0, 189.0, 173.0, 407.0, 59.0, 701.0, 780.0, 75.0, 36.0, 376.0, 63.0, 212.0, 884.0, 110.0, 724.0, 415.0, 421.0, 9.0, 155.0, 18.0, 8.0, 241.0, 117.0, 121.0, 498.0, 222.0, 61.0, 258.0, 59.0, 603.0, 137.0, 744.0, 819.0, 73.0, 240.0, 103.0, 82.0, 52.0, 243.0, 40.0, 269.0, 101.0, 608.0, 111.0, 139.0, 471.0, 54577.0, 347.0, 618.0, 181.0, 1817.0, 757.0, 2508.0, 1422.0, 42.0, 102.0, 1462.0, 1388.0, 66.0, 133.0, 35.0, 1506.0, 467.0, 2121.0, 2182.0, 2068.0, 795.0, 12.0, 64.0, 15.0, 1760.0, 43.0, 159.0, 534.0, 255.0, 565.0, 106.0, 20.0, 215.0, 23.0, 516.0, 704.0, 2.0, 69.0, 203.0, 96.0, 326.0, 485.0, 357.0, 442.0, 84.0, 791.0, 123.0, 93.0, 1292.0, 795.0, 1139.0, 116.0, 380.0, 406.0, 16.0, 1041.0, 430.0, 14.0, 88.0, 15.0, 699.0, 404.0, 1159.0, 152.0, 17.0, 1011.0, 2203.0, 79.0, 111.0, 18.0, 296.0, 214.0, 160.0, 844.0, 734.0, 767.0, 98.0, 664.0, 301.0, 94.0, 139.0, 87.0, 94.0, 221.0, 195.0, 239.0, 702.0, 261.0, 1494.0, 696.0, 49.0, 137.0, 27.0, 180.0, 1594.0, 57.0, 467.0, 85.0, 481.0, 40.0, 427.0, 253.0, 106.0, 2047.0, 613.0, 78.0, 520.0, 1153.0, 72.0, 988.0, 62.0, 56.0, 13.0, 414.0, 77.0, 175.0, 126.0, 71.0, 162.0, 35.0, 747.0, 248.0, 438.0, 84.0, 1334.0, 545.0, 19.0, 406.0, 187.0, 303.0, 92.0, 66.0, 114.0, 1278.0, 6.0, 29.0, 88.0, 600.0, 522.0, 96.0, 1.0, 15.0, 14.0, 13.0, 12.0, 13.0, 136.0, 143.0, 305.0, 114.0, 119.0, 116.0, 92.0, 113.0, 205.0, 65.0, 62.0, 68.0, 363.0, 9.0, 128.0, 107.0, 74.0, 639.0, 188.0, 407.0, 250.0, 45.0, 139.0, 39.0, 27.0, 43.0, 146.0, 115.0, 149.0, 10.0, 1237.0, 57.0, 285.0, 516.0, 45.0, 628.0, 527.0, 184.0, 46.0, 155.0, 164.0, 163.0, 162.0, 95.0, 77.0, 37.0, 118.0, 95.0, 98.0, 1173.0, 161.0, 108.0, 104.0, 409.0, 89.0, 194.0, 185.0, 32.0, 746.0, 103.0, 165.0, 477.0, 444.0, 496.0, 1143.0, 1679.0, 571.0, 230.0, 123.0, 244.0, 253.0, 353.0, 102.0, 101.0, 31.0, 120.0, 350.0, 159.0, 997.0, 113.0, 352.0, 428.0, 1280.0, 58.0, 163.0, 147.0, 177.0, 155.0, 408.0, 121.0, 154.0, 59.0, 79.0, 66.0, 48.0, 468.0, 548.0, 326.0, 478.0, 553.0, 1266.0, 2381.0, 499.0, 1089.0, 991.0, 479.0, 760.0, 701.0, 190.0, 77.0, 81.0, 503.0, 371.0, 564.0, 119.0, 10.0, 225.0, 100.0, 87.0, 499.0, 136.0, 356.0, 976.0, 146.0, 130.0, 60.0, 106.0, 714.0, 87.0, 94.0, 27.0, 273.0, 113.0, 658.0, 650.0, 109.0, 25.0, 681.0, 46.0, 72.0, 114.0, 604.0, 204.0, 3649.0, 335.0, 12.0, 10.0, 11.0, 7.0, 13.0, 25.0, 12.0, 67.0, 83.0, 96.0, 767.0, 67.0, 895.0, 509.0, 12959.0, 1121.0, 337.0, 7.0, 6.0, 639.0, 328.0, 92.0, 214.0, 133.0, 889.0, 62.0, 4635.0, 5845.0, 453.0, 1625.0, 157.0, 337.0, 141.0, 307.0, 142.0, 360.0, 42.0, 490.0, 303.0, 527.0, 636.0, 85.0, 92.0, 2168.0, 722.0, 141.0, 368.0, 270.0, 12.0, 90.0, 8.0, 28.0, 10.0, 231.0, 382.0, 715.0, 32.0, 252.0, 100.0, 18.0, 2.0, 221.0, 8845.0, 82.0, 60.0, 375.0, 632.0, 26.0, 24.0, 32.0, 53.0, 18.0, 137.0, 1325.0, 58.0, 184.0, 66126.0, 175.0, 16.0, 71.0, 105.0, 121.0, 70.0, 1262.0, 154.0, 864.0, 97.0, 260.0, 129.0, 661.0, 72.0, 59.0, 56.0, 31.0, 17.0, 155.0, 512.0, 462.0, 40.0, 269.0, 817.0, 1492.0, 47.0, 89.0, 104.0, 90.0, 26.0, 15.0, 78.0, 64.0, 185.0, 73.0, 106.0, 3285.0, 357.0, 152.0, 463.0, 91.0, 509.0, 745.0, 203.0, 279.0, 33.0, 159.0, 101.0, 515.0, 307.0, 81.0, 272.0, 32.0, 63.0, 434.0, 17.0, 14.0, 13.0, 1043.0, 468.0, 71.0, 761.0, 60.0, 363.0, 12.0, 47.0, 30.0, 39.0, 19.0, 114.0, 16.0, 979.0, 24.0, 4968.0, 1009.0, 78.0, 76.0, 55.0, 445.0, 228.0, 154.0, 391.0, 1307.0, 2670.0, 246.0, 227.0, 43.0, 7326.0, 224.0, 526.0, 524.0, 145.0, 251.0, 270.0, 116.0, 132.0, 1295.0, 117.0, 47.0, 207.0, 21.0, 331.0, 336.0, 263.0, 37.0, 289.0, 139.0, 7.0, 106.0, 164.0, 326.0, 124.0, 1156.0, 121.0, 115.0, 36.0, 167.0, 36.0, 61.0, 104.0, 80.0, 756.0, 1569.0, 6.0, 827.0, 262.0, 93.0, 48.0, 78.0, 65.0, 1345.0, 89.0, 95.0, 1891.0, 361.0, 760.0, 546.0, 144.0, 103.0, 33.0, 77.0, 36.0, 102.0, 1028.0, 102.0, 1077.0, 376.0, 473.0, 230.0, 40.0, 159.0, 97.0, 260.0, 214.0, 1336.0, 149.0, 444.0, 259.0, 931.0, 609.0, 1009.0, 521.0, 183.0, 2329.0, 175.0, 1758.0, 322.0, 2044.0, 747.0, 166.0, 3.0, 833.0, 846.0, 32.0, 680.0, 283.0, 1879.0, 119.0, 224.0, 37.0, 134.0, 37.0, 548.0, 11.0, 612.0, 391.0, 350.0, 97.0, 8.0, 220.0, 265.0, 57.0, 116.0, 59.0, 77.0, 304.0, 366.0, 447.0, 126.0, 8.0, 74.0, 37.0, 89.0, 465.0, 184.0, 17.0, 18.0, 638.0, 17.0, 11.0, 4230.0, 2265.0, 726.0, 369.0, 2.0, 148.0, 2181.0, 1.0, 192.0, 3794.0, 491.0, 2.0, 3.0, 87.0, 41.0, 35.0, 15.0, 1894.0, 216.0, 426.0, 3003.0], \"y0\": \" \", \"yaxis\": \"y\"}],\n",
              "                        {\"boxmode\": \"group\", \"legend\": {\"tracegroupgap\": 0}, \"margin\": {\"t\": 60}, \"template\": {\"data\": {\"bar\": [{\"error_x\": {\"color\": \"#2a3f5f\"}, \"error_y\": {\"color\": \"#2a3f5f\"}, \"marker\": {\"line\": {\"color\": \"#E5ECF6\", \"width\": 0.5}}, \"type\": \"bar\"}], \"barpolar\": [{\"marker\": {\"line\": {\"color\": \"#E5ECF6\", \"width\": 0.5}}, \"type\": \"barpolar\"}], \"carpet\": [{\"aaxis\": {\"endlinecolor\": \"#2a3f5f\", \"gridcolor\": \"white\", \"linecolor\": \"white\", \"minorgridcolor\": \"white\", \"startlinecolor\": \"#2a3f5f\"}, \"baxis\": {\"endlinecolor\": \"#2a3f5f\", \"gridcolor\": \"white\", \"linecolor\": \"white\", \"minorgridcolor\": \"white\", \"startlinecolor\": \"#2a3f5f\"}, \"type\": \"carpet\"}], \"choropleth\": [{\"colorbar\": {\"outlinewidth\": 0, \"ticks\": \"\"}, \"type\": \"choropleth\"}], \"contour\": [{\"colorbar\": {\"outlinewidth\": 0, \"ticks\": \"\"}, \"colorscale\": [[0.0, \"#0d0887\"], [0.1111111111111111, \"#46039f\"], [0.2222222222222222, \"#7201a8\"], [0.3333333333333333, \"#9c179e\"], [0.4444444444444444, \"#bd3786\"], [0.5555555555555556, \"#d8576b\"], [0.6666666666666666, \"#ed7953\"], [0.7777777777777778, \"#fb9f3a\"], [0.8888888888888888, \"#fdca26\"], [1.0, \"#f0f921\"]], \"type\": \"contour\"}], \"contourcarpet\": [{\"colorbar\": {\"outlinewidth\": 0, \"ticks\": \"\"}, \"type\": \"contourcarpet\"}], \"heatmap\": [{\"colorbar\": {\"outlinewidth\": 0, \"ticks\": \"\"}, \"colorscale\": [[0.0, \"#0d0887\"], [0.1111111111111111, \"#46039f\"], [0.2222222222222222, \"#7201a8\"], [0.3333333333333333, \"#9c179e\"], [0.4444444444444444, \"#bd3786\"], [0.5555555555555556, \"#d8576b\"], [0.6666666666666666, \"#ed7953\"], [0.7777777777777778, \"#fb9f3a\"], [0.8888888888888888, \"#fdca26\"], [1.0, \"#f0f921\"]], \"type\": \"heatmap\"}], \"heatmapgl\": [{\"colorbar\": {\"outlinewidth\": 0, \"ticks\": \"\"}, \"colorscale\": [[0.0, \"#0d0887\"], [0.1111111111111111, \"#46039f\"], [0.2222222222222222, \"#7201a8\"], [0.3333333333333333, \"#9c179e\"], [0.4444444444444444, \"#bd3786\"], [0.5555555555555556, \"#d8576b\"], [0.6666666666666666, \"#ed7953\"], [0.7777777777777778, \"#fb9f3a\"], [0.8888888888888888, \"#fdca26\"], [1.0, \"#f0f921\"]], \"type\": \"heatmapgl\"}], \"histogram\": [{\"marker\": {\"colorbar\": {\"outlinewidth\": 0, \"ticks\": \"\"}}, \"type\": \"histogram\"}], \"histogram2d\": [{\"colorbar\": {\"outlinewidth\": 0, \"ticks\": \"\"}, \"colorscale\": [[0.0, \"#0d0887\"], [0.1111111111111111, \"#46039f\"], [0.2222222222222222, \"#7201a8\"], [0.3333333333333333, \"#9c179e\"], [0.4444444444444444, \"#bd3786\"], [0.5555555555555556, \"#d8576b\"], [0.6666666666666666, \"#ed7953\"], [0.7777777777777778, \"#fb9f3a\"], [0.8888888888888888, \"#fdca26\"], [1.0, \"#f0f921\"]], \"type\": \"histogram2d\"}], \"histogram2dcontour\": [{\"colorbar\": {\"outlinewidth\": 0, \"ticks\": \"\"}, \"colorscale\": [[0.0, \"#0d0887\"], [0.1111111111111111, \"#46039f\"], [0.2222222222222222, \"#7201a8\"], [0.3333333333333333, \"#9c179e\"], [0.4444444444444444, \"#bd3786\"], [0.5555555555555556, \"#d8576b\"], [0.6666666666666666, \"#ed7953\"], [0.7777777777777778, \"#fb9f3a\"], [0.8888888888888888, \"#fdca26\"], [1.0, \"#f0f921\"]], \"type\": \"histogram2dcontour\"}], \"mesh3d\": [{\"colorbar\": {\"outlinewidth\": 0, \"ticks\": \"\"}, \"type\": \"mesh3d\"}], \"parcoords\": [{\"line\": {\"colorbar\": {\"outlinewidth\": 0, \"ticks\": \"\"}}, \"type\": \"parcoords\"}], \"pie\": [{\"automargin\": true, \"type\": \"pie\"}], \"scatter\": [{\"marker\": {\"colorbar\": {\"outlinewidth\": 0, \"ticks\": \"\"}}, \"type\": \"scatter\"}], \"scatter3d\": [{\"line\": {\"colorbar\": {\"outlinewidth\": 0, \"ticks\": \"\"}}, \"marker\": {\"colorbar\": {\"outlinewidth\": 0, \"ticks\": \"\"}}, \"type\": \"scatter3d\"}], \"scattercarpet\": [{\"marker\": {\"colorbar\": {\"outlinewidth\": 0, \"ticks\": \"\"}}, \"type\": \"scattercarpet\"}], \"scattergeo\": [{\"marker\": {\"colorbar\": {\"outlinewidth\": 0, \"ticks\": \"\"}}, \"type\": \"scattergeo\"}], \"scattergl\": [{\"marker\": {\"colorbar\": {\"outlinewidth\": 0, \"ticks\": \"\"}}, \"type\": \"scattergl\"}], \"scattermapbox\": [{\"marker\": {\"colorbar\": {\"outlinewidth\": 0, \"ticks\": \"\"}}, \"type\": \"scattermapbox\"}], \"scatterpolar\": [{\"marker\": {\"colorbar\": {\"outlinewidth\": 0, \"ticks\": \"\"}}, \"type\": \"scatterpolar\"}], \"scatterpolargl\": [{\"marker\": {\"colorbar\": {\"outlinewidth\": 0, \"ticks\": \"\"}}, \"type\": \"scatterpolargl\"}], \"scatterternary\": [{\"marker\": {\"colorbar\": {\"outlinewidth\": 0, \"ticks\": \"\"}}, \"type\": \"scatterternary\"}], \"surface\": [{\"colorbar\": {\"outlinewidth\": 0, \"ticks\": \"\"}, \"colorscale\": [[0.0, \"#0d0887\"], [0.1111111111111111, \"#46039f\"], [0.2222222222222222, \"#7201a8\"], [0.3333333333333333, \"#9c179e\"], [0.4444444444444444, \"#bd3786\"], [0.5555555555555556, \"#d8576b\"], [0.6666666666666666, \"#ed7953\"], [0.7777777777777778, \"#fb9f3a\"], [0.8888888888888888, \"#fdca26\"], [1.0, \"#f0f921\"]], \"type\": \"surface\"}], \"table\": [{\"cells\": {\"fill\": {\"color\": \"#EBF0F8\"}, \"line\": {\"color\": \"white\"}}, \"header\": {\"fill\": {\"color\": \"#C8D4E3\"}, \"line\": {\"color\": \"white\"}}, \"type\": \"table\"}]}, \"layout\": {\"annotationdefaults\": {\"arrowcolor\": \"#2a3f5f\", \"arrowhead\": 0, \"arrowwidth\": 1}, \"coloraxis\": {\"colorbar\": {\"outlinewidth\": 0, \"ticks\": \"\"}}, \"colorscale\": {\"diverging\": [[0, \"#8e0152\"], [0.1, \"#c51b7d\"], [0.2, \"#de77ae\"], [0.3, \"#f1b6da\"], [0.4, \"#fde0ef\"], [0.5, \"#f7f7f7\"], [0.6, \"#e6f5d0\"], [0.7, \"#b8e186\"], [0.8, \"#7fbc41\"], [0.9, \"#4d9221\"], [1, \"#276419\"]], \"sequential\": [[0.0, \"#0d0887\"], [0.1111111111111111, \"#46039f\"], [0.2222222222222222, \"#7201a8\"], [0.3333333333333333, \"#9c179e\"], [0.4444444444444444, \"#bd3786\"], [0.5555555555555556, \"#d8576b\"], [0.6666666666666666, \"#ed7953\"], [0.7777777777777778, \"#fb9f3a\"], [0.8888888888888888, \"#fdca26\"], [1.0, \"#f0f921\"]], \"sequentialminus\": [[0.0, \"#0d0887\"], [0.1111111111111111, \"#46039f\"], [0.2222222222222222, \"#7201a8\"], [0.3333333333333333, \"#9c179e\"], [0.4444444444444444, \"#bd3786\"], [0.5555555555555556, \"#d8576b\"], [0.6666666666666666, \"#ed7953\"], [0.7777777777777778, \"#fb9f3a\"], [0.8888888888888888, \"#fdca26\"], [1.0, \"#f0f921\"]]}, \"colorway\": [\"#636efa\", \"#EF553B\", \"#00cc96\", \"#ab63fa\", \"#FFA15A\", \"#19d3f3\", \"#FF6692\", \"#B6E880\", \"#FF97FF\", \"#FECB52\"], \"font\": {\"color\": \"#2a3f5f\"}, \"geo\": {\"bgcolor\": \"white\", \"lakecolor\": \"white\", \"landcolor\": \"#E5ECF6\", \"showlakes\": true, \"showland\": true, \"subunitcolor\": \"white\"}, \"hoverlabel\": {\"align\": \"left\"}, \"hovermode\": \"closest\", \"mapbox\": {\"style\": \"light\"}, \"paper_bgcolor\": \"white\", \"plot_bgcolor\": \"#E5ECF6\", \"polar\": {\"angularaxis\": {\"gridcolor\": \"white\", \"linecolor\": \"white\", \"ticks\": \"\"}, \"bgcolor\": \"#E5ECF6\", \"radialaxis\": {\"gridcolor\": \"white\", \"linecolor\": \"white\", \"ticks\": \"\"}}, \"scene\": {\"xaxis\": {\"backgroundcolor\": \"#E5ECF6\", \"gridcolor\": \"white\", \"gridwidth\": 2, \"linecolor\": \"white\", \"showbackground\": true, \"ticks\": \"\", \"zerolinecolor\": \"white\"}, \"yaxis\": {\"backgroundcolor\": \"#E5ECF6\", \"gridcolor\": \"white\", \"gridwidth\": 2, \"linecolor\": \"white\", \"showbackground\": true, \"ticks\": \"\", \"zerolinecolor\": \"white\"}, \"zaxis\": {\"backgroundcolor\": \"#E5ECF6\", \"gridcolor\": \"white\", \"gridwidth\": 2, \"linecolor\": \"white\", \"showbackground\": true, \"ticks\": \"\", \"zerolinecolor\": \"white\"}}, \"shapedefaults\": {\"line\": {\"color\": \"#2a3f5f\"}}, \"ternary\": {\"aaxis\": {\"gridcolor\": \"white\", \"linecolor\": \"white\", \"ticks\": \"\"}, \"baxis\": {\"gridcolor\": \"white\", \"linecolor\": \"white\", \"ticks\": \"\"}, \"bgcolor\": \"#E5ECF6\", \"caxis\": {\"gridcolor\": \"white\", \"linecolor\": \"white\", \"ticks\": \"\"}}, \"title\": {\"x\": 0.05}, \"xaxis\": {\"automargin\": true, \"gridcolor\": \"white\", \"linecolor\": \"white\", \"ticks\": \"\", \"title\": {\"standoff\": 15}, \"zerolinecolor\": \"white\", \"zerolinewidth\": 2}, \"yaxis\": {\"automargin\": true, \"gridcolor\": \"white\", \"linecolor\": \"white\", \"ticks\": \"\", \"title\": {\"standoff\": 15}, \"zerolinecolor\": \"white\", \"zerolinewidth\": 2}}}, \"xaxis\": {\"anchor\": \"y\", \"domain\": [0.0, 1.0]}, \"yaxis\": {\"anchor\": \"x\", \"domain\": [0.0, 1.0], \"title\": {\"text\": \"cost\"}}},\n",
              "                        {\"responsive\": true}\n",
              "                    ).then(function(){\n",
              "                            \n",
              "var gd = document.getElementById('9e2595eb-bad5-4659-ada4-83e622e80887');\n",
              "var x = new MutationObserver(function (mutations, observer) {{\n",
              "        var display = window.getComputedStyle(gd).display;\n",
              "        if (!display || display === 'none') {{\n",
              "            console.log([gd, 'removed!']);\n",
              "            Plotly.purge(gd);\n",
              "            observer.disconnect();\n",
              "        }}\n",
              "}});\n",
              "\n",
              "// Listen for the removal of the full notebook cells\n",
              "var notebookContainer = gd.closest('#notebook-container');\n",
              "if (notebookContainer) {{\n",
              "    x.observe(notebookContainer, {childList: true});\n",
              "}}\n",
              "\n",
              "// Listen for the clearing of the current output cell\n",
              "var outputEl = gd.closest('.output');\n",
              "if (outputEl) {{\n",
              "    x.observe(outputEl, {childList: true});\n",
              "}}\n",
              "\n",
              "                        })\n",
              "                };\n",
              "                \n",
              "            </script>\n",
              "        </div>\n",
              "</body>\n",
              "</html>"
            ]
          },
          "metadata": {
            "tags": []
          }
        },
        {
          "output_type": "stream",
          "text": [
            "time: 1.46 s (started: 2021-08-24 01:42:57 +00:00)\n"
          ],
          "name": "stdout"
        }
      ]
    },
    {
      "cell_type": "code",
      "metadata": {
        "id": "AM4xDdJKRqOl",
        "colab": {
          "base_uri": "https://localhost:8080/"
        },
        "outputId": "be9c2951-f8ae-44e0-ade3-58eb9532d53a"
      },
      "source": [
        "H.cost.quantile(.25)"
      ],
      "execution_count": null,
      "outputs": [
        {
          "output_type": "execute_result",
          "data": {
            "text/plain": [
              "62.0"
            ]
          },
          "metadata": {
            "tags": []
          },
          "execution_count": 19
        },
        {
          "output_type": "stream",
          "text": [
            "time: 8.4 ms (started: 2021-08-24 01:42:59 +00:00)\n"
          ],
          "name": "stdout"
        }
      ]
    },
    {
      "cell_type": "markdown",
      "metadata": {
        "id": "LAkh5Xz5vZXU"
      },
      "source": [
        "Para cada ação (recurso) em cada estado, o próximo estado pode ser diferente (processo estocástico) e mesmo para um mesmo próximo estado, o custo pode ser diferentes. E qual custo usar? Será que há diferença entre o custo médio, mínimo e máximo pra cada tupla estado-ação-próximo_estado?"
      ]
    },
    {
      "cell_type": "code",
      "metadata": {
        "id": "Ys8r0j-otP1n",
        "colab": {
          "base_uri": "https://localhost:8080/"
        },
        "outputId": "8d2677d4-8677-4009-925c-15c15f225782"
      },
      "source": [
        "#pd.DataFrame(Q.groupby(['state','action','next_state'])['cost'].agg(['mean','max','min'])).round(2)"
      ],
      "execution_count": null,
      "outputs": [
        {
          "output_type": "stream",
          "text": [
            "time: 1.51 ms (started: 2021-08-24 01:42:59 +00:00)\n"
          ],
          "name": "stdout"
        }
      ]
    },
    {
      "cell_type": "markdown",
      "metadata": {
        "id": "IMrVtuxcvz_s"
      },
      "source": [
        "Como podemos ver nos resultados exibidos para as duas primeiras linhas, há diferenças. Vamos usar a média como um primeiro teste."
      ]
    },
    {
      "cell_type": "markdown",
      "metadata": {
        "id": "lrj2YngpZr3t"
      },
      "source": [
        "## Algoritmo"
      ]
    },
    {
      "cell_type": "code",
      "metadata": {
        "colab": {
          "base_uri": "https://localhost:8080/"
        },
        "id": "fJC26AnRZr3t",
        "outputId": "201d3558-1198-45c1-86c9-4a184595c98e"
      },
      "source": [
        "ALG = 'FQI'\n",
        "GAMMA = 0.9\n",
        "MAX_IT = 100\n",
        "MAX_DIFF = 0\n",
        "MAX_TIME = 10*60*60 #treinamento de no max 10h\n",
        "print('MAX_DIFF =', MAX_DIFF)\n",
        "\n",
        "def insert_next_s(case):\n",
        "  case['next_state'] = case['state'].shift(-1)\n",
        "  case = case.fillna('END')\n",
        "  return case\n",
        "\n",
        "def get_y(x, n, q, gamma):#, scale):\n",
        "  q_next_s = 0\n",
        "  if x['next_state'] != 'END':\n",
        "    q_next_s = q[q['state']==x['next_state']].groupby('action')[n-1].mean().min()\n",
        "  #if scale:\n",
        "  #  scaler = StandardScaler().fit(q_next_s)\n",
        "  #  return scaler, scaler.transform(x['cost'] + gamma * q_next_s)\n",
        "  #return None, x['cost'] + gamma * q_next_s\n",
        "  return x['cost'] + gamma * q_next_s\n",
        "\n",
        "#def set_q(pred_values, scaler):\n",
        "#  if scaler is not None:\n",
        "#    return scaler.inverse_transform(pred_values)\n",
        "#  return pred_values\n",
        "\n",
        "def train(model, x_train, q, max_it = MAX_IT, max_diff = MAX_DIFF, gamma = GAMMA):#, scale = False):\n",
        "  start_time = time.time()\n",
        "  for n in range(1,max_it):\n",
        "    print(n)\n",
        "    y = q.apply(lambda x: get_y(x, n, q, gamma), axis=1)\n",
        "    model = model.fit(x_train, y)\n",
        "    #model.fit(x_train, y)\n",
        "    q[n] = model.predict(x_train)\n",
        "    if (q[n-1] - q[n]).sum() < max_diff or (time.time()-start_time)>MAX_TIME: \n",
        "      break\n",
        "  return q, n, time.time()-start_time"
      ],
      "execution_count": null,
      "outputs": [
        {
          "output_type": "stream",
          "text": [
            "MAX_DIFF = 0\n",
            "time: 35.6 ms (started: 2021-08-24 01:42:59 +00:00)\n"
          ],
          "name": "stdout"
        }
      ]
    },
    {
      "cell_type": "markdown",
      "metadata": {
        "id": "N5bJ1Dn4_zp3"
      },
      "source": [
        "## Inicialização"
      ]
    },
    {
      "cell_type": "code",
      "metadata": {
        "id": "Ir0Md1EWk1pu",
        "colab": {
          "base_uri": "https://localhost:8080/"
        },
        "outputId": "875f7555-dd47-4f5a-fa7b-7e9624c78c42"
      },
      "source": [
        "def init_q(h):\n",
        "  aux = h.groupby('case').apply(insert_next_s)\n",
        "  aux[0] = h.cost.max()\n",
        "  return aux"
      ],
      "execution_count": null,
      "outputs": [
        {
          "output_type": "stream",
          "text": [
            "time: 3.34 ms (started: 2021-08-24 01:42:59 +00:00)\n"
          ],
          "name": "stdout"
        }
      ]
    },
    {
      "cell_type": "code",
      "metadata": {
        "id": "MBoAKWmHpZQB",
        "colab": {
          "base_uri": "https://localhost:8080/"
        },
        "outputId": "99fc2f7e-b43e-4f5c-bba6-4a4e4a00516c"
      },
      "source": [
        "h = H.copy()\n",
        "MAX_DIFF = H.cost.quantile(.25)\n",
        "q = init_q(h)\n",
        "q['action'] = q['action'].astype(str) # para que o get_dummies funcione corretamente para essa coluna\n",
        "#x = pd.get_dummies(q[['state','action']])"
      ],
      "execution_count": null,
      "outputs": [
        {
          "output_type": "stream",
          "text": [
            "time: 6.42 s (started: 2021-08-24 01:42:59 +00:00)\n"
          ],
          "name": "stdout"
        }
      ]
    },
    {
      "cell_type": "code",
      "metadata": {
        "colab": {
          "base_uri": "https://localhost:8080/"
        },
        "id": "chUwwhnV9LNZ",
        "outputId": "fc97f45d-3ac0-42f4-91be-c9f6d9f2949e"
      },
      "source": [
        "from ast import literal_eval\n",
        "x = (q['state'].apply(lambda x: pd.Series(literal_eval(x.split('-')[1])))\n",
        "               .replace('FREE',0).replace('LOW',1).replace('HIGH',2))\n",
        "x.columns = ['WL_'+str(col) for col in x.columns]\n",
        "print(x.shape)\n",
        "activities_dummies = pd.get_dummies(q['state'].apply(lambda x: x.split('-')[0]))\n",
        "x = x.join(activities_dummies)\n",
        "resources_dummies = pd.get_dummies(q['action'])\n",
        "x = x.join(resources_dummies)\n",
        "print('#linhas (datapoints), #colunas (features):', x.shape)"
      ],
      "execution_count": null,
      "outputs": [
        {
          "output_type": "stream",
          "text": [
            "(9095, 30)\n",
            "#linhas (datapoints), #colunas (features): (9095, 66)\n",
            "time: 6.5 s (started: 2021-08-24 01:43:05 +00:00)\n"
          ],
          "name": "stdout"
        }
      ]
    },
    {
      "cell_type": "code",
      "metadata": {
        "colab": {
          "base_uri": "https://localhost:8080/"
        },
        "id": "6p5yd-9jCQc3",
        "outputId": "cff0299c-fe95-4bd3-d7ff-52205d22a3e2"
      },
      "source": [
        "x.head()"
      ],
      "execution_count": null,
      "outputs": [
        {
          "output_type": "execute_result",
          "data": {
            "text/html": [
              "<div>\n",
              "<style scoped>\n",
              "    .dataframe tbody tr th:only-of-type {\n",
              "        vertical-align: middle;\n",
              "    }\n",
              "\n",
              "    .dataframe tbody tr th {\n",
              "        vertical-align: top;\n",
              "    }\n",
              "\n",
              "    .dataframe thead th {\n",
              "        text-align: right;\n",
              "    }\n",
              "</style>\n",
              "<table border=\"1\" class=\"dataframe\">\n",
              "  <thead>\n",
              "    <tr style=\"text-align: right;\">\n",
              "      <th></th>\n",
              "      <th>WL_11180</th>\n",
              "      <th>WL_10982</th>\n",
              "      <th>WL_11121</th>\n",
              "      <th>WL_10609</th>\n",
              "      <th>WL_10899</th>\n",
              "      <th>WL_10629</th>\n",
              "      <th>WL_11049</th>\n",
              "      <th>WL_11201</th>\n",
              "      <th>WL_10889</th>\n",
              "      <th>WL_11119</th>\n",
              "      <th>WL_11179</th>\n",
              "      <th>WL_11169</th>\n",
              "      <th>WL_10809</th>\n",
              "      <th>WL_11122</th>\n",
              "      <th>WL_11181</th>\n",
              "      <th>WL_11009</th>\n",
              "      <th>WL_11189</th>\n",
              "      <th>WL_10138</th>\n",
              "      <th>WL_10881</th>\n",
              "      <th>WL_10909</th>\n",
              "      <th>WL_10972</th>\n",
              "      <th>WL_11203</th>\n",
              "      <th>WL_10913</th>\n",
              "      <th>WL_11000</th>\n",
              "      <th>WL_10861</th>\n",
              "      <th>WL_11259</th>\n",
              "      <th>WL_10932</th>\n",
              "      <th>WL_10910</th>\n",
              "      <th>WL_10929</th>\n",
              "      <th>WL_11003</th>\n",
              "      <th>W_Assessing the application</th>\n",
              "      <th>W_Calling after sent offers</th>\n",
              "      <th>W_Calling to add missing information to the application</th>\n",
              "      <th>W_Evaluate fraud</th>\n",
              "      <th>W_Filling in information for the application</th>\n",
              "      <th>W_Fixing incoming lead</th>\n",
              "      <th>10138</th>\n",
              "      <th>10609</th>\n",
              "      <th>10629</th>\n",
              "      <th>10809</th>\n",
              "      <th>10861</th>\n",
              "      <th>10881</th>\n",
              "      <th>10889</th>\n",
              "      <th>10899</th>\n",
              "      <th>10909</th>\n",
              "      <th>10910</th>\n",
              "      <th>10913</th>\n",
              "      <th>10929</th>\n",
              "      <th>10932</th>\n",
              "      <th>10972</th>\n",
              "      <th>10982</th>\n",
              "      <th>11000</th>\n",
              "      <th>11003</th>\n",
              "      <th>11009</th>\n",
              "      <th>11049</th>\n",
              "      <th>11119</th>\n",
              "      <th>11121</th>\n",
              "      <th>11122</th>\n",
              "      <th>11169</th>\n",
              "      <th>11179</th>\n",
              "      <th>11180</th>\n",
              "      <th>11181</th>\n",
              "      <th>11189</th>\n",
              "      <th>11201</th>\n",
              "      <th>11203</th>\n",
              "      <th>11259</th>\n",
              "    </tr>\n",
              "  </thead>\n",
              "  <tbody>\n",
              "    <tr>\n",
              "      <th>0</th>\n",
              "      <td>2</td>\n",
              "      <td>0</td>\n",
              "      <td>0</td>\n",
              "      <td>0</td>\n",
              "      <td>0</td>\n",
              "      <td>0</td>\n",
              "      <td>0</td>\n",
              "      <td>0</td>\n",
              "      <td>0</td>\n",
              "      <td>0</td>\n",
              "      <td>0</td>\n",
              "      <td>0</td>\n",
              "      <td>0</td>\n",
              "      <td>0</td>\n",
              "      <td>0</td>\n",
              "      <td>0</td>\n",
              "      <td>0</td>\n",
              "      <td>0</td>\n",
              "      <td>0</td>\n",
              "      <td>0</td>\n",
              "      <td>0</td>\n",
              "      <td>0</td>\n",
              "      <td>0</td>\n",
              "      <td>0</td>\n",
              "      <td>0</td>\n",
              "      <td>0</td>\n",
              "      <td>0</td>\n",
              "      <td>0</td>\n",
              "      <td>0</td>\n",
              "      <td>0</td>\n",
              "      <td>0</td>\n",
              "      <td>0</td>\n",
              "      <td>0</td>\n",
              "      <td>0</td>\n",
              "      <td>0</td>\n",
              "      <td>1</td>\n",
              "      <td>0</td>\n",
              "      <td>0</td>\n",
              "      <td>0</td>\n",
              "      <td>0</td>\n",
              "      <td>0</td>\n",
              "      <td>0</td>\n",
              "      <td>1</td>\n",
              "      <td>0</td>\n",
              "      <td>0</td>\n",
              "      <td>0</td>\n",
              "      <td>0</td>\n",
              "      <td>0</td>\n",
              "      <td>0</td>\n",
              "      <td>0</td>\n",
              "      <td>0</td>\n",
              "      <td>0</td>\n",
              "      <td>0</td>\n",
              "      <td>0</td>\n",
              "      <td>0</td>\n",
              "      <td>0</td>\n",
              "      <td>0</td>\n",
              "      <td>0</td>\n",
              "      <td>0</td>\n",
              "      <td>0</td>\n",
              "      <td>0</td>\n",
              "      <td>0</td>\n",
              "      <td>0</td>\n",
              "      <td>0</td>\n",
              "      <td>0</td>\n",
              "      <td>0</td>\n",
              "    </tr>\n",
              "    <tr>\n",
              "      <th>1</th>\n",
              "      <td>0</td>\n",
              "      <td>0</td>\n",
              "      <td>0</td>\n",
              "      <td>0</td>\n",
              "      <td>0</td>\n",
              "      <td>0</td>\n",
              "      <td>0</td>\n",
              "      <td>0</td>\n",
              "      <td>2</td>\n",
              "      <td>0</td>\n",
              "      <td>0</td>\n",
              "      <td>0</td>\n",
              "      <td>0</td>\n",
              "      <td>0</td>\n",
              "      <td>0</td>\n",
              "      <td>0</td>\n",
              "      <td>0</td>\n",
              "      <td>0</td>\n",
              "      <td>0</td>\n",
              "      <td>0</td>\n",
              "      <td>0</td>\n",
              "      <td>0</td>\n",
              "      <td>0</td>\n",
              "      <td>0</td>\n",
              "      <td>0</td>\n",
              "      <td>0</td>\n",
              "      <td>0</td>\n",
              "      <td>0</td>\n",
              "      <td>0</td>\n",
              "      <td>0</td>\n",
              "      <td>0</td>\n",
              "      <td>0</td>\n",
              "      <td>0</td>\n",
              "      <td>0</td>\n",
              "      <td>1</td>\n",
              "      <td>0</td>\n",
              "      <td>0</td>\n",
              "      <td>0</td>\n",
              "      <td>0</td>\n",
              "      <td>0</td>\n",
              "      <td>0</td>\n",
              "      <td>0</td>\n",
              "      <td>0</td>\n",
              "      <td>0</td>\n",
              "      <td>0</td>\n",
              "      <td>0</td>\n",
              "      <td>0</td>\n",
              "      <td>0</td>\n",
              "      <td>0</td>\n",
              "      <td>0</td>\n",
              "      <td>0</td>\n",
              "      <td>0</td>\n",
              "      <td>0</td>\n",
              "      <td>0</td>\n",
              "      <td>0</td>\n",
              "      <td>0</td>\n",
              "      <td>0</td>\n",
              "      <td>0</td>\n",
              "      <td>0</td>\n",
              "      <td>0</td>\n",
              "      <td>1</td>\n",
              "      <td>0</td>\n",
              "      <td>0</td>\n",
              "      <td>0</td>\n",
              "      <td>0</td>\n",
              "      <td>0</td>\n",
              "    </tr>\n",
              "    <tr>\n",
              "      <th>2</th>\n",
              "      <td>0</td>\n",
              "      <td>0</td>\n",
              "      <td>0</td>\n",
              "      <td>0</td>\n",
              "      <td>0</td>\n",
              "      <td>0</td>\n",
              "      <td>0</td>\n",
              "      <td>0</td>\n",
              "      <td>0</td>\n",
              "      <td>0</td>\n",
              "      <td>0</td>\n",
              "      <td>0</td>\n",
              "      <td>0</td>\n",
              "      <td>0</td>\n",
              "      <td>0</td>\n",
              "      <td>0</td>\n",
              "      <td>0</td>\n",
              "      <td>0</td>\n",
              "      <td>0</td>\n",
              "      <td>0</td>\n",
              "      <td>0</td>\n",
              "      <td>0</td>\n",
              "      <td>0</td>\n",
              "      <td>0</td>\n",
              "      <td>0</td>\n",
              "      <td>0</td>\n",
              "      <td>0</td>\n",
              "      <td>0</td>\n",
              "      <td>0</td>\n",
              "      <td>0</td>\n",
              "      <td>0</td>\n",
              "      <td>0</td>\n",
              "      <td>0</td>\n",
              "      <td>0</td>\n",
              "      <td>0</td>\n",
              "      <td>1</td>\n",
              "      <td>0</td>\n",
              "      <td>0</td>\n",
              "      <td>0</td>\n",
              "      <td>0</td>\n",
              "      <td>0</td>\n",
              "      <td>0</td>\n",
              "      <td>1</td>\n",
              "      <td>0</td>\n",
              "      <td>0</td>\n",
              "      <td>0</td>\n",
              "      <td>0</td>\n",
              "      <td>0</td>\n",
              "      <td>0</td>\n",
              "      <td>0</td>\n",
              "      <td>0</td>\n",
              "      <td>0</td>\n",
              "      <td>0</td>\n",
              "      <td>0</td>\n",
              "      <td>0</td>\n",
              "      <td>0</td>\n",
              "      <td>0</td>\n",
              "      <td>0</td>\n",
              "      <td>0</td>\n",
              "      <td>0</td>\n",
              "      <td>0</td>\n",
              "      <td>0</td>\n",
              "      <td>0</td>\n",
              "      <td>0</td>\n",
              "      <td>0</td>\n",
              "      <td>0</td>\n",
              "    </tr>\n",
              "    <tr>\n",
              "      <th>3</th>\n",
              "      <td>2</td>\n",
              "      <td>0</td>\n",
              "      <td>0</td>\n",
              "      <td>0</td>\n",
              "      <td>0</td>\n",
              "      <td>0</td>\n",
              "      <td>0</td>\n",
              "      <td>0</td>\n",
              "      <td>2</td>\n",
              "      <td>0</td>\n",
              "      <td>0</td>\n",
              "      <td>0</td>\n",
              "      <td>0</td>\n",
              "      <td>0</td>\n",
              "      <td>0</td>\n",
              "      <td>0</td>\n",
              "      <td>0</td>\n",
              "      <td>0</td>\n",
              "      <td>0</td>\n",
              "      <td>0</td>\n",
              "      <td>0</td>\n",
              "      <td>0</td>\n",
              "      <td>0</td>\n",
              "      <td>0</td>\n",
              "      <td>0</td>\n",
              "      <td>0</td>\n",
              "      <td>0</td>\n",
              "      <td>0</td>\n",
              "      <td>0</td>\n",
              "      <td>0</td>\n",
              "      <td>0</td>\n",
              "      <td>0</td>\n",
              "      <td>0</td>\n",
              "      <td>0</td>\n",
              "      <td>0</td>\n",
              "      <td>1</td>\n",
              "      <td>0</td>\n",
              "      <td>0</td>\n",
              "      <td>0</td>\n",
              "      <td>0</td>\n",
              "      <td>0</td>\n",
              "      <td>0</td>\n",
              "      <td>1</td>\n",
              "      <td>0</td>\n",
              "      <td>0</td>\n",
              "      <td>0</td>\n",
              "      <td>0</td>\n",
              "      <td>0</td>\n",
              "      <td>0</td>\n",
              "      <td>0</td>\n",
              "      <td>0</td>\n",
              "      <td>0</td>\n",
              "      <td>0</td>\n",
              "      <td>0</td>\n",
              "      <td>0</td>\n",
              "      <td>0</td>\n",
              "      <td>0</td>\n",
              "      <td>0</td>\n",
              "      <td>0</td>\n",
              "      <td>0</td>\n",
              "      <td>0</td>\n",
              "      <td>0</td>\n",
              "      <td>0</td>\n",
              "      <td>0</td>\n",
              "      <td>0</td>\n",
              "      <td>0</td>\n",
              "    </tr>\n",
              "    <tr>\n",
              "      <th>4</th>\n",
              "      <td>2</td>\n",
              "      <td>0</td>\n",
              "      <td>0</td>\n",
              "      <td>0</td>\n",
              "      <td>0</td>\n",
              "      <td>0</td>\n",
              "      <td>0</td>\n",
              "      <td>0</td>\n",
              "      <td>0</td>\n",
              "      <td>0</td>\n",
              "      <td>0</td>\n",
              "      <td>0</td>\n",
              "      <td>0</td>\n",
              "      <td>0</td>\n",
              "      <td>0</td>\n",
              "      <td>0</td>\n",
              "      <td>0</td>\n",
              "      <td>0</td>\n",
              "      <td>0</td>\n",
              "      <td>0</td>\n",
              "      <td>0</td>\n",
              "      <td>0</td>\n",
              "      <td>0</td>\n",
              "      <td>0</td>\n",
              "      <td>0</td>\n",
              "      <td>0</td>\n",
              "      <td>0</td>\n",
              "      <td>0</td>\n",
              "      <td>0</td>\n",
              "      <td>0</td>\n",
              "      <td>0</td>\n",
              "      <td>0</td>\n",
              "      <td>0</td>\n",
              "      <td>0</td>\n",
              "      <td>0</td>\n",
              "      <td>1</td>\n",
              "      <td>0</td>\n",
              "      <td>0</td>\n",
              "      <td>0</td>\n",
              "      <td>0</td>\n",
              "      <td>0</td>\n",
              "      <td>0</td>\n",
              "      <td>1</td>\n",
              "      <td>0</td>\n",
              "      <td>0</td>\n",
              "      <td>0</td>\n",
              "      <td>0</td>\n",
              "      <td>0</td>\n",
              "      <td>0</td>\n",
              "      <td>0</td>\n",
              "      <td>0</td>\n",
              "      <td>0</td>\n",
              "      <td>0</td>\n",
              "      <td>0</td>\n",
              "      <td>0</td>\n",
              "      <td>0</td>\n",
              "      <td>0</td>\n",
              "      <td>0</td>\n",
              "      <td>0</td>\n",
              "      <td>0</td>\n",
              "      <td>0</td>\n",
              "      <td>0</td>\n",
              "      <td>0</td>\n",
              "      <td>0</td>\n",
              "      <td>0</td>\n",
              "      <td>0</td>\n",
              "    </tr>\n",
              "  </tbody>\n",
              "</table>\n",
              "</div>"
            ],
            "text/plain": [
              "   WL_11180  WL_10982  WL_11121  WL_10609  ...  11189  11201  11203  11259\n",
              "0         2         0         0         0  ...      0      0      0      0\n",
              "1         0         0         0         0  ...      0      0      0      0\n",
              "2         0         0         0         0  ...      0      0      0      0\n",
              "3         2         0         0         0  ...      0      0      0      0\n",
              "4         2         0         0         0  ...      0      0      0      0\n",
              "\n",
              "[5 rows x 66 columns]"
            ]
          },
          "metadata": {
            "tags": []
          },
          "execution_count": 25
        },
        {
          "output_type": "stream",
          "text": [
            "time: 92 ms (started: 2021-08-24 01:43:12 +00:00)\n"
          ],
          "name": "stdout"
        }
      ]
    },
    {
      "cell_type": "code",
      "metadata": {
        "colab": {
          "base_uri": "https://localhost:8080/"
        },
        "id": "Feo0v6_-1Cq3",
        "outputId": "340d796a-d702-4b3d-8992-7e90112addf9"
      },
      "source": [
        "h.cost.max()"
      ],
      "execution_count": null,
      "outputs": [
        {
          "output_type": "execute_result",
          "data": {
            "text/plain": [
              "239335.0"
            ]
          },
          "metadata": {
            "tags": []
          },
          "execution_count": 26
        },
        {
          "output_type": "stream",
          "text": [
            "time: 3.63 ms (started: 2021-08-24 01:43:12 +00:00)\n"
          ],
          "name": "stdout"
        }
      ]
    },
    {
      "cell_type": "markdown",
      "metadata": {
        "id": "yBKX169-_34W"
      },
      "source": [
        "## Execuções"
      ]
    },
    {
      "cell_type": "code",
      "metadata": {
        "id": "4lKXhmfZ_7NZ",
        "colab": {
          "base_uri": "https://localhost:8080/"
        },
        "outputId": "9c6c0917-490e-41d1-a024-227d31eb28c0"
      },
      "source": [
        "def save_exec(alg, alg_espec, model_type, model_espec, gamma, it, train_time, q):\n",
        "  #save metadata\n",
        "  exec_metadata = [alg, alg_espec, model_type, model_espec, gamma, it, train_time]\n",
        "  with open(r'/gdrive/My Drive/ppar_results/metadata.csv','a') as f:\n",
        "    writer = csv.writer(f)\n",
        "    writer.writerow(exec_metadata)\n",
        "  #save q\n",
        "  q_filename = ('-').join([str(info) for info in exec_metadata[:-2]])\n",
        "  with open('/gdrive/My Drive/ppar_results/%s.csv'%q_filename, 'w') as f:\n",
        "    q.to_csv(f, index=False)"
      ],
      "execution_count": null,
      "outputs": [
        {
          "output_type": "stream",
          "text": [
            "time: 8.33 ms (started: 2021-08-24 01:43:12 +00:00)\n"
          ],
          "name": "stdout"
        }
      ]
    },
    {
      "cell_type": "markdown",
      "metadata": {
        "id": "mkWkwVCGoD4x"
      },
      "source": [
        "#### FQI - LinearRegression"
      ]
    },
    {
      "cell_type": "code",
      "metadata": {
        "colab": {
          "base_uri": "https://localhost:8080/"
        },
        "id": "-wVmoUlSp5Al",
        "outputId": "44eb7401-235f-4089-9f0c-d2bcb651995f"
      },
      "source": [
        "q, it, train_time = train(LinearRegression(), x, init_q(h))\n",
        "save_exec(ALG, 'none', 'linear_regression_arrumado', 'default', GAMMA, it, train_time, q)"
      ],
      "execution_count": null,
      "outputs": [
        {
          "output_type": "stream",
          "text": [
            "1\n",
            "2\n",
            "3\n",
            "4\n",
            "5\n",
            "6\n",
            "7\n",
            "8\n",
            "9\n",
            "10\n",
            "11\n",
            "12\n",
            "13\n",
            "14\n",
            "15\n",
            "16\n",
            "17\n",
            "18\n",
            "19\n",
            "20\n",
            "21\n",
            "22\n",
            "23\n",
            "24\n",
            "25\n",
            "26\n",
            "27\n",
            "28\n",
            "29\n",
            "30\n",
            "time: 7min 29s (started: 2021-08-13 18:34:20 +00:00)\n"
          ],
          "name": "stdout"
        }
      ]
    },
    {
      "cell_type": "markdown",
      "metadata": {
        "id": "qumKazGOoJe5"
      },
      "source": [
        "#### FQI - Random Forest"
      ]
    },
    {
      "cell_type": "code",
      "metadata": {
        "colab": {
          "base_uri": "https://localhost:8080/"
        },
        "id": "iWg1OPxxD8nQ",
        "outputId": "64c198f4-80fc-496f-f6c1-ac4f36670aba"
      },
      "source": [
        "q, it, train_time = train(RandomForestRegressor(n_estimators=5), x, init_q(h))\n",
        "save_exec(ALG, 'none', 'random_forest', 'n_estimators=5', GAMMA, it, train_time, q)"
      ],
      "execution_count": null,
      "outputs": [
        {
          "output_type": "stream",
          "text": [
            "1\n",
            "2\n",
            "3\n",
            "4\n",
            "5\n",
            "6\n",
            "7\n",
            "8\n",
            "9\n",
            "10\n",
            "11\n",
            "12\n",
            "time: 3min 14s (started: 2021-08-24 01:43:36 +00:00)\n"
          ],
          "name": "stdout"
        }
      ]
    },
    {
      "cell_type": "code",
      "metadata": {
        "colab": {
          "base_uri": "https://localhost:8080/"
        },
        "id": "bIHjFnyvKIy1",
        "outputId": "432d8d38-ae6c-4c01-87c2-3dfde6cef19f"
      },
      "source": [
        "q, it, train_time = train(RandomForestRegressor(n_estimators=10), x, init_q(h))\n",
        "save_exec(ALG, 'none', 'random_forest', 'n_estimators=10', GAMMA, it, train_time, q)"
      ],
      "execution_count": null,
      "outputs": [
        {
          "output_type": "stream",
          "text": [
            "1\n",
            "2\n",
            "3\n",
            "4\n",
            "5\n",
            "6\n",
            "7\n",
            "8\n",
            "9\n",
            "10\n",
            "11\n",
            "time: 3min 2s (started: 2021-08-24 01:46:51 +00:00)\n"
          ],
          "name": "stdout"
        }
      ]
    },
    {
      "cell_type": "code",
      "metadata": {
        "colab": {
          "base_uri": "https://localhost:8080/"
        },
        "id": "s6fKquIGb-kT",
        "outputId": "bc543c26-2e1f-4fa9-efc7-a3aa02a87934"
      },
      "source": [
        "q, it, train_time = train(RandomForestRegressor(n_estimators=20), x, init_q(h))\n",
        "save_exec(ALG, 'none', 'random_forest', 'n_estimators=20', GAMMA, it, train_time, q)"
      ],
      "execution_count": null,
      "outputs": [
        {
          "output_type": "stream",
          "text": [
            "1\n",
            "2\n",
            "3\n",
            "4\n",
            "5\n",
            "6\n",
            "7\n",
            "8\n",
            "9\n",
            "10\n",
            "11\n",
            "12\n",
            "13\n",
            "14\n",
            "time: 3min 56s (started: 2021-08-24 01:49:53 +00:00)\n"
          ],
          "name": "stdout"
        }
      ]
    },
    {
      "cell_type": "code",
      "metadata": {
        "colab": {
          "base_uri": "https://localhost:8080/"
        },
        "id": "v0jC2wZpgrOt",
        "outputId": "9e467349-ea7f-4c1d-c4ab-231139976a57"
      },
      "source": [
        "q, it, train_time = train(RandomForestRegressor(n_estimators=50), x, init_q(h))\n",
        "save_exec(ALG, 'none', 'random_forest', 'n_estimators=20', GAMMA, it, train_time, q)"
      ],
      "execution_count": null,
      "outputs": [
        {
          "output_type": "stream",
          "text": [
            "1\n",
            "2\n",
            "3\n",
            "4\n",
            "5\n",
            "6\n",
            "7\n",
            "8\n",
            "9\n",
            "10\n",
            "11\n",
            "12\n",
            "13\n",
            "14\n",
            "15\n",
            "time: 5min 23s (started: 2021-08-24 01:53:50 +00:00)\n"
          ],
          "name": "stdout"
        }
      ]
    },
    {
      "cell_type": "code",
      "metadata": {
        "colab": {
          "base_uri": "https://localhost:8080/"
        },
        "id": "w97UwM69Jy1q",
        "outputId": "75ef9a9f-8b02-4d98-973e-80f1e4ebc66f"
      },
      "source": [
        "q, it, train_time = train(RandomForestRegressor(), x, init_q(h))\n",
        "save_exec(ALG, 'none', 'random_forest', 'default', GAMMA, it, train_time, q)"
      ],
      "execution_count": null,
      "outputs": [
        {
          "output_type": "stream",
          "text": [
            "1\n",
            "2\n",
            "3\n",
            "4\n",
            "5\n",
            "6\n",
            "7\n",
            "8\n",
            "9\n",
            "10\n",
            "11\n",
            "12\n",
            "13\n",
            "14\n",
            "time: 4min 57s (started: 2021-08-24 01:59:46 +00:00)\n"
          ],
          "name": "stdout"
        }
      ]
    },
    {
      "cell_type": "markdown",
      "metadata": {
        "id": "u6db7TgboSKH"
      },
      "source": [
        "#### NFQ - MLP"
      ]
    },
    {
      "cell_type": "code",
      "metadata": {
        "colab": {
          "base_uri": "https://localhost:8080/"
        },
        "id": "vy6XsYO-UiIz",
        "outputId": "aaa303e6-3d85-469f-c897-893b54f71588"
      },
      "source": [
        "q, it, train_time = train(MLPRegressor(learning_rate='adaptive', alpha=0.005, hidden_layer_sizes=(10,10)), x, init_q(h))\n",
        "save_exec(ALG, 'none', 'mlp', 'learning_rate=adaptive, alpha=0.005, hidden_layer_sizes=(10,10)', GAMMA, it, train_time, q)"
      ],
      "execution_count": null,
      "outputs": [
        {
          "output_type": "stream",
          "text": [
            "1\n"
          ],
          "name": "stdout"
        },
        {
          "output_type": "stream",
          "text": [
            "/usr/local/lib/python3.7/dist-packages/sklearn/neural_network/_multilayer_perceptron.py:571: ConvergenceWarning:\n",
            "\n",
            "Stochastic Optimizer: Maximum iterations (200) reached and the optimization hasn't converged yet.\n",
            "\n"
          ],
          "name": "stderr"
        },
        {
          "output_type": "stream",
          "text": [
            "2\n"
          ],
          "name": "stdout"
        },
        {
          "output_type": "stream",
          "text": [
            "/usr/local/lib/python3.7/dist-packages/sklearn/neural_network/_multilayer_perceptron.py:571: ConvergenceWarning:\n",
            "\n",
            "Stochastic Optimizer: Maximum iterations (200) reached and the optimization hasn't converged yet.\n",
            "\n"
          ],
          "name": "stderr"
        },
        {
          "output_type": "stream",
          "text": [
            "3\n"
          ],
          "name": "stdout"
        },
        {
          "output_type": "stream",
          "text": [
            "/usr/local/lib/python3.7/dist-packages/sklearn/neural_network/_multilayer_perceptron.py:571: ConvergenceWarning:\n",
            "\n",
            "Stochastic Optimizer: Maximum iterations (200) reached and the optimization hasn't converged yet.\n",
            "\n"
          ],
          "name": "stderr"
        },
        {
          "output_type": "stream",
          "text": [
            "4\n"
          ],
          "name": "stdout"
        },
        {
          "output_type": "stream",
          "text": [
            "/usr/local/lib/python3.7/dist-packages/sklearn/neural_network/_multilayer_perceptron.py:571: ConvergenceWarning:\n",
            "\n",
            "Stochastic Optimizer: Maximum iterations (200) reached and the optimization hasn't converged yet.\n",
            "\n"
          ],
          "name": "stderr"
        },
        {
          "output_type": "stream",
          "text": [
            "5\n"
          ],
          "name": "stdout"
        },
        {
          "output_type": "stream",
          "text": [
            "/usr/local/lib/python3.7/dist-packages/sklearn/neural_network/_multilayer_perceptron.py:571: ConvergenceWarning:\n",
            "\n",
            "Stochastic Optimizer: Maximum iterations (200) reached and the optimization hasn't converged yet.\n",
            "\n"
          ],
          "name": "stderr"
        },
        {
          "output_type": "stream",
          "text": [
            "6\n"
          ],
          "name": "stdout"
        },
        {
          "output_type": "stream",
          "text": [
            "/usr/local/lib/python3.7/dist-packages/sklearn/neural_network/_multilayer_perceptron.py:571: ConvergenceWarning:\n",
            "\n",
            "Stochastic Optimizer: Maximum iterations (200) reached and the optimization hasn't converged yet.\n",
            "\n"
          ],
          "name": "stderr"
        },
        {
          "output_type": "stream",
          "text": [
            "7\n"
          ],
          "name": "stdout"
        },
        {
          "output_type": "stream",
          "text": [
            "/usr/local/lib/python3.7/dist-packages/sklearn/neural_network/_multilayer_perceptron.py:571: ConvergenceWarning:\n",
            "\n",
            "Stochastic Optimizer: Maximum iterations (200) reached and the optimization hasn't converged yet.\n",
            "\n"
          ],
          "name": "stderr"
        },
        {
          "output_type": "stream",
          "text": [
            "8\n"
          ],
          "name": "stdout"
        },
        {
          "output_type": "stream",
          "text": [
            "/usr/local/lib/python3.7/dist-packages/sklearn/neural_network/_multilayer_perceptron.py:571: ConvergenceWarning:\n",
            "\n",
            "Stochastic Optimizer: Maximum iterations (200) reached and the optimization hasn't converged yet.\n",
            "\n"
          ],
          "name": "stderr"
        },
        {
          "output_type": "stream",
          "text": [
            "9\n"
          ],
          "name": "stdout"
        },
        {
          "output_type": "stream",
          "text": [
            "/usr/local/lib/python3.7/dist-packages/sklearn/neural_network/_multilayer_perceptron.py:571: ConvergenceWarning:\n",
            "\n",
            "Stochastic Optimizer: Maximum iterations (200) reached and the optimization hasn't converged yet.\n",
            "\n"
          ],
          "name": "stderr"
        },
        {
          "output_type": "stream",
          "text": [
            "10\n"
          ],
          "name": "stdout"
        },
        {
          "output_type": "stream",
          "text": [
            "/usr/local/lib/python3.7/dist-packages/sklearn/neural_network/_multilayer_perceptron.py:571: ConvergenceWarning:\n",
            "\n",
            "Stochastic Optimizer: Maximum iterations (200) reached and the optimization hasn't converged yet.\n",
            "\n"
          ],
          "name": "stderr"
        },
        {
          "output_type": "stream",
          "text": [
            "11\n"
          ],
          "name": "stdout"
        },
        {
          "output_type": "stream",
          "text": [
            "/usr/local/lib/python3.7/dist-packages/sklearn/neural_network/_multilayer_perceptron.py:571: ConvergenceWarning:\n",
            "\n",
            "Stochastic Optimizer: Maximum iterations (200) reached and the optimization hasn't converged yet.\n",
            "\n"
          ],
          "name": "stderr"
        },
        {
          "output_type": "stream",
          "text": [
            "12\n"
          ],
          "name": "stdout"
        },
        {
          "output_type": "stream",
          "text": [
            "/usr/local/lib/python3.7/dist-packages/sklearn/neural_network/_multilayer_perceptron.py:571: ConvergenceWarning:\n",
            "\n",
            "Stochastic Optimizer: Maximum iterations (200) reached and the optimization hasn't converged yet.\n",
            "\n"
          ],
          "name": "stderr"
        },
        {
          "output_type": "stream",
          "text": [
            "13\n"
          ],
          "name": "stdout"
        },
        {
          "output_type": "stream",
          "text": [
            "/usr/local/lib/python3.7/dist-packages/sklearn/neural_network/_multilayer_perceptron.py:571: ConvergenceWarning:\n",
            "\n",
            "Stochastic Optimizer: Maximum iterations (200) reached and the optimization hasn't converged yet.\n",
            "\n"
          ],
          "name": "stderr"
        },
        {
          "output_type": "stream",
          "text": [
            "14\n"
          ],
          "name": "stdout"
        },
        {
          "output_type": "stream",
          "text": [
            "/usr/local/lib/python3.7/dist-packages/sklearn/neural_network/_multilayer_perceptron.py:571: ConvergenceWarning:\n",
            "\n",
            "Stochastic Optimizer: Maximum iterations (200) reached and the optimization hasn't converged yet.\n",
            "\n"
          ],
          "name": "stderr"
        },
        {
          "output_type": "stream",
          "text": [
            "15\n"
          ],
          "name": "stdout"
        },
        {
          "output_type": "stream",
          "text": [
            "/usr/local/lib/python3.7/dist-packages/sklearn/neural_network/_multilayer_perceptron.py:571: ConvergenceWarning:\n",
            "\n",
            "Stochastic Optimizer: Maximum iterations (200) reached and the optimization hasn't converged yet.\n",
            "\n"
          ],
          "name": "stderr"
        },
        {
          "output_type": "stream",
          "text": [
            "16\n"
          ],
          "name": "stdout"
        },
        {
          "output_type": "stream",
          "text": [
            "/usr/local/lib/python3.7/dist-packages/sklearn/neural_network/_multilayer_perceptron.py:571: ConvergenceWarning:\n",
            "\n",
            "Stochastic Optimizer: Maximum iterations (200) reached and the optimization hasn't converged yet.\n",
            "\n"
          ],
          "name": "stderr"
        },
        {
          "output_type": "stream",
          "text": [
            "17\n"
          ],
          "name": "stdout"
        },
        {
          "output_type": "stream",
          "text": [
            "/usr/local/lib/python3.7/dist-packages/sklearn/neural_network/_multilayer_perceptron.py:571: ConvergenceWarning:\n",
            "\n",
            "Stochastic Optimizer: Maximum iterations (200) reached and the optimization hasn't converged yet.\n",
            "\n"
          ],
          "name": "stderr"
        },
        {
          "output_type": "stream",
          "text": [
            "18\n"
          ],
          "name": "stdout"
        },
        {
          "output_type": "stream",
          "text": [
            "/usr/local/lib/python3.7/dist-packages/sklearn/neural_network/_multilayer_perceptron.py:571: ConvergenceWarning:\n",
            "\n",
            "Stochastic Optimizer: Maximum iterations (200) reached and the optimization hasn't converged yet.\n",
            "\n"
          ],
          "name": "stderr"
        },
        {
          "output_type": "stream",
          "text": [
            "19\n"
          ],
          "name": "stdout"
        },
        {
          "output_type": "stream",
          "text": [
            "/usr/local/lib/python3.7/dist-packages/sklearn/neural_network/_multilayer_perceptron.py:571: ConvergenceWarning:\n",
            "\n",
            "Stochastic Optimizer: Maximum iterations (200) reached and the optimization hasn't converged yet.\n",
            "\n"
          ],
          "name": "stderr"
        },
        {
          "output_type": "stream",
          "text": [
            "20\n"
          ],
          "name": "stdout"
        },
        {
          "output_type": "stream",
          "text": [
            "/usr/local/lib/python3.7/dist-packages/sklearn/neural_network/_multilayer_perceptron.py:571: ConvergenceWarning:\n",
            "\n",
            "Stochastic Optimizer: Maximum iterations (200) reached and the optimization hasn't converged yet.\n",
            "\n"
          ],
          "name": "stderr"
        },
        {
          "output_type": "stream",
          "text": [
            "21\n"
          ],
          "name": "stdout"
        },
        {
          "output_type": "stream",
          "text": [
            "/usr/local/lib/python3.7/dist-packages/sklearn/neural_network/_multilayer_perceptron.py:571: ConvergenceWarning:\n",
            "\n",
            "Stochastic Optimizer: Maximum iterations (200) reached and the optimization hasn't converged yet.\n",
            "\n"
          ],
          "name": "stderr"
        },
        {
          "output_type": "stream",
          "text": [
            "22\n"
          ],
          "name": "stdout"
        },
        {
          "output_type": "stream",
          "text": [
            "/usr/local/lib/python3.7/dist-packages/sklearn/neural_network/_multilayer_perceptron.py:571: ConvergenceWarning:\n",
            "\n",
            "Stochastic Optimizer: Maximum iterations (200) reached and the optimization hasn't converged yet.\n",
            "\n"
          ],
          "name": "stderr"
        },
        {
          "output_type": "stream",
          "text": [
            "time: 7min 50s (started: 2021-08-24 02:04:49 +00:00)\n"
          ],
          "name": "stdout"
        }
      ]
    },
    {
      "cell_type": "code",
      "metadata": {
        "colab": {
          "base_uri": "https://localhost:8080/"
        },
        "id": "gi6z_VD20xJp",
        "outputId": "76fad58f-0400-435a-b6fd-e32fa8130e9f"
      },
      "source": [
        "q, it, train_time = train(MLPRegressor(learning_rate='adaptive', alpha=0.005, hidden_layer_sizes=(50,50)), x, init_q(h))\n",
        "save_exec(ALG, 'none', 'mlp', 'learning_rate=adaptive, alpha=0.005, hidden_layer_sizes=(50,50)', GAMMA, it, train_time, q)"
      ],
      "execution_count": null,
      "outputs": [
        {
          "output_type": "stream",
          "text": [
            "1\n"
          ],
          "name": "stdout"
        },
        {
          "output_type": "stream",
          "text": [
            "/usr/local/lib/python3.7/dist-packages/sklearn/neural_network/_multilayer_perceptron.py:571: ConvergenceWarning:\n",
            "\n",
            "Stochastic Optimizer: Maximum iterations (200) reached and the optimization hasn't converged yet.\n",
            "\n"
          ],
          "name": "stderr"
        },
        {
          "output_type": "stream",
          "text": [
            "2\n"
          ],
          "name": "stdout"
        },
        {
          "output_type": "stream",
          "text": [
            "/usr/local/lib/python3.7/dist-packages/sklearn/neural_network/_multilayer_perceptron.py:571: ConvergenceWarning:\n",
            "\n",
            "Stochastic Optimizer: Maximum iterations (200) reached and the optimization hasn't converged yet.\n",
            "\n"
          ],
          "name": "stderr"
        },
        {
          "output_type": "stream",
          "text": [
            "3\n",
            "4\n"
          ],
          "name": "stdout"
        },
        {
          "output_type": "stream",
          "text": [
            "/usr/local/lib/python3.7/dist-packages/sklearn/neural_network/_multilayer_perceptron.py:571: ConvergenceWarning:\n",
            "\n",
            "Stochastic Optimizer: Maximum iterations (200) reached and the optimization hasn't converged yet.\n",
            "\n"
          ],
          "name": "stderr"
        },
        {
          "output_type": "stream",
          "text": [
            "5\n",
            "6\n"
          ],
          "name": "stdout"
        },
        {
          "output_type": "stream",
          "text": [
            "/usr/local/lib/python3.7/dist-packages/sklearn/neural_network/_multilayer_perceptron.py:571: ConvergenceWarning:\n",
            "\n",
            "Stochastic Optimizer: Maximum iterations (200) reached and the optimization hasn't converged yet.\n",
            "\n"
          ],
          "name": "stderr"
        },
        {
          "output_type": "stream",
          "text": [
            "7\n",
            "8\n"
          ],
          "name": "stdout"
        },
        {
          "output_type": "stream",
          "text": [
            "/usr/local/lib/python3.7/dist-packages/sklearn/neural_network/_multilayer_perceptron.py:571: ConvergenceWarning:\n",
            "\n",
            "Stochastic Optimizer: Maximum iterations (200) reached and the optimization hasn't converged yet.\n",
            "\n"
          ],
          "name": "stderr"
        },
        {
          "output_type": "stream",
          "text": [
            "9\n"
          ],
          "name": "stdout"
        },
        {
          "output_type": "stream",
          "text": [
            "/usr/local/lib/python3.7/dist-packages/sklearn/neural_network/_multilayer_perceptron.py:571: ConvergenceWarning:\n",
            "\n",
            "Stochastic Optimizer: Maximum iterations (200) reached and the optimization hasn't converged yet.\n",
            "\n"
          ],
          "name": "stderr"
        },
        {
          "output_type": "stream",
          "text": [
            "10\n"
          ],
          "name": "stdout"
        },
        {
          "output_type": "stream",
          "text": [
            "/usr/local/lib/python3.7/dist-packages/sklearn/neural_network/_multilayer_perceptron.py:571: ConvergenceWarning:\n",
            "\n",
            "Stochastic Optimizer: Maximum iterations (200) reached and the optimization hasn't converged yet.\n",
            "\n"
          ],
          "name": "stderr"
        },
        {
          "output_type": "stream",
          "text": [
            "11\n"
          ],
          "name": "stdout"
        },
        {
          "output_type": "stream",
          "text": [
            "/usr/local/lib/python3.7/dist-packages/sklearn/neural_network/_multilayer_perceptron.py:571: ConvergenceWarning:\n",
            "\n",
            "Stochastic Optimizer: Maximum iterations (200) reached and the optimization hasn't converged yet.\n",
            "\n"
          ],
          "name": "stderr"
        },
        {
          "output_type": "stream",
          "text": [
            "12\n"
          ],
          "name": "stdout"
        },
        {
          "output_type": "stream",
          "text": [
            "/usr/local/lib/python3.7/dist-packages/sklearn/neural_network/_multilayer_perceptron.py:571: ConvergenceWarning:\n",
            "\n",
            "Stochastic Optimizer: Maximum iterations (200) reached and the optimization hasn't converged yet.\n",
            "\n"
          ],
          "name": "stderr"
        },
        {
          "output_type": "stream",
          "text": [
            "13\n"
          ],
          "name": "stdout"
        },
        {
          "output_type": "stream",
          "text": [
            "/usr/local/lib/python3.7/dist-packages/sklearn/neural_network/_multilayer_perceptron.py:571: ConvergenceWarning:\n",
            "\n",
            "Stochastic Optimizer: Maximum iterations (200) reached and the optimization hasn't converged yet.\n",
            "\n"
          ],
          "name": "stderr"
        },
        {
          "output_type": "stream",
          "text": [
            "14\n"
          ],
          "name": "stdout"
        },
        {
          "output_type": "stream",
          "text": [
            "/usr/local/lib/python3.7/dist-packages/sklearn/neural_network/_multilayer_perceptron.py:571: ConvergenceWarning:\n",
            "\n",
            "Stochastic Optimizer: Maximum iterations (200) reached and the optimization hasn't converged yet.\n",
            "\n"
          ],
          "name": "stderr"
        },
        {
          "output_type": "stream",
          "text": [
            "15\n"
          ],
          "name": "stdout"
        },
        {
          "output_type": "stream",
          "text": [
            "/usr/local/lib/python3.7/dist-packages/sklearn/neural_network/_multilayer_perceptron.py:571: ConvergenceWarning:\n",
            "\n",
            "Stochastic Optimizer: Maximum iterations (200) reached and the optimization hasn't converged yet.\n",
            "\n"
          ],
          "name": "stderr"
        },
        {
          "output_type": "stream",
          "text": [
            "16\n"
          ],
          "name": "stdout"
        },
        {
          "output_type": "stream",
          "text": [
            "/usr/local/lib/python3.7/dist-packages/sklearn/neural_network/_multilayer_perceptron.py:571: ConvergenceWarning:\n",
            "\n",
            "Stochastic Optimizer: Maximum iterations (200) reached and the optimization hasn't converged yet.\n",
            "\n"
          ],
          "name": "stderr"
        },
        {
          "output_type": "stream",
          "text": [
            "17\n"
          ],
          "name": "stdout"
        },
        {
          "output_type": "stream",
          "text": [
            "/usr/local/lib/python3.7/dist-packages/sklearn/neural_network/_multilayer_perceptron.py:571: ConvergenceWarning:\n",
            "\n",
            "Stochastic Optimizer: Maximum iterations (200) reached and the optimization hasn't converged yet.\n",
            "\n"
          ],
          "name": "stderr"
        },
        {
          "output_type": "stream",
          "text": [
            "18\n"
          ],
          "name": "stdout"
        },
        {
          "output_type": "stream",
          "text": [
            "/usr/local/lib/python3.7/dist-packages/sklearn/neural_network/_multilayer_perceptron.py:571: ConvergenceWarning:\n",
            "\n",
            "Stochastic Optimizer: Maximum iterations (200) reached and the optimization hasn't converged yet.\n",
            "\n"
          ],
          "name": "stderr"
        },
        {
          "output_type": "stream",
          "text": [
            "19\n"
          ],
          "name": "stdout"
        },
        {
          "output_type": "stream",
          "text": [
            "/usr/local/lib/python3.7/dist-packages/sklearn/neural_network/_multilayer_perceptron.py:571: ConvergenceWarning:\n",
            "\n",
            "Stochastic Optimizer: Maximum iterations (200) reached and the optimization hasn't converged yet.\n",
            "\n"
          ],
          "name": "stderr"
        },
        {
          "output_type": "stream",
          "text": [
            "20\n"
          ],
          "name": "stdout"
        },
        {
          "output_type": "stream",
          "text": [
            "/usr/local/lib/python3.7/dist-packages/sklearn/neural_network/_multilayer_perceptron.py:571: ConvergenceWarning:\n",
            "\n",
            "Stochastic Optimizer: Maximum iterations (200) reached and the optimization hasn't converged yet.\n",
            "\n"
          ],
          "name": "stderr"
        },
        {
          "output_type": "stream",
          "text": [
            "21\n"
          ],
          "name": "stdout"
        },
        {
          "output_type": "stream",
          "text": [
            "/usr/local/lib/python3.7/dist-packages/sklearn/neural_network/_multilayer_perceptron.py:571: ConvergenceWarning:\n",
            "\n",
            "Stochastic Optimizer: Maximum iterations (200) reached and the optimization hasn't converged yet.\n",
            "\n"
          ],
          "name": "stderr"
        },
        {
          "output_type": "stream",
          "text": [
            "22\n"
          ],
          "name": "stdout"
        },
        {
          "output_type": "stream",
          "text": [
            "/usr/local/lib/python3.7/dist-packages/sklearn/neural_network/_multilayer_perceptron.py:571: ConvergenceWarning:\n",
            "\n",
            "Stochastic Optimizer: Maximum iterations (200) reached and the optimization hasn't converged yet.\n",
            "\n"
          ],
          "name": "stderr"
        },
        {
          "output_type": "stream",
          "text": [
            "23\n"
          ],
          "name": "stdout"
        },
        {
          "output_type": "stream",
          "text": [
            "/usr/local/lib/python3.7/dist-packages/sklearn/neural_network/_multilayer_perceptron.py:571: ConvergenceWarning:\n",
            "\n",
            "Stochastic Optimizer: Maximum iterations (200) reached and the optimization hasn't converged yet.\n",
            "\n"
          ],
          "name": "stderr"
        },
        {
          "output_type": "stream",
          "text": [
            "24\n"
          ],
          "name": "stdout"
        },
        {
          "output_type": "stream",
          "text": [
            "/usr/local/lib/python3.7/dist-packages/sklearn/neural_network/_multilayer_perceptron.py:571: ConvergenceWarning:\n",
            "\n",
            "Stochastic Optimizer: Maximum iterations (200) reached and the optimization hasn't converged yet.\n",
            "\n"
          ],
          "name": "stderr"
        },
        {
          "output_type": "stream",
          "text": [
            "25\n"
          ],
          "name": "stdout"
        },
        {
          "output_type": "stream",
          "text": [
            "/usr/local/lib/python3.7/dist-packages/sklearn/neural_network/_multilayer_perceptron.py:571: ConvergenceWarning:\n",
            "\n",
            "Stochastic Optimizer: Maximum iterations (200) reached and the optimization hasn't converged yet.\n",
            "\n"
          ],
          "name": "stderr"
        },
        {
          "output_type": "stream",
          "text": [
            "26\n"
          ],
          "name": "stdout"
        },
        {
          "output_type": "stream",
          "text": [
            "/usr/local/lib/python3.7/dist-packages/sklearn/neural_network/_multilayer_perceptron.py:571: ConvergenceWarning:\n",
            "\n",
            "Stochastic Optimizer: Maximum iterations (200) reached and the optimization hasn't converged yet.\n",
            "\n"
          ],
          "name": "stderr"
        },
        {
          "output_type": "stream",
          "text": [
            "time: 14min 12s (started: 2021-08-24 02:12:40 +00:00)\n"
          ],
          "name": "stdout"
        }
      ]
    },
    {
      "cell_type": "code",
      "metadata": {
        "colab": {
          "base_uri": "https://localhost:8080/"
        },
        "id": "cVvRm-1HBX_O",
        "outputId": "cf422e53-8345-417f-cf86-5c73daa370d1"
      },
      "source": [
        "# Mesmo com max_iter=1000, nao converge\n",
        "q, it, train_time = train(MLPRegressor(learning_rate='adaptive', max_iter = 1000), x, init_q(h))\n",
        "save_exec(ALG, 'none', 'mlp', 'learning_rate=adaptive', GAMMA, it, train_time, q)"
      ],
      "execution_count": null,
      "outputs": [
        {
          "output_type": "stream",
          "text": [
            "1\n"
          ],
          "name": "stdout"
        },
        {
          "output_type": "stream",
          "text": [
            "/usr/local/lib/python3.7/dist-packages/sklearn/neural_network/_multilayer_perceptron.py:571: ConvergenceWarning:\n",
            "\n",
            "Stochastic Optimizer: Maximum iterations (1000) reached and the optimization hasn't converged yet.\n",
            "\n"
          ],
          "name": "stderr"
        },
        {
          "output_type": "stream",
          "text": [
            "2\n"
          ],
          "name": "stdout"
        },
        {
          "output_type": "stream",
          "text": [
            "/usr/local/lib/python3.7/dist-packages/sklearn/neural_network/_multilayer_perceptron.py:571: ConvergenceWarning:\n",
            "\n",
            "Stochastic Optimizer: Maximum iterations (1000) reached and the optimization hasn't converged yet.\n",
            "\n"
          ],
          "name": "stderr"
        },
        {
          "output_type": "stream",
          "text": [
            "3\n"
          ],
          "name": "stdout"
        },
        {
          "output_type": "stream",
          "text": [
            "/usr/local/lib/python3.7/dist-packages/sklearn/neural_network/_multilayer_perceptron.py:571: ConvergenceWarning:\n",
            "\n",
            "Stochastic Optimizer: Maximum iterations (1000) reached and the optimization hasn't converged yet.\n",
            "\n"
          ],
          "name": "stderr"
        },
        {
          "output_type": "stream",
          "text": [
            "4\n"
          ],
          "name": "stdout"
        },
        {
          "output_type": "stream",
          "text": [
            "/usr/local/lib/python3.7/dist-packages/sklearn/neural_network/_multilayer_perceptron.py:571: ConvergenceWarning:\n",
            "\n",
            "Stochastic Optimizer: Maximum iterations (1000) reached and the optimization hasn't converged yet.\n",
            "\n"
          ],
          "name": "stderr"
        },
        {
          "output_type": "stream",
          "text": [
            "5\n"
          ],
          "name": "stdout"
        },
        {
          "output_type": "stream",
          "text": [
            "/usr/local/lib/python3.7/dist-packages/sklearn/neural_network/_multilayer_perceptron.py:571: ConvergenceWarning:\n",
            "\n",
            "Stochastic Optimizer: Maximum iterations (1000) reached and the optimization hasn't converged yet.\n",
            "\n"
          ],
          "name": "stderr"
        },
        {
          "output_type": "stream",
          "text": [
            "6\n"
          ],
          "name": "stdout"
        },
        {
          "output_type": "stream",
          "text": [
            "/usr/local/lib/python3.7/dist-packages/sklearn/neural_network/_multilayer_perceptron.py:571: ConvergenceWarning:\n",
            "\n",
            "Stochastic Optimizer: Maximum iterations (1000) reached and the optimization hasn't converged yet.\n",
            "\n"
          ],
          "name": "stderr"
        },
        {
          "output_type": "stream",
          "text": [
            "7\n"
          ],
          "name": "stdout"
        },
        {
          "output_type": "stream",
          "text": [
            "/usr/local/lib/python3.7/dist-packages/sklearn/neural_network/_multilayer_perceptron.py:571: ConvergenceWarning:\n",
            "\n",
            "Stochastic Optimizer: Maximum iterations (1000) reached and the optimization hasn't converged yet.\n",
            "\n"
          ],
          "name": "stderr"
        },
        {
          "output_type": "stream",
          "text": [
            "8\n"
          ],
          "name": "stdout"
        },
        {
          "output_type": "stream",
          "text": [
            "/usr/local/lib/python3.7/dist-packages/sklearn/neural_network/_multilayer_perceptron.py:571: ConvergenceWarning:\n",
            "\n",
            "Stochastic Optimizer: Maximum iterations (1000) reached and the optimization hasn't converged yet.\n",
            "\n"
          ],
          "name": "stderr"
        },
        {
          "output_type": "stream",
          "text": [
            "9\n"
          ],
          "name": "stdout"
        },
        {
          "output_type": "stream",
          "text": [
            "/usr/local/lib/python3.7/dist-packages/sklearn/neural_network/_multilayer_perceptron.py:571: ConvergenceWarning:\n",
            "\n",
            "Stochastic Optimizer: Maximum iterations (1000) reached and the optimization hasn't converged yet.\n",
            "\n"
          ],
          "name": "stderr"
        },
        {
          "output_type": "stream",
          "text": [
            "10\n"
          ],
          "name": "stdout"
        },
        {
          "output_type": "stream",
          "text": [
            "/usr/local/lib/python3.7/dist-packages/sklearn/neural_network/_multilayer_perceptron.py:571: ConvergenceWarning:\n",
            "\n",
            "Stochastic Optimizer: Maximum iterations (1000) reached and the optimization hasn't converged yet.\n",
            "\n"
          ],
          "name": "stderr"
        },
        {
          "output_type": "stream",
          "text": [
            "11\n"
          ],
          "name": "stdout"
        },
        {
          "output_type": "stream",
          "text": [
            "/usr/local/lib/python3.7/dist-packages/sklearn/neural_network/_multilayer_perceptron.py:571: ConvergenceWarning:\n",
            "\n",
            "Stochastic Optimizer: Maximum iterations (1000) reached and the optimization hasn't converged yet.\n",
            "\n"
          ],
          "name": "stderr"
        },
        {
          "output_type": "stream",
          "text": [
            "12\n"
          ],
          "name": "stdout"
        },
        {
          "output_type": "stream",
          "text": [
            "/usr/local/lib/python3.7/dist-packages/sklearn/neural_network/_multilayer_perceptron.py:571: ConvergenceWarning:\n",
            "\n",
            "Stochastic Optimizer: Maximum iterations (1000) reached and the optimization hasn't converged yet.\n",
            "\n"
          ],
          "name": "stderr"
        },
        {
          "output_type": "stream",
          "text": [
            "13\n"
          ],
          "name": "stdout"
        },
        {
          "output_type": "stream",
          "text": [
            "/usr/local/lib/python3.7/dist-packages/sklearn/neural_network/_multilayer_perceptron.py:571: ConvergenceWarning:\n",
            "\n",
            "Stochastic Optimizer: Maximum iterations (1000) reached and the optimization hasn't converged yet.\n",
            "\n"
          ],
          "name": "stderr"
        },
        {
          "output_type": "stream",
          "text": [
            "14\n"
          ],
          "name": "stdout"
        },
        {
          "output_type": "stream",
          "text": [
            "/usr/local/lib/python3.7/dist-packages/sklearn/neural_network/_multilayer_perceptron.py:571: ConvergenceWarning:\n",
            "\n",
            "Stochastic Optimizer: Maximum iterations (1000) reached and the optimization hasn't converged yet.\n",
            "\n"
          ],
          "name": "stderr"
        },
        {
          "output_type": "stream",
          "text": [
            "15\n"
          ],
          "name": "stdout"
        },
        {
          "output_type": "stream",
          "text": [
            "/usr/local/lib/python3.7/dist-packages/sklearn/neural_network/_multilayer_perceptron.py:571: ConvergenceWarning:\n",
            "\n",
            "Stochastic Optimizer: Maximum iterations (1000) reached and the optimization hasn't converged yet.\n",
            "\n"
          ],
          "name": "stderr"
        },
        {
          "output_type": "stream",
          "text": [
            "16\n"
          ],
          "name": "stdout"
        },
        {
          "output_type": "stream",
          "text": [
            "/usr/local/lib/python3.7/dist-packages/sklearn/neural_network/_multilayer_perceptron.py:571: ConvergenceWarning:\n",
            "\n",
            "Stochastic Optimizer: Maximum iterations (1000) reached and the optimization hasn't converged yet.\n",
            "\n"
          ],
          "name": "stderr"
        },
        {
          "output_type": "stream",
          "text": [
            "17\n"
          ],
          "name": "stdout"
        },
        {
          "output_type": "stream",
          "text": [
            "/usr/local/lib/python3.7/dist-packages/sklearn/neural_network/_multilayer_perceptron.py:571: ConvergenceWarning:\n",
            "\n",
            "Stochastic Optimizer: Maximum iterations (1000) reached and the optimization hasn't converged yet.\n",
            "\n"
          ],
          "name": "stderr"
        },
        {
          "output_type": "stream",
          "text": [
            "18\n"
          ],
          "name": "stdout"
        },
        {
          "output_type": "stream",
          "text": [
            "/usr/local/lib/python3.7/dist-packages/sklearn/neural_network/_multilayer_perceptron.py:571: ConvergenceWarning:\n",
            "\n",
            "Stochastic Optimizer: Maximum iterations (1000) reached and the optimization hasn't converged yet.\n",
            "\n"
          ],
          "name": "stderr"
        },
        {
          "output_type": "stream",
          "text": [
            "19\n"
          ],
          "name": "stdout"
        },
        {
          "output_type": "stream",
          "text": [
            "/usr/local/lib/python3.7/dist-packages/sklearn/neural_network/_multilayer_perceptron.py:571: ConvergenceWarning:\n",
            "\n",
            "Stochastic Optimizer: Maximum iterations (1000) reached and the optimization hasn't converged yet.\n",
            "\n"
          ],
          "name": "stderr"
        },
        {
          "output_type": "stream",
          "text": [
            "20\n"
          ],
          "name": "stdout"
        },
        {
          "output_type": "stream",
          "text": [
            "/usr/local/lib/python3.7/dist-packages/sklearn/neural_network/_multilayer_perceptron.py:571: ConvergenceWarning:\n",
            "\n",
            "Stochastic Optimizer: Maximum iterations (1000) reached and the optimization hasn't converged yet.\n",
            "\n"
          ],
          "name": "stderr"
        },
        {
          "output_type": "stream",
          "text": [
            "21\n"
          ],
          "name": "stdout"
        },
        {
          "output_type": "stream",
          "text": [
            "/usr/local/lib/python3.7/dist-packages/sklearn/neural_network/_multilayer_perceptron.py:571: ConvergenceWarning:\n",
            "\n",
            "Stochastic Optimizer: Maximum iterations (1000) reached and the optimization hasn't converged yet.\n",
            "\n"
          ],
          "name": "stderr"
        },
        {
          "output_type": "stream",
          "text": [
            "22\n"
          ],
          "name": "stdout"
        },
        {
          "output_type": "stream",
          "text": [
            "/usr/local/lib/python3.7/dist-packages/sklearn/neural_network/_multilayer_perceptron.py:571: ConvergenceWarning:\n",
            "\n",
            "Stochastic Optimizer: Maximum iterations (1000) reached and the optimization hasn't converged yet.\n",
            "\n"
          ],
          "name": "stderr"
        },
        {
          "output_type": "stream",
          "text": [
            "23\n"
          ],
          "name": "stdout"
        },
        {
          "output_type": "stream",
          "text": [
            "/usr/local/lib/python3.7/dist-packages/sklearn/neural_network/_multilayer_perceptron.py:571: ConvergenceWarning:\n",
            "\n",
            "Stochastic Optimizer: Maximum iterations (1000) reached and the optimization hasn't converged yet.\n",
            "\n"
          ],
          "name": "stderr"
        },
        {
          "output_type": "stream",
          "text": [
            "24\n"
          ],
          "name": "stdout"
        },
        {
          "output_type": "stream",
          "text": [
            "/usr/local/lib/python3.7/dist-packages/sklearn/neural_network/_multilayer_perceptron.py:571: ConvergenceWarning:\n",
            "\n",
            "Stochastic Optimizer: Maximum iterations (1000) reached and the optimization hasn't converged yet.\n",
            "\n"
          ],
          "name": "stderr"
        },
        {
          "output_type": "stream",
          "text": [
            "time: 31min 46s (started: 2021-08-24 02:26:53 +00:00)\n"
          ],
          "name": "stdout"
        }
      ]
    },
    {
      "cell_type": "code",
      "metadata": {
        "colab": {
          "base_uri": "https://localhost:8080/"
        },
        "id": "b_DJFOKwjncf",
        "outputId": "fc4c71b8-c686-4e6c-c6a1-105f9223cabe"
      },
      "source": [
        "q, it, train_time = train(MLPRegressor(learning_rate = 'adaptive', activation = 'logistic'), x, init_q(h))\n",
        "save_exec(ALG, 'none', 'mlp', 'learning_rate=adaptive, activation=logistic', GAMMA, it, train_time, q)"
      ],
      "execution_count": null,
      "outputs": [
        {
          "output_type": "stream",
          "text": [
            "1\n"
          ],
          "name": "stdout"
        },
        {
          "output_type": "stream",
          "text": [
            "/usr/local/lib/python3.7/dist-packages/sklearn/neural_network/_multilayer_perceptron.py:571: ConvergenceWarning:\n",
            "\n",
            "Stochastic Optimizer: Maximum iterations (200) reached and the optimization hasn't converged yet.\n",
            "\n"
          ],
          "name": "stderr"
        },
        {
          "output_type": "stream",
          "text": [
            "2\n"
          ],
          "name": "stdout"
        },
        {
          "output_type": "stream",
          "text": [
            "/usr/local/lib/python3.7/dist-packages/sklearn/neural_network/_multilayer_perceptron.py:571: ConvergenceWarning:\n",
            "\n",
            "Stochastic Optimizer: Maximum iterations (200) reached and the optimization hasn't converged yet.\n",
            "\n"
          ],
          "name": "stderr"
        },
        {
          "output_type": "stream",
          "text": [
            "3\n"
          ],
          "name": "stdout"
        },
        {
          "output_type": "stream",
          "text": [
            "/usr/local/lib/python3.7/dist-packages/sklearn/neural_network/_multilayer_perceptron.py:571: ConvergenceWarning:\n",
            "\n",
            "Stochastic Optimizer: Maximum iterations (200) reached and the optimization hasn't converged yet.\n",
            "\n"
          ],
          "name": "stderr"
        },
        {
          "output_type": "stream",
          "text": [
            "4\n"
          ],
          "name": "stdout"
        },
        {
          "output_type": "stream",
          "text": [
            "/usr/local/lib/python3.7/dist-packages/sklearn/neural_network/_multilayer_perceptron.py:571: ConvergenceWarning:\n",
            "\n",
            "Stochastic Optimizer: Maximum iterations (200) reached and the optimization hasn't converged yet.\n",
            "\n"
          ],
          "name": "stderr"
        },
        {
          "output_type": "stream",
          "text": [
            "5\n"
          ],
          "name": "stdout"
        },
        {
          "output_type": "stream",
          "text": [
            "/usr/local/lib/python3.7/dist-packages/sklearn/neural_network/_multilayer_perceptron.py:571: ConvergenceWarning:\n",
            "\n",
            "Stochastic Optimizer: Maximum iterations (200) reached and the optimization hasn't converged yet.\n",
            "\n"
          ],
          "name": "stderr"
        },
        {
          "output_type": "stream",
          "text": [
            "6\n"
          ],
          "name": "stdout"
        },
        {
          "output_type": "stream",
          "text": [
            "/usr/local/lib/python3.7/dist-packages/sklearn/neural_network/_multilayer_perceptron.py:571: ConvergenceWarning:\n",
            "\n",
            "Stochastic Optimizer: Maximum iterations (200) reached and the optimization hasn't converged yet.\n",
            "\n"
          ],
          "name": "stderr"
        },
        {
          "output_type": "stream",
          "text": [
            "7\n"
          ],
          "name": "stdout"
        },
        {
          "output_type": "stream",
          "text": [
            "/usr/local/lib/python3.7/dist-packages/sklearn/neural_network/_multilayer_perceptron.py:571: ConvergenceWarning:\n",
            "\n",
            "Stochastic Optimizer: Maximum iterations (200) reached and the optimization hasn't converged yet.\n",
            "\n"
          ],
          "name": "stderr"
        },
        {
          "output_type": "stream",
          "text": [
            "time: 4min 13s (started: 2021-08-24 02:58:39 +00:00)\n"
          ],
          "name": "stdout"
        }
      ]
    },
    {
      "cell_type": "code",
      "metadata": {
        "colab": {
          "base_uri": "https://localhost:8080/"
        },
        "id": "KGfZzK0TIzUp",
        "outputId": "978b8426-e963-4eee-d610-6623b0d6d9b6"
      },
      "source": [
        "q, it, train_time = train(MLPRegressor(learning_rate = 'adaptive', activation = 'logistic', hidden_layer_sizes=(50,50)), x, init_q(h))\n",
        "save_exec(ALG, 'none', 'mlp', 'learning_rate=adaptive, activation=logistic, hidden_layers=(50,50)', GAMMA, it, train_time, q)"
      ],
      "execution_count": null,
      "outputs": [
        {
          "output_type": "stream",
          "text": [
            "1\n"
          ],
          "name": "stdout"
        },
        {
          "output_type": "stream",
          "text": [
            "/usr/local/lib/python3.7/dist-packages/sklearn/neural_network/_multilayer_perceptron.py:571: ConvergenceWarning:\n",
            "\n",
            "Stochastic Optimizer: Maximum iterations (200) reached and the optimization hasn't converged yet.\n",
            "\n"
          ],
          "name": "stderr"
        },
        {
          "output_type": "stream",
          "text": [
            "2\n"
          ],
          "name": "stdout"
        },
        {
          "output_type": "stream",
          "text": [
            "/usr/local/lib/python3.7/dist-packages/sklearn/neural_network/_multilayer_perceptron.py:571: ConvergenceWarning:\n",
            "\n",
            "Stochastic Optimizer: Maximum iterations (200) reached and the optimization hasn't converged yet.\n",
            "\n"
          ],
          "name": "stderr"
        },
        {
          "output_type": "stream",
          "text": [
            "3\n"
          ],
          "name": "stdout"
        },
        {
          "output_type": "stream",
          "text": [
            "/usr/local/lib/python3.7/dist-packages/sklearn/neural_network/_multilayer_perceptron.py:571: ConvergenceWarning:\n",
            "\n",
            "Stochastic Optimizer: Maximum iterations (200) reached and the optimization hasn't converged yet.\n",
            "\n"
          ],
          "name": "stderr"
        },
        {
          "output_type": "stream",
          "text": [
            "4\n"
          ],
          "name": "stdout"
        },
        {
          "output_type": "stream",
          "text": [
            "/usr/local/lib/python3.7/dist-packages/sklearn/neural_network/_multilayer_perceptron.py:571: ConvergenceWarning:\n",
            "\n",
            "Stochastic Optimizer: Maximum iterations (200) reached and the optimization hasn't converged yet.\n",
            "\n"
          ],
          "name": "stderr"
        },
        {
          "output_type": "stream",
          "text": [
            "5\n"
          ],
          "name": "stdout"
        },
        {
          "output_type": "stream",
          "text": [
            "/usr/local/lib/python3.7/dist-packages/sklearn/neural_network/_multilayer_perceptron.py:571: ConvergenceWarning:\n",
            "\n",
            "Stochastic Optimizer: Maximum iterations (200) reached and the optimization hasn't converged yet.\n",
            "\n"
          ],
          "name": "stderr"
        },
        {
          "output_type": "stream",
          "text": [
            "time: 3min 12s (started: 2021-08-24 03:02:53 +00:00)\n"
          ],
          "name": "stdout"
        }
      ]
    },
    {
      "cell_type": "markdown",
      "metadata": {
        "id": "M9ZOaiO2Gxxn"
      },
      "source": [
        "#### NFQ - RProp"
      ]
    },
    {
      "cell_type": "code",
      "metadata": {
        "colab": {
          "base_uri": "https://localhost:8080/"
        },
        "id": "LrwzPDO5rzj_",
        "outputId": "be0d1f81-c588-4324-8a61-908e14a70735"
      },
      "source": [
        "#Pra comparar com as primeiras execucoes de MLP, que usa Relu por padrao\n",
        "network = Input(x.shape[1]) >> Relu(50) >> Relu(50) >> Relu(1)\n",
        "q, it, train_time = train(algorithms.RPROP(network), x, init_q(h))\n",
        "save_exec(ALG, 'none', 'RPROP', '50,50_relu', GAMMA, it, train_time, q)"
      ],
      "execution_count": null,
      "outputs": [
        {
          "output_type": "stream",
          "text": [
            "WARNING:tensorflow:From /usr/local/lib/python3.7/dist-packages/tensorflow/python/framework/op_def_library.py:263: colocate_with (from tensorflow.python.framework.ops) is deprecated and will be removed in a future version.\n",
            "Instructions for updating:\n",
            "Colocations handled automatically by placer.\n",
            "1\n"
          ],
          "name": "stdout"
        },
        {
          "output_type": "stream",
          "text": [
            ""
          ],
          "name": "stderr"
        },
        {
          "output_type": "stream",
          "text": [
            "2\n"
          ],
          "name": "stdout"
        },
        {
          "output_type": "stream",
          "text": [
            ""
          ],
          "name": "stderr"
        },
        {
          "output_type": "stream",
          "text": [
            "3\n"
          ],
          "name": "stdout"
        },
        {
          "output_type": "stream",
          "text": [
            ""
          ],
          "name": "stderr"
        },
        {
          "output_type": "stream",
          "text": [
            "4\n"
          ],
          "name": "stdout"
        },
        {
          "output_type": "stream",
          "text": [
            ""
          ],
          "name": "stderr"
        },
        {
          "output_type": "stream",
          "text": [
            "5\n"
          ],
          "name": "stdout"
        },
        {
          "output_type": "stream",
          "text": [
            ""
          ],
          "name": "stderr"
        },
        {
          "output_type": "stream",
          "text": [
            "6\n"
          ],
          "name": "stdout"
        },
        {
          "output_type": "stream",
          "text": [
            ""
          ],
          "name": "stderr"
        },
        {
          "output_type": "stream",
          "text": [
            "7\n"
          ],
          "name": "stdout"
        },
        {
          "output_type": "stream",
          "text": [
            ""
          ],
          "name": "stderr"
        },
        {
          "output_type": "stream",
          "text": [
            "8\n"
          ],
          "name": "stdout"
        },
        {
          "output_type": "stream",
          "text": [
            ""
          ],
          "name": "stderr"
        },
        {
          "output_type": "stream",
          "text": [
            "9\n"
          ],
          "name": "stdout"
        },
        {
          "output_type": "stream",
          "text": [
            ""
          ],
          "name": "stderr"
        },
        {
          "output_type": "stream",
          "text": [
            "10\n"
          ],
          "name": "stdout"
        },
        {
          "output_type": "stream",
          "text": [
            ""
          ],
          "name": "stderr"
        },
        {
          "output_type": "stream",
          "text": [
            "11\n"
          ],
          "name": "stdout"
        },
        {
          "output_type": "stream",
          "text": [
            ""
          ],
          "name": "stderr"
        },
        {
          "output_type": "stream",
          "text": [
            "12\n"
          ],
          "name": "stdout"
        },
        {
          "output_type": "stream",
          "text": [
            ""
          ],
          "name": "stderr"
        },
        {
          "output_type": "stream",
          "text": [
            "13\n"
          ],
          "name": "stdout"
        },
        {
          "output_type": "stream",
          "text": [
            ""
          ],
          "name": "stderr"
        },
        {
          "output_type": "stream",
          "text": [
            "time: 4min 54s (started: 2021-08-24 03:06:06 +00:00)\n"
          ],
          "name": "stdout"
        }
      ]
    },
    {
      "cell_type": "code",
      "metadata": {
        "colab": {
          "base_uri": "https://localhost:8080/"
        },
        "id": "7ZdIcojcHBip",
        "outputId": "de98afaf-235c-48e1-c21f-1ceeddc5ca7f"
      },
      "source": [
        "#network = Input(x.shape[1]) >> Sigmoid(500) >> Sigmoid(500) >> Sigmoid(1)\n",
        "q, it, train_time = train(algorithms.RPROP(network), x, init_q(h))\n",
        "save_exec(ALG, 'none', 'RPROP', '500,500-Sigmoid', GAMMA, it, train_time, q)"
      ],
      "execution_count": null,
      "outputs": [
        {
          "output_type": "stream",
          "text": [
            "1\n"
          ],
          "name": "stdout"
        },
        {
          "output_type": "stream",
          "text": [
            ""
          ],
          "name": "stderr"
        },
        {
          "output_type": "stream",
          "text": [
            "2\n"
          ],
          "name": "stdout"
        },
        {
          "output_type": "stream",
          "text": [
            ""
          ],
          "name": "stderr"
        },
        {
          "output_type": "stream",
          "text": [
            "3\n"
          ],
          "name": "stdout"
        },
        {
          "output_type": "stream",
          "text": [
            ""
          ],
          "name": "stderr"
        },
        {
          "output_type": "stream",
          "text": [
            "4\n"
          ],
          "name": "stdout"
        },
        {
          "output_type": "stream",
          "text": [
            ""
          ],
          "name": "stderr"
        },
        {
          "output_type": "stream",
          "text": [
            "5\n"
          ],
          "name": "stdout"
        },
        {
          "output_type": "stream",
          "text": [
            ""
          ],
          "name": "stderr"
        },
        {
          "output_type": "stream",
          "text": [
            "6\n"
          ],
          "name": "stdout"
        },
        {
          "output_type": "stream",
          "text": [
            ""
          ],
          "name": "stderr"
        },
        {
          "output_type": "stream",
          "text": [
            "7\n"
          ],
          "name": "stdout"
        },
        {
          "output_type": "stream",
          "text": [
            ""
          ],
          "name": "stderr"
        },
        {
          "output_type": "stream",
          "text": [
            "8\n"
          ],
          "name": "stdout"
        },
        {
          "output_type": "stream",
          "text": [
            ""
          ],
          "name": "stderr"
        },
        {
          "output_type": "stream",
          "text": [
            "9\n"
          ],
          "name": "stdout"
        },
        {
          "output_type": "stream",
          "text": [
            ""
          ],
          "name": "stderr"
        },
        {
          "output_type": "stream",
          "text": [
            "10\n"
          ],
          "name": "stdout"
        },
        {
          "output_type": "stream",
          "text": [
            ""
          ],
          "name": "stderr"
        },
        {
          "output_type": "stream",
          "text": [
            "11\n"
          ],
          "name": "stdout"
        },
        {
          "output_type": "stream",
          "text": [
            ""
          ],
          "name": "stderr"
        },
        {
          "output_type": "stream",
          "text": [
            "12\n"
          ],
          "name": "stdout"
        },
        {
          "output_type": "stream",
          "text": [
            ""
          ],
          "name": "stderr"
        },
        {
          "output_type": "stream",
          "text": [
            "time: 4min 5s (started: 2021-08-24 03:11:00 +00:00)\n"
          ],
          "name": "stdout"
        }
      ]
    },
    {
      "cell_type": "code",
      "metadata": {
        "id": "P-2yWFRj8YQw",
        "colab": {
          "base_uri": "https://localhost:8080/"
        },
        "outputId": "2e40f657-c52e-4734-db1b-017fe2acd3d5"
      },
      "source": [
        "#network = Input(x.shape[1]) >> Sigmoid(100) >> Sigmoid(1)\n",
        "q, it, train_time = train(algorithms.RPROP(network), x, init_q(h))\n",
        "save_exec(ALG, 'none', 'RPROP', '100-Sigmoid', GAMMA, it, train_time, q)"
      ],
      "execution_count": null,
      "outputs": [
        {
          "output_type": "stream",
          "text": [
            "1\n"
          ],
          "name": "stdout"
        },
        {
          "output_type": "stream",
          "text": [
            ""
          ],
          "name": "stderr"
        },
        {
          "output_type": "stream",
          "text": [
            "2\n"
          ],
          "name": "stdout"
        },
        {
          "output_type": "stream",
          "text": [
            ""
          ],
          "name": "stderr"
        },
        {
          "output_type": "stream",
          "text": [
            "3\n"
          ],
          "name": "stdout"
        },
        {
          "output_type": "stream",
          "text": [
            ""
          ],
          "name": "stderr"
        },
        {
          "output_type": "stream",
          "text": [
            "4\n"
          ],
          "name": "stdout"
        },
        {
          "output_type": "stream",
          "text": [
            ""
          ],
          "name": "stderr"
        },
        {
          "output_type": "stream",
          "text": [
            "5\n"
          ],
          "name": "stdout"
        },
        {
          "output_type": "stream",
          "text": [
            ""
          ],
          "name": "stderr"
        },
        {
          "output_type": "stream",
          "text": [
            "6\n"
          ],
          "name": "stdout"
        },
        {
          "output_type": "stream",
          "text": [
            ""
          ],
          "name": "stderr"
        },
        {
          "output_type": "stream",
          "text": [
            "7\n"
          ],
          "name": "stdout"
        },
        {
          "output_type": "stream",
          "text": [
            ""
          ],
          "name": "stderr"
        },
        {
          "output_type": "stream",
          "text": [
            "8\n"
          ],
          "name": "stdout"
        },
        {
          "output_type": "stream",
          "text": [
            ""
          ],
          "name": "stderr"
        },
        {
          "output_type": "stream",
          "text": [
            "9\n"
          ],
          "name": "stdout"
        },
        {
          "output_type": "stream",
          "text": [
            ""
          ],
          "name": "stderr"
        },
        {
          "output_type": "stream",
          "text": [
            "10\n"
          ],
          "name": "stdout"
        },
        {
          "output_type": "stream",
          "text": [
            ""
          ],
          "name": "stderr"
        },
        {
          "output_type": "stream",
          "text": [
            "11\n"
          ],
          "name": "stdout"
        },
        {
          "output_type": "stream",
          "text": [
            ""
          ],
          "name": "stderr"
        },
        {
          "output_type": "stream",
          "text": [
            "12\n"
          ],
          "name": "stdout"
        },
        {
          "output_type": "stream",
          "text": [
            ""
          ],
          "name": "stderr"
        },
        {
          "output_type": "stream",
          "text": [
            "time: 3min 46s (started: 2021-08-24 03:15:06 +00:00)\n"
          ],
          "name": "stdout"
        }
      ]
    }
  ]
}